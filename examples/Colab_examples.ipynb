{
  "nbformat": 4,
  "nbformat_minor": 0,
  "metadata": {
    "colab": {
      "name": "Colab examples.ipynb",
      "provenance": [],
      "collapsed_sections": [
        "zC_u9zE5uU8q",
        "BaCkyg5CV5jF",
        "hauvGV4hV-Mh",
        "c2W5A2px3doP",
        "7taylj9wpsA2",
        "jRQ5_yMcqJiV",
        "xXWkWjrfXU8p",
        "xViptyI4Hj53"
      ],
      "include_colab_link": true
    },
    "kernelspec": {
      "name": "python3",
      "display_name": "Python 3"
    }
  },
  "cells": [
    {
      "cell_type": "markdown",
      "metadata": {
        "id": "view-in-github",
        "colab_type": "text"
      },
      "source": [
        "<a href=\"https://colab.research.google.com/github/ketanhdoshi/ml/blob/master/examples/Colab_examples.ipynb\" target=\"_parent\"><img src=\"https://colab.research.google.com/assets/colab-badge.svg\" alt=\"Open In Colab\"/></a>"
      ]
    },
    {
      "cell_type": "markdown",
      "metadata": {
        "id": "zC_u9zE5uU8q"
      },
      "source": [
        "## Kaggle API access example"
      ]
    },
    {
      "cell_type": "markdown",
      "metadata": {
        "id": "4Dop1d-SU1By"
      },
      "source": [
        "**NB: The logic below is now contained in the data_lib.kaggle_data()**"
      ]
    },
    {
      "cell_type": "code",
      "metadata": {
        "id": "akJ8fvsfGVdn",
        "colab": {
          "resources": {
            "http://localhost:8080/nbextensions/google.colab/files.js": {
              "data": "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",
              "ok": true,
              "headers": [
                [
                  "content-type",
                  "application/javascript"
                ]
              ],
              "status": 200,
              "status_text": ""
            }
          },
          "base_uri": "https://localhost:8080/",
          "height": 35
        },
        "outputId": "b23301ca-f1dd-42c4-b43c-49dea2bc01c6"
      },
      "source": [
        "# Run this cell and select the kaggle.json file downloaded\n",
        "# from the Kaggle account settings page.\n",
        "from google.colab import files\n",
        "files.upload()"
      ],
      "execution_count": null,
      "outputs": [
        {
          "output_type": "display_data",
          "data": {
            "text/html": [
              "\n",
              "     <input type=\"file\" id=\"files-1ee6c5dc-439d-4c58-9dd1-61a1a6001fe3\" name=\"files[]\" multiple disabled />\n",
              "     <output id=\"result-1ee6c5dc-439d-4c58-9dd1-61a1a6001fe3\">\n",
              "      Upload widget is only available when the cell has been executed in the\n",
              "      current browser session. Please rerun this cell to enable.\n",
              "      </output>\n",
              "      <script src=\"/nbextensions/google.colab/files.js\"></script> "
            ],
            "text/plain": [
              "<IPython.core.display.HTML object>"
            ]
          },
          "metadata": {
            "tags": []
          }
        }
      ]
    },
    {
      "cell_type": "code",
      "metadata": {
        "id": "cDLXrqcNGlU7",
        "colab": {
          "base_uri": "https://localhost:8080/",
          "height": 34
        },
        "outputId": "7e936d29-63c8-4bad-e8b3-37d918a719c8"
      },
      "source": [
        "# Let's make sure the kaggle.json file is present.\n",
        "!ls -lha kaggle.json"
      ],
      "execution_count": null,
      "outputs": [
        {
          "output_type": "stream",
          "text": [
            "-rw-r--r-- 1 root root 64 Jun  1 20:46 kaggle.json\r\n"
          ],
          "name": "stdout"
        }
      ]
    },
    {
      "cell_type": "code",
      "metadata": {
        "id": "QITWh1N5GoqG"
      },
      "source": [
        "# Next, install the Kaggle API client.\n",
        "!pip install -q kaggle\n",
        "\n",
        "# NB: In one of the subsequent cells below, if you get an error saying that you're using \n",
        "# an old Kaggle API version, then run the following commands instead of the one above\n",
        "#!pip uninstall -y kaggle\n",
        "#!pip install --upgrade pip\n",
        "#!pip install kaggle==1.5.6\n",
        "!kaggle -v"
      ],
      "execution_count": null,
      "outputs": []
    },
    {
      "cell_type": "code",
      "metadata": {
        "id": "KixiXyagGy7Y"
      },
      "source": [
        "# The Kaggle API client expects this file to be in ~/.kaggle,\n",
        "# so move it there.\n",
        "!mkdir -p ~/.kaggle\n",
        "!cp kaggle.json ~/.kaggle/\n",
        "\n",
        "# This permissions change avoids a warning on Kaggle tool startup.\n",
        "!chmod 600 ~/.kaggle/kaggle.json"
      ],
      "execution_count": null,
      "outputs": []
    },
    {
      "cell_type": "code",
      "metadata": {
        "id": "rPZaJ7oOGuyh",
        "colab": {
          "base_uri": "https://localhost:8080/",
          "height": 411
        },
        "outputId": "a00d767e-c171-42ed-a1bf-e4976b13ca5f"
      },
      "source": [
        "# List available datasets.\n",
        "!kaggle datasets list\n",
        "\n",
        "# List available competitions\n",
        "!kaggle competitions list"
      ],
      "execution_count": null,
      "outputs": [
        {
          "output_type": "stream",
          "text": [
            "ref                                                             title                                     size  lastUpdated          downloadCount  \r\n",
            "--------------------------------------------------------------  ---------------------------------------  -----  -------------------  -------------  \r\n",
            "stackoverflow/stack-overflow-2018-developer-survey              Stack Overflow 2018 Developer Survey      20MB  2018-05-15 16:59:54            376  \r\n",
            "ruslankl/mice-protein-expression                                Mice Protein Expression                  987KB  2018-05-06 15:09:39            311  \r\n",
            "jameslko/gun-violence-data                                      Gun Violence Data                         34MB  2018-04-15 06:18:09           5438  \r\n",
            "jessicali9530/honey-production                                  Honey Production In The USA (1998-2012)   80KB  2018-04-09 23:31:19           2384  \r\n",
            "donorschoose/io                                                 Data Science For Good: DonorsChoose.org    1GB  2018-05-14 19:26:30           3858  \r\n",
            "datafiniti/grammar-and-online-product-reviews                   Grammar and Online Product Reviews         9MB  2018-02-15 17:20:27            572  \r\n",
            "datagov/usa-names                                               USA Name Data                            335MB  2018-04-20 22:14:20              0  \r\n",
            "nycopendata/new-york                                            NYC Open Data                            189GB  2018-04-19 17:22:13              0  \r\n",
            "ardamavi/sign-language-digits-dataset                           Sign Language Digits Dataset               8MB  2017-12-24 16:08:56           1344  \r\n",
            "unitednations/global-commodity-trade-statistics                 Global Commodity Trade Statistics        121MB  2017-11-14 23:55:11           2248  \r\n",
            "moltean/fruits                                                  Fruits 360 dataset                       198MB  2018-05-26 08:05:33           3717  \r\n",
            "goldenoakresearch/us-acs-mortgage-equity-loans-rent-statistics  Insightful & Vast USA Statistics          10MB  2018-05-19 19:35:52           1510  \r\n",
            "ainslie/usda-wasde-monthly-corn-soybean-projections             Corn & Soybean Prices 2008-2017          487KB  2018-05-10 00:14:43            714  \r\n",
            "paultimothymooney/blood-cells                                   Blood Cell Images                        113MB  2018-04-21 21:06:13           1785  \r\n",
            "xvivancos/star-wars-movie-scripts                               Star Wars Movie Scripts                  268KB  2018-05-07 13:57:15            593  \r\n",
            "skihikingkevin/pubg-match-deaths                                PUBG Match Deaths and Statistics           4GB  2018-01-12 15:22:04           2674  \r\n",
            "sayangoswami/reddit-memes-dataset                               Reddit Memes Dataset                     634MB  2018-04-16 19:13:18            396  \r\n",
            "google/tinyquickdraw                                            QuickDraw Sketches                        11GB  2018-04-18 19:38:04            107  \r\n",
            "joaoevangelista/wta-matches-and-rankings                        WTA Matches and Rankings                  20MB  2017-11-15 03:01:12            705  \r\n",
            "vikasg/russian-troll-tweets                                     Russian Troll Tweets                      21MB  2018-02-15 00:49:04           1153  \r\n"
          ],
          "name": "stdout"
        }
      ]
    },
    {
      "cell_type": "code",
      "metadata": {
        "id": "0hyJ4Rb5HMwH",
        "colab": {
          "base_uri": "https://localhost:8080/",
          "height": 54
        },
        "outputId": "046e79f7-b040-45f1-9aa2-1b07dd3b3289"
      },
      "source": [
        "# Copy the stackoverflow dataset locally.\n",
        "!kaggle datasets download -d stackoverflow/stack-overflow-2018-developer-survey\n",
        "\n",
        "# Copy the carvana competition data locally\n",
        "# If you get a 403-Forbidden error, then you have to login to Kaggle, go to that competition's page,\n",
        "# navigate to the Rules tab and accept the terms and conditions\n",
        "#!kaggle competitions download -c carvana-image-masking-challenge"
      ],
      "execution_count": null,
      "outputs": [
        {
          "output_type": "stream",
          "text": [
            "stack-overflow-2018-developer-survey.zip: Downloaded 20MB of 20MB to /content/.kaggle/datasets/stackoverflow/stack-overflow-2018-developer-survey\n"
          ],
          "name": "stdout"
        }
      ]
    },
    {
      "cell_type": "code",
      "metadata": {
        "id": "8FgC4GlvHZQ1",
        "colab": {
          "base_uri": "https://localhost:8080/",
          "height": 207
        },
        "outputId": "d9c67cc2-7087-4e3c-d16a-a4be4d81965f"
      },
      "source": [
        "!head ~/.kaggle/datasets/stackoverflow/stack-overflow-2018-developer-survey/survey_results_public.csv"
      ],
      "execution_count": null,
      "outputs": [
        {
          "output_type": "stream",
          "text": [
            "Respondent,Hobby,OpenSource,Country,Student,Employment,FormalEducation,UndergradMajor,CompanySize,DevType,YearsCoding,YearsCodingProf,JobSatisfaction,CareerSatisfaction,HopeFiveYears,JobSearchStatus,LastNewJob,AssessJob1,AssessJob2,AssessJob3,AssessJob4,AssessJob5,AssessJob6,AssessJob7,AssessJob8,AssessJob9,AssessJob10,AssessBenefits1,AssessBenefits2,AssessBenefits3,AssessBenefits4,AssessBenefits5,AssessBenefits6,AssessBenefits7,AssessBenefits8,AssessBenefits9,AssessBenefits10,AssessBenefits11,JobContactPriorities1,JobContactPriorities2,JobContactPriorities3,JobContactPriorities4,JobContactPriorities5,JobEmailPriorities1,JobEmailPriorities2,JobEmailPriorities3,JobEmailPriorities4,JobEmailPriorities5,JobEmailPriorities6,JobEmailPriorities7,UpdateCV,Currency,Salary,SalaryType,ConvertedSalary,CurrencySymbol,CommunicationTools,TimeFullyProductive,EducationTypes,SelfTaughtTypes,TimeAfterBootcamp,HackathonReasons,AgreeDisagree1,AgreeDisagree2,AgreeDisagree3,LanguageWorkedWith,LanguageDesireNextYear,DatabaseWorkedWith,DatabaseDesireNextYear,PlatformWorkedWith,PlatformDesireNextYear,FrameworkWorkedWith,FrameworkDesireNextYear,IDE,OperatingSystem,NumberMonitors,Methodology,VersionControl,CheckInCode,AdBlocker,AdBlockerDisable,AdBlockerReasons,AdsAgreeDisagree1,AdsAgreeDisagree2,AdsAgreeDisagree3,AdsActions,AdsPriorities1,AdsPriorities2,AdsPriorities3,AdsPriorities4,AdsPriorities5,AdsPriorities6,AdsPriorities7,AIDangerous,AIInteresting,AIResponsible,AIFuture,EthicsChoice,EthicsReport,EthicsResponsible,EthicalImplications,StackOverflowRecommend,StackOverflowVisit,StackOverflowHasAccount,StackOverflowParticipate,StackOverflowJobs,StackOverflowDevStory,StackOverflowJobsRecommend,StackOverflowConsiderMember,HypotheticalTools1,HypotheticalTools2,HypotheticalTools3,HypotheticalTools4,HypotheticalTools5,WakeTime,HoursComputer,HoursOutside,SkipMeals,ErgonomicDevices,Exercise,Gender,SexualOrientation,EducationParents,RaceEthnicity,Age,Dependents,MilitaryUS,SurveyTooLong,SurveyEasy\r\n",
            "1,Yes,No,Kenya,No,Employed part-time,\"Bachelor’s degree (BA, BS, B.Eng., etc.)\",Mathematics or statistics,20 to 99 employees,Full-stack developer,3-5 years,3-5 years,Extremely satisfied,Extremely satisfied,Working as a founder or co-founder of my own company,\"I’m not actively looking, but I am open to new opportunities\",Less than a year ago,10,7,8,1,2,5,3,4,9,6,NA,NA,NA,NA,NA,NA,NA,NA,NA,NA,NA,3,1,4,2,5,5,6,7,2,1,4,3,My job status or other personal status changed,NA,NA,Monthly,NA,KES,Slack,One to three months,\"Taught yourself a new language, framework, or tool without taking a formal course;Participated in a hackathon\",\"The official documentation and/or standards for the technology;A book or e-book from O’Reilly, Apress, or a similar publisher;Questions & answers on Stack Overflow;Online developer communities other than Stack Overflow (ex. forums, listservs, IRC channels, etc.)\",NA,To build my professional network,Strongly agree,Strongly agree,Neither Agree nor Disagree,JavaScript;Python;HTML;CSS,JavaScript;Python;HTML;CSS,\"Redis;SQL Server;MySQL;PostgreSQL;Amazon RDS/Aurora;Microsoft Azure (Tables, CosmosDB, SQL, etc)\",\"Redis;SQL Server;MySQL;PostgreSQL;Amazon RDS/Aurora;Microsoft Azure (Tables, CosmosDB, SQL, etc)\",AWS;Azure;Linux;Firebase,AWS;Azure;Linux;Firebase,Django;React,Django;React,Komodo;Vim;Visual Studio Code,Linux-based,1,Agile;Scrum,Git,Multiple times per day,Yes,No,NA,Strongly agree,Strongly agree,Strongly agree,Saw an online advertisement and then researched it (without clicking on the ad);Stopped going to a website because of their advertising,1,5,4,7,2,6,3,\"Artificial intelligence surpassing human intelligence (\"\"the singularity\"\")\",Algorithms making important decisions,The developers or the people creating the AI,I'm excited about the possibilities more than worried about the dangers.,No,\"Yes, and publicly\",Upper management at the company/organization,Yes,10 (Very Likely),Multiple times per day,Yes,I have never participated in Q&A on Stack Overflow,\"No, I knew that Stack Overflow had a jobs board but have never used or visited it\",Yes,NA,Yes,Extremely interested,Extremely interested,Extremely interested,Extremely interested,Extremely interested,Between 5:00 - 6:00 AM,9 - 12 hours,1 - 2 hours,Never,Standing desk,3 - 4 times per week,Male,Straight or heterosexual,\"Bachelor’s degree (BA, BS, B.Eng., etc.)\",Black or of African descent,25 - 34 years old,Yes,NA,The survey was an appropriate length,Very easy\r\n",
            "3,Yes,Yes,United Kingdom,No,Employed full-time,\"Bachelor’s degree (BA, BS, B.Eng., etc.)\",\"A natural science (ex. biology, chemistry, physics)\",\"10,000 or more employees\",Database administrator;DevOps specialist;Full-stack developer;System administrator,30 or more years,18-20 years,Moderately dissatisfied,Neither satisfied nor dissatisfied,Working in a different or more specialized technical role than the one I'm in now,I am actively looking for a job,More than 4 years ago,1,7,10,8,2,5,4,3,6,9,1,5,3,7,10,4,11,9,6,2,8,3,1,5,2,4,1,3,4,5,2,6,7,I saw an employer’s advertisement,British pounds sterling (£),51000,Yearly,70841,GBP,\"Confluence;Office / productivity suite (Microsoft Office, Google Suite, etc.);Slack;Other wiki tool (Github, Google Sites, proprietary software, etc.)\",One to three months,\"Taught yourself a new language, framework, or tool without taking a formal course;Contributed to open source software\",The official documentation and/or standards for the technology;Questions & answers on Stack Overflow,NA,NA,Agree,Agree,Neither Agree nor Disagree,JavaScript;Python;Bash/Shell,Go;Python,Redis;PostgreSQL;Memcached,PostgreSQL,Linux,Linux,Django,React,IPython / Jupyter;Sublime Text;Vim,Linux-based,2,NA,Git;Subversion,A few times per week,Yes,Yes,The website I was visiting asked me to disable it,Somewhat agree,Neither agree nor disagree,Neither agree nor disagree,NA,3,5,1,4,6,7,2,Increasing automation of jobs,Increasing automation of jobs,The developers or the people creating the AI,I'm excited about the possibilities more than worried about the dangers.,Depends on what it is,Depends on what it is,Upper management at the company/organization,Yes,10 (Very Likely),A few times per month or weekly,Yes,A few times per month or weekly,Yes,\"No, I have one but it's out of date\",7,Yes,A little bit interested,A little bit interested,A little bit interested,A little bit interested,A little bit interested,Between 6:01 - 7:00 AM,5 - 8 hours,30 - 59 minutes,Never,Ergonomic keyboard or mouse,Daily or almost every day,Male,Straight or heterosexual,\"Bachelor’s degree (BA, BS, B.Eng., etc.)\",White or of European descent,35 - 44 years old,Yes,NA,The survey was an appropriate length,Somewhat easy\r\n",
            "4,Yes,Yes,United States,No,Employed full-time,Associate degree,\"Computer science, computer engineering, or software engineering\",20 to 99 employees,Engineering manager;Full-stack developer,24-26 years,6-8 years,Moderately satisfied,Moderately satisfied,Working as a founder or co-founder of my own company,\"I’m not actively looking, but I am open to new opportunities\",Less than a year ago,NA,NA,NA,NA,NA,NA,NA,NA,NA,NA,NA,NA,NA,NA,NA,NA,NA,NA,NA,NA,NA,NA,NA,NA,NA,NA,NA,NA,NA,NA,NA,NA,NA,NA,NA,NA,NA,NA,NA,NA,NA,NA,NA,NA,NA,NA,NA,NA,NA,NA,NA,NA,NA,NA,NA,NA,NA,NA,NA,NA,NA,NA,NA,NA,NA,NA,NA,NA,NA,NA,NA,NA,NA,NA,NA,NA,NA,NA,NA,NA,NA,NA,NA,NA,NA,NA,NA,NA,NA,NA,NA,NA,NA,NA,NA,NA,NA,NA,NA,NA,NA,NA,NA,NA,NA,NA,NA,NA,NA,NA,NA,NA\r\n",
            "5,No,No,United States,No,Employed full-time,\"Bachelor’s degree (BA, BS, B.Eng., etc.)\",\"Computer science, computer engineering, or software engineering\",100 to 499 employees,Full-stack developer,18-20 years,12-14 years,Neither satisfied nor dissatisfied,Slightly dissatisfied,Working as a founder or co-founder of my own company,\"I’m not actively looking, but I am open to new opportunities\",Less than a year ago,NA,NA,NA,NA,NA,NA,NA,NA,NA,NA,NA,NA,NA,NA,NA,NA,NA,NA,NA,NA,NA,NA,NA,NA,NA,NA,NA,NA,NA,NA,NA,NA,NA,A recruiter contacted me,U.S. dollars ($),NA,NA,NA,NA,NA,Three to six months,\"Completed an industry certification program (e.g. MCPD);Taught yourself a new language, framework, or tool without taking a formal course\",\"The official documentation and/or standards for the technology;A book or e-book from O’Reilly, Apress, or a similar publisher;Questions & answers on Stack Overflow;The technology’s online help system\",NA,NA,Disagree,Disagree,Strongly disagree,C#;JavaScript;SQL;TypeScript;HTML;CSS;Bash/Shell,C#;JavaScript;SQL;TypeScript;HTML;CSS;Bash/Shell,\"SQL Server;Microsoft Azure (Tables, CosmosDB, SQL, etc)\",\"SQL Server;Microsoft Azure (Tables, CosmosDB, SQL, etc)\",Azure,Azure,NA,Angular;.NET Core;React,Visual Studio;Visual Studio Code,Windows,2,Agile;Kanban;Scrum,Git,Multiple times per day,Yes,Yes,The ad-blocking software was causing display issues on a website,Neither agree nor disagree,Somewhat agree,Somewhat agree,Stopped going to a website because of their advertising,NA,NA,NA,NA,NA,NA,NA,\"Artificial intelligence surpassing human intelligence (\"\"the singularity\"\")\",\"Artificial intelligence surpassing human intelligence (\"\"the singularity\"\")\",A governmental or other regulatory body,\"I don't care about it, or I haven't thought about it.\",No,\"Yes, but only within the company\",Upper management at the company/organization,Yes,10 (Very Likely),A few times per week,Yes,A few times per month or weekly,Yes,\"No, I have one but it's out of date\",8,Yes,Somewhat interested,Somewhat interested,Somewhat interested,Somewhat interested,Somewhat interested,Between 6:01 - 7:00 AM,9 - 12 hours,Less than 30 minutes,3 - 4 times per week,NA,I don't typically exercise,Male,Straight or heterosexual,Some college/university study without earning a degree,White or of European descent,35 - 44 years old,No,No,The survey was an appropriate length,Somewhat easy\r\n",
            "7,Yes,No,South Africa,\"Yes, part-time\",Employed full-time,Some college/university study without earning a degree,\"Computer science, computer engineering, or software engineering\",\"10,000 or more employees\",Data or business analyst;Desktop or enterprise applications developer;Game or graphics developer;QA or test developer;Student,6-8 years,0-2 years,Slightly satisfied,Moderately satisfied,Working in a different or more specialized technical role than the one I'm in now,\"I’m not actively looking, but I am open to new opportunities\",Between 1 and 2 years ago,8,5,7,1,2,6,4,3,10,9,1,10,2,4,8,3,11,7,5,9,6,2,1,4,5,3,7,3,6,2,1,4,5,My job status or other personal status changed,South African rands (R),260000,Yearly,21426,ZAR,\"Office / productivity suite (Microsoft Office, Google Suite, etc.)\",Three to six months,\"Taken a part-time in-person course in programming or software development;Received on-the-job training in software development;Taught yourself a new language, framework, or tool without taking a formal course\",\"The official documentation and/or standards for the technology;A book or e-book from O’Reilly, Apress, or a similar publisher;Questions & answers on Stack Overflow\",NA,NA,Strongly agree,Agree,Strongly disagree,C;C++;Java;Matlab;R;SQL;Bash/Shell,Assembly;C;C++;Matlab;SQL;Bash/Shell,SQL Server;PostgreSQL;Oracle;IBM Db2,PostgreSQL;Oracle;IBM Db2,Arduino;Windows Desktop or Server,Arduino;Windows Desktop or Server,NA,NA,Notepad++;Visual Studio;Visual Studio Code,Windows,2,Evidence-based software engineering;Formal standard such as ISO 9001 or IEEE 12207 (aka “waterfall” methodologies),Zip file back-ups,Weekly or a few times per month,No,NA,NA,Somewhat agree,Somewhat agree,Somewhat disagree,Clicked on an online advertisement;Saw an online advertisement and then researched it (without clicking on the ad),2,3,4,6,1,7,5,Algorithms making important decisions,Algorithms making important decisions,The developers or the people creating the AI,I'm excited about the possibilities more than worried about the dangers.,No,\"Yes, but only within the company\",Upper management at the company/organization,Yes,10 (Very Likely),Daily or almost daily,Yes,Less than once per month or monthly,\"No, I knew that Stack Overflow had a jobs board but have never used or visited it\",\"No, I know what it is but I don't have one\",NA,Yes,Extremely interested,Extremely interested,Extremely interested,Extremely interested,Extremely interested,Before 5:00 AM,Over 12 hours,1 - 2 hours,Never,NA,3 - 4 times per week,Male,Straight or heterosexual,Some college/university study without earning a degree,White or of European descent,18 - 24 years old,Yes,NA,The survey was an appropriate length,Somewhat easy\r\n",
            "8,Yes,No,United Kingdom,No,Employed full-time,\"Bachelor’s degree (BA, BS, B.Eng., etc.)\",\"Computer science, computer engineering, or software engineering\",10 to 19 employees,Back-end developer;Database administrator;Front-end developer;Full-stack developer,6-8 years,3-5 years,Moderately satisfied,Slightly satisfied,Working in a different or more specialized technical role than the one I'm in now,I am actively looking for a job,Between 2 and 4 years ago,8,5,4,9,1,3,6,2,10,7,1,3,4,10,9,2,6,5,11,7,8,4,2,5,1,3,2,6,7,3,1,5,4,I did not receive an expected change in compensation,British pounds sterling (£),30000,NA,41671,GBP,\"Confluence;Jira;Office / productivity suite (Microsoft Office, Google Suite, etc.);Other chat system (IRC, proprietary software, etc.)\",Less than a month,\"Received on-the-job training in software development;Taught yourself a new language, framework, or tool without taking a formal course;Participated in online coding competitions (e.g. HackerRank, CodeChef, TopCoder)\",\"The official documentation and/or standards for the technology;Online developer communities other than Stack Overflow (ex. forums, listservs, IRC channels, etc.)\",NA,\"To improve my general technical skills or programming ability;To improve my knowledge of a specific programming language, framework, or other technology;Because I find it enjoyable\",Disagree,Neither Agree nor Disagree,Strongly disagree,Java;JavaScript;Python;TypeScript;HTML;CSS,C#;Go;Java;JavaScript;Python;SQL;TypeScript;HTML;CSS,MongoDB,PostgreSQL,Linux,Linux,Angular;Node.js,Node.js,IntelliJ;PyCharm;Visual Studio Code,Linux-based,2,Agile,Git,A few times per week,Yes,Yes,I wanted to support the website I was visiting by viewing their ads,Somewhat agree,Somewhat agree,Somewhat disagree,Saw an online advertisement and then researched it (without clicking on the ad);Stopped going to a website because of their advertising,1,3,4,2,7,5,6,Increasing automation of jobs,Algorithms making important decisions,A governmental or other regulatory body,I'm excited about the possibilities more than worried about the dangers.,Depends on what it is,Depends on what it is,Upper management at the company/organization,Unsure / I don't know,7,A few times per month or weekly,Yes,Less than once per month or monthly,Yes,\"No, I have one but it's out of date\",8,No,A little bit interested,Not at all interested,Very interested,Very interested,Extremely interested,Between 7:01 - 8:00 AM,9 - 12 hours,30 - 59 minutes,1 - 2 times per week,NA,1 - 2 times per week,Male,Straight or heterosexual,\"Secondary school (e.g. American high school, German Realschule or Gymnasium, etc.)\",White or of European descent,18 - 24 years old,No,NA,The survey was an appropriate length,Somewhat easy\r\n",
            "9,Yes,Yes,United States,No,Employed full-time,Some college/university study without earning a degree,\"Computer science, computer engineering, or software engineering\",\"10,000 or more employees\",Back-end developer;Front-end developer;Full-stack developer,9-11 years,0-2 years,Slightly satisfied,Moderately satisfied,Working as a founder or co-founder of my own company,\"I’m not actively looking, but I am open to new opportunities\",Less than a year ago,5,3,9,4,1,8,2,7,10,6,1,3,2,9,11,4,8,6,7,10,5,3,1,5,4,2,1,5,3,4,2,6,7,My job status or other personal status changed,U.S. dollars ($),120000,Yearly,120000,USD,\"Confluence;Office / productivity suite (Microsoft Office, Google Suite, etc.);Stack Overflow Enterprise;Other chat system (IRC, proprietary software, etc.);Other wiki tool (Github, Google Sites, proprietary software, etc.)\",Six to nine months,\"Received on-the-job training in software development;Taught yourself a new language, framework, or tool without taking a formal course\",\"The official documentation and/or standards for the technology;Questions & answers on Stack Overflow;Online developer communities other than Stack Overflow (ex. forums, listservs, IRC channels, etc.)\",NA,NA,Disagree,Agree,Strongly disagree,JavaScript;HTML;CSS,C;Go;JavaScript;Python;HTML;CSS,MongoDB,NA,Linux,Linux,Node.js;React,React;TensorFlow,Atom;Visual Studio Code,MacOS,2,Agile;Scrum,Git,Multiple times per day,Yes,Yes,The ad-blocking software was causing display issues on a website,Somewhat disagree,Neither agree nor disagree,Somewhat disagree,Clicked on an online advertisement;Stopped going to a website because of their advertising,1,4,2,5,3,7,6,Algorithms making important decisions,\"Artificial intelligence surpassing human intelligence (\"\"the singularity\"\")\",The developers or the people creating the AI,I'm excited about the possibilities more than worried about the dangers.,Depends on what it is,\"Yes, but only within the company\",Upper management at the company/organization,Yes,10 (Very Likely),Multiple times per day,Yes,I have never participated in Q&A on Stack Overflow,Yes,\"No, I have one but it's out of date\",7,No,Very interested,A little bit interested,Extremely interested,Very interested,Very interested,Between 9:01 - 10:00 AM,Over 12 hours,Less than 30 minutes,1 - 2 times per week,NA,I don't typically exercise,Male,Straight or heterosexual,\"Master’s degree (MA, MS, M.Eng., MBA, etc.)\",White or of European descent,18 - 24 years old,No,No,The survey was an appropriate length,Somewhat easy\r\n",
            "10,Yes,Yes,Nigeria,No,Employed full-time,\"Bachelor’s degree (BA, BS, B.Eng., etc.)\",\"Computer science, computer engineering, or software engineering\",10 to 19 employees,Designer;Front-end developer;QA or test developer,0-2 years,3-5 years,Slightly satisfied,Moderately satisfied,Working as a founder or co-founder of my own company,\"I’m not actively looking, but I am open to new opportunities\",Less than a year ago,6,5,4,2,7,8,10,1,9,3,1,3,5,7,6,2,11,9,4,10,8,1,3,2,4,5,2,6,1,3,7,5,4,I saw an employer’s advertisement,NA,NA,NA,NA,NA,\"Facebook;Google Hangouts/Chat;Office / productivity suite (Microsoft Office, Google Suite, etc.);Slack;Trello;Other wiki tool (Github, Google Sites, proprietary software, etc.)\",One to three months,\"Taken an online course in programming or software development (e.g. a MOOC);Participated in a full-time developer training program or bootcamp;Received on-the-job training in software development;Participated in online coding competitions (e.g. HackerRank, CodeChef, TopCoder);Contributed to open source software\",NA,Immediately after graduating,\"To improve my general technical skills or programming ability;To improve my knowledge of a specific programming language, framework, or other technology;To improve my ability to work on a team with other programmers;Because I find it enjoyable\",Strongly agree,Strongly disagree,Neither Agree nor Disagree,JavaScript;TypeScript;HTML;CSS,Matlab;SQL;Kotlin;Bash/Shell,\"MongoDB;MySQL;Microsoft Azure (Tables, CosmosDB, SQL, etc);Google Cloud Storage\",NA,Azure;Heroku,Amazon Echo;Android;Apple Watch or Apple TV;AWS;Google Cloud Platform/App Engine;Google Home;iOS;WordPress;Firebase,Angular;Node.js,.NET Core;Django,Atom;Notepad++;Sublime Text;Visual Studio Code,Windows,1,Agile;Extreme programming (XP);Scrum,Git,Multiple times per day,Yes,No,NA,Strongly agree,Neither agree nor disagree,Strongly disagree,Saw an online advertisement and then researched it (without clicking on the ad),NA,NA,NA,NA,NA,NA,NA,\"Artificial intelligence surpassing human intelligence (\"\"the singularity\"\")\",\"Evolving definitions of \"\"fairness\"\" in algorithmic versus human decisions\",NA,I'm excited about the possibilities more than worried about the dangers.,Depends on what it is,\"Yes, but only within the company\",The developer who wrote it,Yes,10 (Very Likely),Daily or almost daily,Yes,A few times per month or weekly,\"No, I knew that Stack Overflow had a jobs board but have never used or visited it\",\"No, and I don't know what that is\",NA,Yes,Very interested,Very interested,Very interested,A little bit interested,Extremely interested,I do not have a set schedule,Over 12 hours,1 - 2 hours,Daily or almost every day,NA,1 - 2 times per week,Female,NA,Primary/elementary school,Black or of African descent,25 - 34 years old,No,NA,The survey was too long,Somewhat difficult\r\n",
            "11,Yes,Yes,United States,No,Employed full-time,Some college/university study without earning a degree,\"Fine arts or performing arts (ex. graphic design, music, studio art)\",100 to 499 employees,\"Back-end developer;C-suite executive (CEO, CTO, etc.);Data or business analyst;Database administrator;DevOps specialist;Engineering manager;Full-stack developer;System administrator\",30 or more years,21-23 years,Moderately satisfied,Moderately satisfied,Doing the same work,\"I’m not actively looking, but I am open to new opportunities\",Between 2 and 4 years ago,6,3,7,4,1,5,10,8,9,2,1,3,2,9,11,5,8,4,10,7,6,5,1,2,3,4,3,7,2,4,1,6,5,My job status or other personal status changed,U.S. dollars ($),250000,Yearly,250000,USD,\"Confluence;HipChat;Jira;Office / productivity suite (Microsoft Office, Google Suite, etc.)\",Three to six months,\"Taken an online course in programming or software development (e.g. a MOOC);Taught yourself a new language, framework, or tool without taking a formal course;Participated in a hackathon;Contributed to open source software\",\"The official documentation and/or standards for the technology;A book or e-book from O’Reilly, Apress, or a similar publisher;A college/university computer science or software engineering book;Online developer communities other than Stack Overflow (ex. forums, listservs, IRC channels, etc.);Tapping your network of friends, family, and peers versed in the technology;The technology’s online help system\",NA,Because I find it enjoyable,Strongly agree,Strongly disagree,Strongly disagree,Assembly;CoffeeScript;Erlang;Go;JavaScript;Lua;Python;Ruby;SQL;HTML;CSS;Bash/Shell,Erlang;Go;Python;Rust;SQL,Redis;PostgreSQL;Amazon DynamoDB;Apache HBase;Apache Hive;Amazon Redshift;Amazon RDS/Aurora;Elasticsearch,Redis;PostgreSQL;Amazon DynamoDB;Apache Hive;Amazon RDS/Aurora;Neo4j,Amazon Echo;AWS;iOS;Linux;Mac OS;Serverless,AWS;Linux;Mac OS;Serverless,Hadoop;Node.js;React;Spark,NA,IntelliJ;PyCharm;Sublime Text;Vim,MacOS,1,Agile;Evidence-based software engineering;Extreme programming (XP);Formal standard such as ISO 9001 or IEEE 12207 (aka “waterfall” methodologies);Kanban;Lean;Pair programming;Scrum,Git,Multiple times per day,No,NA,NA,Neither agree nor disagree,Somewhat agree,Neither agree nor disagree,Clicked on an online advertisement;Saw an online advertisement and then researched it (without clicking on the ad);Stopped going to a website because of their advertising,1,3,5,4,2,7,6,Algorithms making important decisions,\"Artificial intelligence surpassing human intelligence (\"\"the singularity\"\")\",The developers or the people creating the AI,I'm worried about the dangers more than I'm excited about the possibilities.,No,\"Yes, and publicly\",The person who came up with the idea,Yes,7,A few times per month or weekly,Yes,Less than once per month or monthly,Yes,Yes,7,No,Not at all interested,Not at all interested,Not at all interested,Not at all interested,Not at all interested,Between 8:01 - 9:00 AM,9 - 12 hours,Less than 30 minutes,1 - 2 times per week,Standing desk;Fatigue-relieving floor mat,I don't typically exercise,Male,Straight or heterosexual,Some college/university study without earning a degree,White or of European descent,35 - 44 years old,Yes,No,The survey was an appropriate length,Very easy\r\n"
          ],
          "name": "stdout"
        }
      ]
    },
    {
      "cell_type": "markdown",
      "metadata": {
        "id": "BaCkyg5CV5jF"
      },
      "source": [
        "## Uploading files from your local file system\n",
        "\n",
        "`files.upload` returns a dictionary of the files which were uploaded.\n",
        "The dictionary is keyed by the file name, the value is the data which was uploaded."
      ]
    },
    {
      "cell_type": "code",
      "metadata": {
        "id": "vz-jH8T_Uk2c"
      },
      "source": [
        "from google.colab import files\n",
        "\n",
        "uploaded = files.upload()\n",
        "\n",
        "for fn in uploaded.keys():\n",
        "  print('User uploaded file \"{name}\" with length {length} bytes'.format(\n",
        "      name=fn, length=len(uploaded[fn])))"
      ],
      "execution_count": null,
      "outputs": []
    },
    {
      "cell_type": "markdown",
      "metadata": {
        "id": "hauvGV4hV-Mh"
      },
      "source": [
        "## Downloading files to your local file system\n",
        "\n",
        "`files.download` will invoke a browser download of the file to the user's local computer.\n"
      ]
    },
    {
      "cell_type": "code",
      "metadata": {
        "id": "p2E4EKhCWEC5"
      },
      "source": [
        "from google.colab import files\n",
        "\n",
        "with open('example.txt', 'w') as f:\n",
        "  f.write('some content')\n",
        "\n",
        "files.download('example.txt')"
      ],
      "execution_count": null,
      "outputs": []
    },
    {
      "cell_type": "markdown",
      "metadata": {
        "id": "c2W5A2px3doP"
      },
      "source": [
        "## Google Drive\n",
        "\n",
        "You can access files in Drive in a number of ways, including:\n",
        "1. Using the [native REST API](https://developers.google.com/drive/v3/web/about-sdk);\n",
        "1. Using a wrapper around the API such as [PyDrive](https://gsuitedevs.github.io/PyDrive/docs/build/html/index.html); or\n",
        "1. Mounting your Google Drive in the runtime's virtual machine.\n",
        "\n",
        "Example of each are below."
      ]
    },
    {
      "cell_type": "markdown",
      "metadata": {
        "id": "u22w3BFiOveA"
      },
      "source": [
        "### Mounting Google Drive locally\n",
        "\n",
        "The example below shows how to mount your Google Drive in your virtual machine using an authorization code, and shows a couple of ways to write & read files there. Once executed, observe the new file (`foo.txt`) is visible in https://drive.google.com/\n",
        "\n",
        "Note this only supports reading and writing files; to programmatically change sharing settings etc use one of the other options below."
      ]
    },
    {
      "cell_type": "code",
      "metadata": {
        "id": "RWSJpsyKqHjH",
        "colab": {
          "base_uri": "https://localhost:8080/",
          "height": 109
        },
        "outputId": "15bd239f-5a6a-447d-dd22-01ee5398b991"
      },
      "source": [
        "from google.colab import drive\n",
        "drive.mount('/content/gdrive')"
      ],
      "execution_count": null,
      "outputs": [
        {
          "output_type": "stream",
          "text": [
            "Go to this URL in a browser: https://accounts.google.com/o/oauth2/auth?client_id=947318989803-6bn6qk8qdgf4n4g3pfee6491hc0brc4i.apps.googleusercontent.com&redirect_uri=urn%3Aietf%3Awg%3Aoauth%3A2.0%3Aoob&scope=email%20https%3A%2F%2Fwww.googleapis.com%2Fauth%2Fdocs.test%20https%3A%2F%2Fwww.googleapis.com%2Fauth%2Fdrive%20https%3A%2F%2Fwww.googleapis.com%2Fauth%2Fdrive.photos.readonly%20https%3A%2F%2Fwww.googleapis.com%2Fauth%2Fpeopleapi.readonly&response_type=code\n",
            "Enter your authorization code:\n",
            "··········\n",
            "Mounted at /content/gdrive\n"
          ],
          "name": "stdout"
        }
      ]
    },
    {
      "cell_type": "code",
      "metadata": {
        "id": "XDg9OBaYqRMd",
        "colab": {
          "base_uri": "https://localhost:8080/",
          "height": 35
        },
        "outputId": "5df8b65d-20d2-4956-b8a7-e99d4579d567"
      },
      "source": [
        "with open('/content/gdrive/My Drive/foo.txt', 'w') as f:\n",
        "  f.write('Hello Google Drive!')\n",
        "!cat /content/gdrive/My\\ Drive/foo.txt"
      ],
      "execution_count": null,
      "outputs": [
        {
          "output_type": "stream",
          "text": [
            "Hello Google Drive!"
          ],
          "name": "stdout"
        }
      ]
    },
    {
      "cell_type": "markdown",
      "metadata": {
        "id": "7taylj9wpsA2"
      },
      "source": [
        "### PyDrive\n",
        "\n",
        "The example below shows 1) authentication, 2) file upload, and 3) file download. More examples are available in the [PyDrive documentation](https://gsuitedevs.github.io/PyDrive/docs/build/html/index.html)"
      ]
    },
    {
      "cell_type": "code",
      "metadata": {
        "id": "zU5b6dlRwUQk",
        "colab": {
          "base_uri": "https://localhost:8080/",
          "height": 53
        },
        "outputId": "60570a07-c670-4cd1-abb7-19504ee91e86"
      },
      "source": [
        "!pip install -U -q PyDrive\n",
        "\n",
        "from pydrive.auth import GoogleAuth\n",
        "from pydrive.drive import GoogleDrive\n",
        "from google.colab import auth\n",
        "from oauth2client.client import GoogleCredentials\n",
        "\n",
        "# 1. Authenticate and create the PyDrive client.\n",
        "auth.authenticate_user()\n",
        "gauth = GoogleAuth()\n",
        "gauth.credentials = GoogleCredentials.get_application_default()\n",
        "drive = GoogleDrive(gauth)\n",
        "\n",
        "# PyDrive reference:\n",
        "# https://gsuitedevs.github.io/PyDrive/docs/build/html/index.html\n",
        "\n",
        "# 2. Create & upload a file text file.\n",
        "uploaded = drive.CreateFile({'title': 'Sample upload.txt'})\n",
        "uploaded.SetContentString('Sample upload file content')\n",
        "uploaded.Upload()\n",
        "print('Uploaded file with ID {}'.format(uploaded.get('id')))\n",
        "\n",
        "# 3. Load a file by ID and print its contents.\n",
        "downloaded = drive.CreateFile({'id': uploaded.get('id')})\n",
        "print('Downloaded content \"{}\"'.format(downloaded.GetContentString()))"
      ],
      "execution_count": null,
      "outputs": [
        {
          "output_type": "stream",
          "text": [
            "Uploaded file with ID 14vDAdqp7BSCQnoougmgylBexIr2AQx2T\n",
            "Downloaded content \"Sample upload file content\"\n"
          ],
          "name": "stdout"
        }
      ]
    },
    {
      "cell_type": "markdown",
      "metadata": {
        "id": "jRQ5_yMcqJiV"
      },
      "source": [
        "### Drive REST API\n",
        "\n",
        "The first step is to authenticate."
      ]
    },
    {
      "cell_type": "code",
      "metadata": {
        "id": "r-exJtdG3XwJ"
      },
      "source": [
        "from google.colab import auth\n",
        "auth.authenticate_user()"
      ],
      "execution_count": null,
      "outputs": []
    },
    {
      "cell_type": "markdown",
      "metadata": {
        "id": "57uSvdv48bp7"
      },
      "source": [
        "Now we can construct a Drive API client."
      ]
    },
    {
      "cell_type": "code",
      "metadata": {
        "id": "1aNyFO958V13"
      },
      "source": [
        "from googleapiclient.discovery import build\n",
        "drive_service = build('drive', 'v3')"
      ],
      "execution_count": null,
      "outputs": []
    },
    {
      "cell_type": "markdown",
      "metadata": {
        "id": "eDLm7MHQEr2U"
      },
      "source": [
        "With the client created, we can use any of the functions in the [Google Drive API reference](https://developers.google.com/drive/v3/reference/). Examples follow.\n"
      ]
    },
    {
      "cell_type": "markdown",
      "metadata": {
        "id": "bRFyEsdfBxJ9"
      },
      "source": [
        "### Creating a new Drive file with data from Python"
      ]
    },
    {
      "cell_type": "code",
      "metadata": {
        "id": "F1-nafvN-NwW",
        "colab": {
          "base_uri": "https://localhost:8080/",
          "height": 53
        },
        "outputId": "4466d27b-edd0-4ef1-8a10-0e180a231af2"
      },
      "source": [
        "# Create a local file to upload.\n",
        "with open('/tmp/to_upload.txt', 'w') as f:\n",
        "  f.write('my sample file')\n",
        "\n",
        "print('/tmp/to_upload.txt contains:')\n",
        "!cat /tmp/to_upload.txt"
      ],
      "execution_count": null,
      "outputs": [
        {
          "output_type": "stream",
          "text": [
            "/tmp/to_upload.txt contains:\n",
            "my sample file"
          ],
          "name": "stdout"
        }
      ]
    },
    {
      "cell_type": "code",
      "metadata": {
        "id": "3Jv6jh6HEpP8",
        "colab": {
          "base_uri": "https://localhost:8080/",
          "height": 35
        },
        "outputId": "cfc1186f-68a1-4620-a18f-99bc6d83e82e"
      },
      "source": [
        "# Upload the file to Drive. See:\n",
        "#\n",
        "# https://developers.google.com/drive/v3/reference/files/create\n",
        "# https://developers.google.com/drive/v3/web/manage-uploads\n",
        "from googleapiclient.http import MediaFileUpload\n",
        "\n",
        "file_metadata = {\n",
        "  'name': 'Sample file',\n",
        "  'mimeType': 'text/plain'\n",
        "}\n",
        "media = MediaFileUpload('/tmp/to_upload.txt', \n",
        "                        mimetype='text/plain',\n",
        "                        resumable=True)\n",
        "created = drive_service.files().create(body=file_metadata,\n",
        "                                       media_body=media,\n",
        "                                       fields='id').execute()\n",
        "print('File ID: {}'.format(created.get('id')))"
      ],
      "execution_count": null,
      "outputs": [
        {
          "output_type": "stream",
          "text": [
            "File ID: 1Cw9CqiyU6zbXFD9ViPZu_3yX-sYF4W17\n"
          ],
          "name": "stdout"
        }
      ]
    },
    {
      "cell_type": "markdown",
      "metadata": {
        "id": "j5VyISCKFrqU"
      },
      "source": [
        "After executing the cell above, a new file named 'Sample file' will appear in your [drive.google.com](https://drive.google.com/) file list. Your file ID will differ since you will have created a new, distinct file from the example above."
      ]
    },
    {
      "cell_type": "markdown",
      "metadata": {
        "id": "P3KX0Sm0E2sF"
      },
      "source": [
        "### Downloading data from a Drive file into Python"
      ]
    },
    {
      "cell_type": "code",
      "metadata": {
        "id": "KHeruhacFpSU",
        "colab": {
          "base_uri": "https://localhost:8080/",
          "height": 35
        },
        "outputId": "dfe7154f-249c-4344-bd62-a3b294ce02b4"
      },
      "source": [
        "# Download the file we just uploaded.\n",
        "#\n",
        "# Replace the assignment below with your file ID\n",
        "# to download a different file.\n",
        "#\n",
        "# A file ID looks like: 1uBtlaggVyWshwcyP6kEI-y_W3P8D26sz\n",
        "file_id = 'target_file_id'\n",
        "\n",
        "import io\n",
        "from googleapiclient.http import MediaIoBaseDownload\n",
        "\n",
        "request = drive_service.files().get_media(fileId=file_id)\n",
        "downloaded = io.BytesIO()\n",
        "downloader = MediaIoBaseDownload(downloaded, request)\n",
        "done = False\n",
        "while done is False:\n",
        "  # _ is a placeholder for a progress object that we ignore.\n",
        "  # (Our file is small, so we skip reporting progress.)\n",
        "  _, done = downloader.next_chunk()\n",
        "\n",
        "downloaded.seek(0)\n",
        "print('Downloaded file contents are: {}'.format(downloaded.read()))"
      ],
      "execution_count": null,
      "outputs": [
        {
          "output_type": "stream",
          "text": [
            "Downloaded file contents are: my sample file\n"
          ],
          "name": "stdout"
        }
      ]
    },
    {
      "cell_type": "markdown",
      "metadata": {
        "id": "xXWkWjrfXU8p"
      },
      "source": [
        "## Set up Tensorboard"
      ]
    },
    {
      "cell_type": "code",
      "metadata": {
        "id": "KM0bVmpTHiPY"
      },
      "source": [
        "# Load the TensorBoard notebook extension\n",
        "%load_ext tensorboard\n",
        "%tensorboard --logdir tbtry"
      ],
      "execution_count": null,
      "outputs": []
    },
    {
      "cell_type": "markdown",
      "metadata": {
        "id": "xViptyI4Hj53"
      },
      "source": [
        "### Obsolete - Setup Tensorboard using ngrok\n",
        "Shows how to setup and access Tensorboard on Colab using ngrok. This is now obsolete. Use the Tensorboard Magic instead."
      ]
    },
    {
      "cell_type": "markdown",
      "metadata": {
        "id": "YzP27LL5cLAY"
      },
      "source": [
        "**To view Tensorboard output locally, use ngrok to tunnel traffic to localhost. First, download and unzip ngrok on the Colab server**"
      ]
    },
    {
      "cell_type": "code",
      "metadata": {
        "id": "QomVFMK8agNm"
      },
      "source": [
        "! wget https://bin.equinox.io/c/4VmDzA7iaHb/ngrok-stable-linux-amd64.zip\n",
        "! unzip ngrok-stable-linux-amd64.zip"
      ],
      "execution_count": null,
      "outputs": []
    },
    {
      "cell_type": "markdown",
      "metadata": {
        "id": "dx9TXX0acOZv"
      },
      "source": [
        "**Get TensorBoard running in the background**"
      ]
    },
    {
      "cell_type": "code",
      "metadata": {
        "id": "jTEsOw98bUY7"
      },
      "source": [
        "# Set the LOGDIR correctly to use Tensorboard\n",
        "LOG_DIR = 'tbtry'\n",
        "\n",
        "get_ipython().system_raw(\n",
        "    'tensorboard --logdir {} --host 0.0.0.0 --port 6006 &'\n",
        "    .format(LOG_DIR)\n",
        ")"
      ],
      "execution_count": null,
      "outputs": []
    },
    {
      "cell_type": "markdown",
      "metadata": {
        "id": "lhztbwBnc_DL"
      },
      "source": [
        "**Launch ngrok background process**"
      ]
    },
    {
      "cell_type": "code",
      "metadata": {
        "id": "JCkaIrwqbfzP"
      },
      "source": [
        "get_ipython().system_raw('./ngrok http 6006 &')"
      ],
      "execution_count": null,
      "outputs": []
    },
    {
      "cell_type": "markdown",
      "metadata": {
        "id": "9BADzHi9dBh6"
      },
      "source": [
        "**We get the public URL where we can access the colab TensorBoard web page. This will output a URL you can click on**"
      ]
    },
    {
      "cell_type": "code",
      "metadata": {
        "id": "RC65XT9PbmyJ",
        "colab": {
          "base_uri": "https://localhost:8080/",
          "height": 34
        },
        "outputId": "23de8d33-ea7c-4f7e-e1cb-a9762bf751af"
      },
      "source": [
        "! curl -s http://localhost:4040/api/tunnels | python3 -c \\\n",
        "    \"import sys, json; print(json.load(sys.stdin)['tunnels'][0]['public_url'])\""
      ],
      "execution_count": null,
      "outputs": [
        {
          "output_type": "stream",
          "text": [
            "https://2536f14f.ngrok.io\n"
          ],
          "name": "stdout"
        }
      ]
    }
  ]
}