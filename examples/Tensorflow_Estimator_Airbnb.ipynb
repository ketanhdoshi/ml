{
  "nbformat": 4,
  "nbformat_minor": 0,
  "metadata": {
    "colab": {
      "name": "Tensorflow Estimator Airbnb.ipynb",
      "provenance": [],
      "collapsed_sections": [],
      "include_colab_link": true
    },
    "kernelspec": {
      "name": "python3",
      "display_name": "Python 3"
    }
  },
  "cells": [
    {
      "cell_type": "markdown",
      "metadata": {
        "id": "view-in-github",
        "colab_type": "text"
      },
      "source": [
        "<a href=\"https://colab.research.google.com/github/ketanhdoshi/ml/blob/master/examples/Tensorflow_Estimator_Airbnb.ipynb\" target=\"_parent\"><img src=\"https://colab.research.google.com/assets/colab-badge.svg\" alt=\"Open In Colab\"/></a>"
      ]
    },
    {
      "cell_type": "markdown",
      "metadata": {
        "id": "PnN0kbiRZdQz"
      },
      "source": [
        "## Complete example using Estimators and airbnb data set to predict rental prices\n",
        "\n",
        "Example of using Estimators, Feature Columns and Input Functions. It also shows how to process input data using Pandas and Dataframes.\n",
        "\n",
        "Based on  this article - https://medium.com/learning-machine-learning/introduction-to-tensorflow-estimators-part-1-39f9eb666bc7\n"
      ]
    },
    {
      "cell_type": "code",
      "metadata": {
        "id": "3TaMseb6ZOD3",
        "colab": {
          "base_uri": "https://localhost:8080/",
          "height": 34
        },
        "outputId": "480ccfae-95b4-4fb1-9d0f-a08c9ab955bf"
      },
      "source": [
        "import tensorflow as tf\n",
        "print(tf.__version__)"
      ],
      "execution_count": null,
      "outputs": [
        {
          "output_type": "stream",
          "text": [
            "1.12.0\n"
          ],
          "name": "stdout"
        }
      ]
    },
    {
      "cell_type": "code",
      "metadata": {
        "id": "GuhmZNlxaVA_"
      },
      "source": [
        "import pandas as pd\n",
        "import numpy as np\n",
        "import matplotlib.pyplot as plt\n",
        "\n",
        "plt.style.use(\"seaborn-colorblind\")\n",
        "%matplotlib inline\n",
        "# only displays the most important warnings\n",
        "tf.logging.set_verbosity(tf.logging.FATAL)"
      ],
      "execution_count": null,
      "outputs": []
    },
    {
      "cell_type": "markdown",
      "metadata": {
        "id": "1iw8DgXVBbM-"
      },
      "source": [
        "### Load the data"
      ]
    },
    {
      "cell_type": "code",
      "metadata": {
        "id": "lV5U0brGh22C",
        "colab": {
          "resources": {
            "http://localhost:8080/nbextensions/google.colab/files.js": {
              "data": "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",
              "ok": true,
              "headers": [
                [
                  "content-type",
                  "application/javascript"
                ]
              ],
              "status": 200,
              "status_text": ""
            }
          },
          "base_uri": "https://localhost:8080/",
          "height": 72
        },
        "outputId": "a415a4b1-2fb8-40e0-9dd4-bbee91bb3ac3"
      },
      "source": [
        "from google.colab import files\n",
        "uploaded = files.upload()"
      ],
      "execution_count": null,
      "outputs": [
        {
          "output_type": "display_data",
          "data": {
            "text/html": [
              "\n",
              "     <input type=\"file\" id=\"files-ceceef19-7b82-4a20-9d75-ac9f1818b40d\" name=\"files[]\" multiple disabled />\n",
              "     <output id=\"result-ceceef19-7b82-4a20-9d75-ac9f1818b40d\">\n",
              "      Upload widget is only available when the cell has been executed in the\n",
              "      current browser session. Please rerun this cell to enable.\n",
              "      </output>\n",
              "      <script src=\"/nbextensions/google.colab/files.js\"></script> "
            ],
            "text/plain": [
              "<IPython.core.display.HTML object>"
            ]
          },
          "metadata": {
            "tags": []
          }
        },
        {
          "output_type": "stream",
          "text": [
            "Saving dummy_listings.csv to dummy_listings.csv\n"
          ],
          "name": "stdout"
        }
      ]
    },
    {
      "cell_type": "code",
      "metadata": {
        "id": "dmkUyYXflU_7",
        "colab": {
          "base_uri": "https://localhost:8080/",
          "height": 34
        },
        "outputId": "e4b9f5bd-5c25-4544-9b33-9de5cc5b2150"
      },
      "source": [
        "!ls"
      ],
      "execution_count": null,
      "outputs": [
        {
          "output_type": "stream",
          "text": [
            "dummy_listings.csv  sample_data\n"
          ],
          "name": "stdout"
        }
      ]
    },
    {
      "cell_type": "code",
      "metadata": {
        "id": "aiIqTaq1h5qO",
        "colab": {
          "base_uri": "https://localhost:8080/",
          "height": 34
        },
        "outputId": "82fd71ce-4bbf-4a60-ebd6-962e375490e6"
      },
      "source": [
        "for fn in uploaded.keys():\n",
        "  print('User uploaded file \"{name}\" with length {length} bytes'.format(\n",
        "      name=fn, length=len(uploaded[fn])))"
      ],
      "execution_count": null,
      "outputs": [
        {
          "output_type": "stream",
          "text": [
            "User uploaded file \"dummy_listings.csv\" with length 905 bytes\n"
          ],
          "name": "stdout"
        }
      ]
    },
    {
      "cell_type": "code",
      "metadata": {
        "id": "cctjMGw8mDGE"
      },
      "source": [
        "import io\n",
        "boston = pd.read_csv(io.StringIO(uploaded['dummy_listings.csv'].decode('utf-8')))"
      ],
      "execution_count": null,
      "outputs": []
    },
    {
      "cell_type": "code",
      "metadata": {
        "id": "rq5F5jB3iUji",
        "colab": {
          "base_uri": "https://localhost:8080/",
          "height": 182
        },
        "outputId": "cc18b3ac-da37-4023-b2c7-545ce7711a29"
      },
      "source": [
        "\n",
        "used_features = ['property_type','room_type','bathrooms','bedrooms','beds','bed_type','accommodates','host_total_listings_count'\n",
        "                ,'number_of_reviews','review_scores_value','neighbourhood_cleansed','cleaning_fee','minimum_nights','security_deposit','host_is_superhost',\n",
        "                 'instant_bookable', 'price']\n",
        "#boston = pd.read_csv(uploaded['dummy_listings.csv'], usecols = used_features)\n",
        "print(boston.shape)\n",
        "boston.head(2)"
      ],
      "execution_count": null,
      "outputs": [
        {
          "output_type": "stream",
          "text": [
            "(7, 18)\n"
          ],
          "name": "stdout"
        },
        {
          "output_type": "execute_result",
          "data": {
            "text/html": [
              "<div>\n",
              "<style scoped>\n",
              "    .dataframe tbody tr th:only-of-type {\n",
              "        vertical-align: middle;\n",
              "    }\n",
              "\n",
              "    .dataframe tbody tr th {\n",
              "        vertical-align: top;\n",
              "    }\n",
              "\n",
              "    .dataframe thead th {\n",
              "        text-align: right;\n",
              "    }\n",
              "</style>\n",
              "<table border=\"1\" class=\"dataframe\">\n",
              "  <thead>\n",
              "    <tr style=\"text-align: right;\">\n",
              "      <th></th>\n",
              "      <th>id</th>\n",
              "      <th>property_type</th>\n",
              "      <th>room_type</th>\n",
              "      <th>bathrooms</th>\n",
              "      <th>bedrooms</th>\n",
              "      <th>beds</th>\n",
              "      <th>bed_typ</th>\n",
              "      <th>accommodates</th>\n",
              "      <th>host_total_listings_count</th>\n",
              "      <th>number_of_reviews</th>\n",
              "      <th>review_scores_value</th>\n",
              "      <th>neighbourhood_cleansed</th>\n",
              "      <th>cleaning_fee</th>\n",
              "      <th>minimum_nights</th>\n",
              "      <th>security_deposit</th>\n",
              "      <th>host_is_superhost</th>\n",
              "      <th>instant_bookable</th>\n",
              "      <th>price</th>\n",
              "    </tr>\n",
              "  </thead>\n",
              "  <tbody>\n",
              "    <tr>\n",
              "      <th>0</th>\n",
              "      <td>3781</td>\n",
              "      <td>House</td>\n",
              "      <td>Entire home/apt</td>\n",
              "      <td>2.0</td>\n",
              "      <td>3.0</td>\n",
              "      <td>1.5</td>\n",
              "      <td>Real Bed</td>\n",
              "      <td>3</td>\n",
              "      <td>7</td>\n",
              "      <td>14</td>\n",
              "      <td>3.7</td>\n",
              "      <td>East Boston</td>\n",
              "      <td>125</td>\n",
              "      <td>30</td>\n",
              "      <td>320</td>\n",
              "      <td>False</td>\n",
              "      <td>True</td>\n",
              "      <td>125</td>\n",
              "    </tr>\n",
              "    <tr>\n",
              "      <th>1</th>\n",
              "      <td>5506</td>\n",
              "      <td>Apartment</td>\n",
              "      <td>Entire home/apt</td>\n",
              "      <td>2.5</td>\n",
              "      <td>4.0</td>\n",
              "      <td>2.0</td>\n",
              "      <td>Real Bed</td>\n",
              "      <td>3</td>\n",
              "      <td>7</td>\n",
              "      <td>75</td>\n",
              "      <td>4.1</td>\n",
              "      <td>Roxbury</td>\n",
              "      <td>125</td>\n",
              "      <td>3</td>\n",
              "      <td>320</td>\n",
              "      <td>False</td>\n",
              "      <td>True</td>\n",
              "      <td>145</td>\n",
              "    </tr>\n",
              "  </tbody>\n",
              "</table>\n",
              "</div>"
            ],
            "text/plain": [
              "     id property_type        room_type  bathrooms  bedrooms  beds   bed_typ  \\\n",
              "0  3781         House  Entire home/apt        2.0       3.0   1.5  Real Bed   \n",
              "1  5506     Apartment  Entire home/apt        2.5       4.0   2.0  Real Bed   \n",
              "\n",
              "   accommodates  host_total_listings_count  number_of_reviews  \\\n",
              "0             3                          7                 14   \n",
              "1             3                          7                 75   \n",
              "\n",
              "   review_scores_value neighbourhood_cleansed  cleaning_fee  minimum_nights  \\\n",
              "0                  3.7            East Boston           125              30   \n",
              "1                  4.1                Roxbury           125               3   \n",
              "\n",
              "   security_deposit  host_is_superhost  instant_bookable  price  \n",
              "0               320              False              True    125  \n",
              "1               320              False              True    145  "
            ]
          },
          "metadata": {
            "tags": []
          },
          "execution_count": 33
        }
      ]
    },
    {
      "cell_type": "markdown",
      "metadata": {
        "id": "IhnRdEmhBXed"
      },
      "source": [
        "### Pre-Process data"
      ]
    },
    {
      "cell_type": "code",
      "metadata": {
        "id": "C8tmnwS5qXFd"
      },
      "source": [
        "for feature in [\"cleaning_fee\",\"security_deposit\",\"price\"]:\n",
        "    boston[feature] = boston[feature].map(lambda x:x.replace(\"$\",'').replace(\",\",''),na_action = 'ignore')\n",
        "    boston[feature] = boston[feature].astype(float)\n",
        "    boston[feature].fillna(boston[feature].median(),inplace = True)\n",
        "    \n",
        "    \n",
        "for feature in [\"bathrooms\",\"bedrooms\",\"beds\",\"review_scores_value\"]:\n",
        "    boston[feature].fillna(boston[feature].median(),inplace = True)\n",
        "    \n",
        "boston['property_type'].fillna('Apartment',inplace = True)"
      ],
      "execution_count": null,
      "outputs": []
    },
    {
      "cell_type": "code",
      "metadata": {
        "id": "xObXYNbXqbQV",
        "colab": {
          "base_uri": "https://localhost:8080/",
          "height": 280
        },
        "outputId": "7fa47958-dfe4-4a8d-c1ce-94bf9f0ed684"
      },
      "source": [
        "boston[\"price\"].plot(kind = 'hist',grid = True)\n",
        "plt.title(\"Price histogram before subsetting and log-transformation\");"
      ],
      "execution_count": null,
      "outputs": [
        {
          "output_type": "display_data",
          "data": {
            "image/png": "[encoded data removed]",
            "text/plain": [
              "<matplotlib.figure.Figure at 0x7f836c9ed7f0>"
            ]
          },
          "metadata": {
            "tags": []
          }
        }
      ]
    },
    {
      "cell_type": "code",
      "metadata": {
        "id": "V92bNvBgz5PL",
        "colab": {
          "base_uri": "https://localhost:8080/",
          "height": 34
        },
        "outputId": "0e4276d4-1a33-4e07-9de3-6bff714699f7"
      },
      "source": [
        "boston['price'].skew()"
      ],
      "execution_count": null,
      "outputs": [
        {
          "output_type": "execute_result",
          "data": {
            "text/plain": [
              "0.23039971176893448"
            ]
          },
          "metadata": {
            "tags": []
          },
          "execution_count": 35
        }
      ]
    },
    {
      "cell_type": "markdown",
      "metadata": {
        "id": "vBORK5WU8Ujl"
      },
      "source": [
        "### Prepare Target data\n",
        "We can also see most of the data falls under 500. So we’ll use a subset of our dataset where the price ranges from 50–500 for now to remove very large and very small prices. We’ll also log-transform the target variable to reduce skewness."
      ]
    },
    {
      "cell_type": "code",
      "metadata": {
        "id": "DVm9fZwi8YtY",
        "colab": {
          "base_uri": "https://localhost:8080/",
          "height": 280
        },
        "outputId": "5fff31f3-ae49-4473-c947-c68bd8f2c1e7"
      },
      "source": [
        "#boston = boston[(boston[\"price\"]>50)&(boston[\"price\"]<500)]\n",
        "boston = boston[(boston[\"price\"]>100)&(boston[\"price\"]<180)]\n",
        "target = np.log(boston.price)\n",
        "target.hist()\n",
        "plt.title(\"Price distribution after the subsetting and log-transformation\");"
      ],
      "execution_count": null,
      "outputs": [
        {
          "output_type": "display_data",
          "data": {
            "image/png": "[encoded data removed]",
            "text/plain": [
              "<matplotlib.figure.Figure at 0x7f836c98d240>"
            ]
          },
          "metadata": {
            "tags": []
          }
        }
      ]
    },
    {
      "cell_type": "markdown",
      "metadata": {
        "id": "EvwItae1BljL"
      },
      "source": [
        "### Prepare Features data"
      ]
    },
    {
      "cell_type": "code",
      "metadata": {
        "id": "4GxrKf2SBoAF",
        "colab": {
          "base_uri": "https://localhost:8080/",
          "height": 261
        },
        "outputId": "cbca54c5-5533-430b-883a-3280bdf2bf81"
      },
      "source": [
        "features = boston.drop('price',axis=1)\n",
        "features.head()"
      ],
      "execution_count": null,
      "outputs": [
        {
          "output_type": "execute_result",
          "data": {
            "text/html": [
              "<div>\n",
              "<style scoped>\n",
              "    .dataframe tbody tr th:only-of-type {\n",
              "        vertical-align: middle;\n",
              "    }\n",
              "\n",
              "    .dataframe tbody tr th {\n",
              "        vertical-align: top;\n",
              "    }\n",
              "\n",
              "    .dataframe thead th {\n",
              "        text-align: right;\n",
              "    }\n",
              "</style>\n",
              "<table border=\"1\" class=\"dataframe\">\n",
              "  <thead>\n",
              "    <tr style=\"text-align: right;\">\n",
              "      <th></th>\n",
              "      <th>id</th>\n",
              "      <th>property_type</th>\n",
              "      <th>room_type</th>\n",
              "      <th>bathrooms</th>\n",
              "      <th>bedrooms</th>\n",
              "      <th>beds</th>\n",
              "      <th>bed_typ</th>\n",
              "      <th>accommodates</th>\n",
              "      <th>host_total_listings_count</th>\n",
              "      <th>number_of_reviews</th>\n",
              "      <th>review_scores_value</th>\n",
              "      <th>neighbourhood_cleansed</th>\n",
              "      <th>cleaning_fee</th>\n",
              "      <th>minimum_nights</th>\n",
              "      <th>security_deposit</th>\n",
              "      <th>host_is_superhost</th>\n",
              "      <th>instant_bookable</th>\n",
              "    </tr>\n",
              "  </thead>\n",
              "  <tbody>\n",
              "    <tr>\n",
              "      <th>0</th>\n",
              "      <td>3781</td>\n",
              "      <td>House</td>\n",
              "      <td>Entire home/apt</td>\n",
              "      <td>2.0</td>\n",
              "      <td>3.0</td>\n",
              "      <td>1.5</td>\n",
              "      <td>Real Bed</td>\n",
              "      <td>3</td>\n",
              "      <td>7</td>\n",
              "      <td>14</td>\n",
              "      <td>3.7</td>\n",
              "      <td>East Boston</td>\n",
              "      <td>125</td>\n",
              "      <td>30</td>\n",
              "      <td>320</td>\n",
              "      <td>False</td>\n",
              "      <td>True</td>\n",
              "    </tr>\n",
              "    <tr>\n",
              "      <th>1</th>\n",
              "      <td>5506</td>\n",
              "      <td>Apartment</td>\n",
              "      <td>Entire home/apt</td>\n",
              "      <td>2.5</td>\n",
              "      <td>4.0</td>\n",
              "      <td>2.0</td>\n",
              "      <td>Real Bed</td>\n",
              "      <td>3</td>\n",
              "      <td>7</td>\n",
              "      <td>75</td>\n",
              "      <td>4.1</td>\n",
              "      <td>Roxbury</td>\n",
              "      <td>125</td>\n",
              "      <td>3</td>\n",
              "      <td>320</td>\n",
              "      <td>False</td>\n",
              "      <td>True</td>\n",
              "    </tr>\n",
              "    <tr>\n",
              "      <th>2</th>\n",
              "      <td>6695</td>\n",
              "      <td>House</td>\n",
              "      <td>Entire home/apt</td>\n",
              "      <td>2.5</td>\n",
              "      <td>4.0</td>\n",
              "      <td>2.0</td>\n",
              "      <td>Real Bed</td>\n",
              "      <td>3</td>\n",
              "      <td>5</td>\n",
              "      <td>77</td>\n",
              "      <td>4.4</td>\n",
              "      <td>Roxbury</td>\n",
              "      <td>165</td>\n",
              "      <td>3</td>\n",
              "      <td>270</td>\n",
              "      <td>False</td>\n",
              "      <td>False</td>\n",
              "    </tr>\n",
              "    <tr>\n",
              "      <th>5</th>\n",
              "      <td>8792</td>\n",
              "      <td>Apartment</td>\n",
              "      <td>Entire home/apt</td>\n",
              "      <td>2.5</td>\n",
              "      <td>3.5</td>\n",
              "      <td>2.5</td>\n",
              "      <td>Real Bed</td>\n",
              "      <td>4</td>\n",
              "      <td>6</td>\n",
              "      <td>24</td>\n",
              "      <td>3.9</td>\n",
              "      <td>Downtown</td>\n",
              "      <td>140</td>\n",
              "      <td>20</td>\n",
              "      <td>410</td>\n",
              "      <td>False</td>\n",
              "      <td>True</td>\n",
              "    </tr>\n",
              "  </tbody>\n",
              "</table>\n",
              "</div>"
            ],
            "text/plain": [
              "     id property_type        room_type  bathrooms  bedrooms  beds   bed_typ  \\\n",
              "0  3781         House  Entire home/apt        2.0       3.0   1.5  Real Bed   \n",
              "1  5506     Apartment  Entire home/apt        2.5       4.0   2.0  Real Bed   \n",
              "2  6695         House  Entire home/apt        2.5       4.0   2.0  Real Bed   \n",
              "5  8792     Apartment  Entire home/apt        2.5       3.5   2.5  Real Bed   \n",
              "\n",
              "   accommodates  host_total_listings_count  number_of_reviews  \\\n",
              "0             3                          7                 14   \n",
              "1             3                          7                 75   \n",
              "2             3                          5                 77   \n",
              "5             4                          6                 24   \n",
              "\n",
              "   review_scores_value neighbourhood_cleansed  cleaning_fee  minimum_nights  \\\n",
              "0                  3.7            East Boston           125              30   \n",
              "1                  4.1                Roxbury           125               3   \n",
              "2                  4.4                Roxbury           165               3   \n",
              "5                  3.9               Downtown           140              20   \n",
              "\n",
              "   security_deposit  host_is_superhost  instant_bookable  \n",
              "0               320              False              True  \n",
              "1               320              False              True  \n",
              "2               270              False             False  \n",
              "5               410              False              True  "
            ]
          },
          "metadata": {
            "tags": []
          },
          "execution_count": 38
        }
      ]
    },
    {
      "cell_type": "markdown",
      "metadata": {
        "id": "-vwS1Zn7ByY7"
      },
      "source": [
        "### Split the data into train and test set"
      ]
    },
    {
      "cell_type": "code",
      "metadata": {
        "id": "opAEhHYzBzyY"
      },
      "source": [
        "# scikit's train_test_split accepts the features and the target as parameters and returns the randomly shuffled data. We have set 33% of the data in the test set and the rest are in training set. \n",
        "from sklearn.model_selection import train_test_split\n",
        "X_train, X_test, y_train, y_test = train_test_split(\n",
        "     features, target, test_size=0.33, random_state=42)"
      ],
      "execution_count": null,
      "outputs": []
    },
    {
      "cell_type": "markdown",
      "metadata": {
        "id": "xmRMUpyhFezN"
      },
      "source": [
        "### Define Feature Columns"
      ]
    },
    {
      "cell_type": "code",
      "metadata": {
        "id": "VNCq8IvMFiiw"
      },
      "source": [
        "# First separate the column names of the numeric features and the categorical features\n",
        "# Get all the numeric feature names\n",
        "numeric_columns = ['host_total_listings_count','accommodates','bathrooms','bedrooms','beds',\n",
        " 'security_deposit','cleaning_fee','minimum_nights','number_of_reviews',\n",
        " 'review_scores_value']\n",
        "\n",
        "# Get all the categorical feature names that contains strings\n",
        "#categorical_columns = ['host_is_superhost','neighbourhood_cleansed','property_type','room_type','bed_type','instant_bookable']\n",
        "categorical_columns = ['neighbourhood_cleansed','property_type','room_type']"
      ],
      "execution_count": null,
      "outputs": []
    },
    {
      "cell_type": "code",
      "metadata": {
        "id": "d5lg1MJ2G4GF",
        "colab": {
          "base_uri": "https://localhost:8080/",
          "height": 34
        },
        "outputId": "259b39bd-55d1-4fd2-a122-0e7408da11ec"
      },
      "source": [
        "# create numeric_columns for all the numeric features\n",
        "numeric_features = [tf.feature_column.numeric_column(key = column) for column in numeric_columns]\n",
        "print(numeric_features[0])"
      ],
      "execution_count": null,
      "outputs": [
        {
          "output_type": "stream",
          "text": [
            "_NumericColumn(key='host_total_listings_count', shape=(1,), default_value=None, dtype=tf.float32, normalizer_fn=None)\n"
          ],
          "name": "stdout"
        }
      ]
    },
    {
      "cell_type": "code",
      "metadata": {
        "id": "ZdzUTE4dKirb",
        "colab": {
          "base_uri": "https://localhost:8080/",
          "height": 34
        },
        "outputId": "ce0b8c8d-3b58-4247-c8e8-ab88b42ca675"
      },
      "source": [
        "# create the categorical features\n",
        "categorical_features = [tf.feature_column.categorical_column_with_vocabulary_list(key = column, \n",
        "                                                                                 vocabulary_list = features[column].unique()) \n",
        "                                                                                for column in categorical_columns]\n",
        "print(categorical_features[1])"
      ],
      "execution_count": null,
      "outputs": [
        {
          "output_type": "stream",
          "text": [
            "_VocabularyListCategoricalColumn(key='property_type', vocabulary_list=('House', 'Apartment'), dtype=tf.string, default_value=-1, num_oov_buckets=0)\n"
          ],
          "name": "stdout"
        }
      ]
    },
    {
      "cell_type": "code",
      "metadata": {
        "id": "td59um01LdT4"
      },
      "source": [
        "# combine all the numeric and the categorical feature columns so that we can pass it to our canned estimator.\n",
        "linear_features = numeric_features + categorical_features"
      ],
      "execution_count": null,
      "outputs": []
    },
    {
      "cell_type": "markdown",
      "metadata": {
        "id": "L3LbHC5QMqLr"
      },
      "source": [
        "### Input Function"
      ]
    },
    {
      "cell_type": "code",
      "metadata": {
        "id": "QiAWK0hJTHq_"
      },
      "source": [
        "# Create training input function\n",
        "training_input_fn = tf.estimator.inputs.pandas_input_fn(x = X_train,\n",
        "                                                        y=y_train,\n",
        "                                                        batch_size=32,\n",
        "                                                        shuffle= True,\n",
        "                                                        num_epochs = None)\n",
        "\n",
        "# create testing input function\n",
        "eval_input_fn = tf.estimator.inputs.pandas_input_fn(x=X_test,\n",
        "                                                    y=y_test,\n",
        "                                                    batch_size=32,\n",
        "                                                    shuffle=False,\n",
        "                                                    num_epochs = 1)"
      ],
      "execution_count": null,
      "outputs": []
    },
    {
      "cell_type": "markdown",
      "metadata": {
        "id": "hrm_mC-8UIQ6"
      },
      "source": [
        "### Instantiate the Model"
      ]
    },
    {
      "cell_type": "code",
      "metadata": {
        "id": "G_K1L6TRUKue"
      },
      "source": [
        "# model_dir parameter is where tensorflow will store the model graph for visualisation with tensorboard\n",
        "linear_regressor = tf.estimator.LinearRegressor(feature_columns=linear_features,\n",
        "                                                model_dir = \"linear_regressor\")"
      ],
      "execution_count": null,
      "outputs": []
    },
    {
      "cell_type": "markdown",
      "metadata": {
        "id": "XkTDxnngUhbY"
      },
      "source": [
        "### Train the Model"
      ]
    },
    {
      "cell_type": "code",
      "metadata": {
        "id": "VzkxO5QxUjjK",
        "colab": {
          "base_uri": "https://localhost:8080/",
          "height": 34
        },
        "outputId": "ed013d42-d469-4804-b9cf-b2c671aa4cbb"
      },
      "source": [
        "linear_regressor.train(input_fn = training_input_fn,steps=2000)"
      ],
      "execution_count": null,
      "outputs": [
        {
          "output_type": "execute_result",
          "data": {
            "text/plain": [
              "<tensorflow.python.estimator.canned.linear.LinearRegressor at 0x7f836a0eac50>"
            ]
          },
          "metadata": {
            "tags": []
          },
          "execution_count": 55
        }
      ]
    },
    {
      "cell_type": "markdown",
      "metadata": {
        "id": "OZpgcei-U5DJ"
      },
      "source": [
        "### Evaluate the Model"
      ]
    },
    {
      "cell_type": "code",
      "metadata": {
        "id": "cp9BHKi1U988",
        "colab": {
          "base_uri": "https://localhost:8080/",
          "height": 102
        },
        "outputId": "ff9de28a-5719-4c8a-8042-5fec3af2691a"
      },
      "source": [
        "# returns a dict containing loss after evaluating the model on the test set. Default loss is defined as mean squared error(MSE) in the LinearRegressor model.\n",
        "linear_regressor.evaluate(input_fn = eval_input_fn)\n",
        "#print(\"Loss is \" + str(loss))"
      ],
      "execution_count": null,
      "outputs": [
        {
          "output_type": "execute_result",
          "data": {
            "text/plain": [
              "{'average_loss': 0.33788007,\n",
              " 'global_step': 2000,\n",
              " 'label/mean': 5.006843,\n",
              " 'loss': 0.67576015,\n",
              " 'prediction/mean': 5.5157967}"
            ]
          },
          "metadata": {
            "tags": []
          },
          "execution_count": 56
        }
      ]
    },
    {
      "cell_type": "markdown",
      "metadata": {
        "id": "rGeXA8VTVVlG"
      },
      "source": [
        "### Make Predictions"
      ]
    },
    {
      "cell_type": "code",
      "metadata": {
        "id": "cpV1sI_TVYvl",
        "colab": {
          "base_uri": "https://localhost:8080/",
          "height": 34
        },
        "outputId": "6d8ea643-2bf5-4fbc-c071-05e237f6bd72"
      },
      "source": [
        "# LinearRegressor.predict method returns a generator for yielding predictions. Since we have set the num_epoch to 1 the input function \n",
        "# will feed the test dataset only once to the evaluation function\n",
        "pred = list(linear_regressor.predict(input_fn = eval_input_fn))\n",
        "pred = [p['predictions'][0] for p in pred]\n",
        "\n",
        "# Use exp to inverse the price since we had log-transformed it earlier\n",
        "prices = np.exp(pred)\n",
        "print(prices)"
      ],
      "execution_count": null,
      "outputs": [
        {
          "output_type": "stream",
          "text": [
            "[182.16096 339.23807]\n"
          ],
          "name": "stdout"
        }
      ]
    },
    {
      "cell_type": "markdown",
      "metadata": {
        "id": "6RjLmUiRX1Z3"
      },
      "source": [
        "### Visualise Feature Weights"
      ]
    },
    {
      "cell_type": "code",
      "metadata": {
        "id": "LORBO6M6X4Lh"
      },
      "source": [
        "# find the variable names for each feature from the model by using the get_variable_names method first, so we can later get the weights by using those names. \n",
        "linear_regressor.get_variable_names()"
      ],
      "execution_count": null,
      "outputs": []
    },
    {
      "cell_type": "code",
      "metadata": {
        "id": "i_tLnf8WYH6U",
        "colab": {
          "base_uri": "https://localhost:8080/",
          "height": 428
        },
        "outputId": "fdcd6772-1480-45b0-d711-685ed32d3c53"
      },
      "source": [
        "# get the feature weights for the neighbourhood_cleansed categorical feature and store them in property_weights. \n",
        "property_weights = linear_regressor.get_variable_value('linear/linear_model/neighbourhood_cleansed/weights').flatten()\n",
        "property_keys = boston[\"neighbourhood_cleansed\"].value_counts().keys()\n",
        "\n",
        "# Create a Dataframe with the feature weights as values and the different neighborhood names as index\n",
        "pd.DataFrame({\"Weights\":property_weights},index=property_keys).sort_values(\"Weights\",ascending=True).plot(kind=\"barh\", \n",
        "                                                                                                          figsize= (8,7), \n",
        "                                                                                                          grid = False\n",
        "                                                                                                         );"
      ],
      "execution_count": null,
      "outputs": [
        {
          "output_type": "display_data",
          "data": {
            "image/png": "[encoded data removed]",
            "text/plain": [
              "<matplotlib.figure.Figure at 0x7f8367042668>"
            ]
          },
          "metadata": {
            "tags": []
          }
        }
      ]
    },
    {
      "cell_type": "markdown",
      "metadata": {
        "id": "fpEcp1EMcDrN"
      },
      "source": [
        "## Visualise with Tensorboard"
      ]
    },
    {
      "cell_type": "markdown",
      "metadata": {
        "id": "YzP27LL5cLAY"
      },
      "source": [
        "**To view Tensorboard output locally, use ngrok to tunnel traffic to localhost. First, download and unzip ngrok on the Colab server**"
      ]
    },
    {
      "cell_type": "code",
      "metadata": {
        "id": "QomVFMK8agNm",
        "colab": {
          "base_uri": "https://localhost:8080/",
          "height": 238
        },
        "outputId": "24a6d1df-f673-44a7-825b-97345c622eb7"
      },
      "source": [
        "! wget https://bin.equinox.io/c/4VmDzA7iaHb/ngrok-stable-linux-amd64.zip\n",
        "! unzip ngrok-stable-linux-amd64.zip"
      ],
      "execution_count": null,
      "outputs": [
        {
          "output_type": "stream",
          "text": [
            "--2018-12-03 09:36:18--  https://bin.equinox.io/c/4VmDzA7iaHb/ngrok-stable-linux-amd64.zip\n",
            "Resolving bin.equinox.io (bin.equinox.io)... 52.204.188.97, 34.196.237.103, 35.173.3.255, ...\n",
            "Connecting to bin.equinox.io (bin.equinox.io)|52.204.188.97|:443... connected.\n",
            "HTTP request sent, awaiting response... 200 OK\n",
            "Length: 5363700 (5.1M) [application/octet-stream]\n",
            "Saving to: ‘ngrok-stable-linux-amd64.zip’\n",
            "\n",
            "ngrok-stable-linux- 100%[===================>]   5.11M  9.82MB/s    in 0.5s    \n",
            "\n",
            "2018-12-03 09:36:24 (9.82 MB/s) - ‘ngrok-stable-linux-amd64.zip’ saved [5363700/5363700]\n",
            "\n",
            "Archive:  ngrok-stable-linux-amd64.zip\n",
            "  inflating: ngrok                   \n"
          ],
          "name": "stdout"
        }
      ]
    },
    {
      "cell_type": "markdown",
      "metadata": {
        "id": "dx9TXX0acOZv"
      },
      "source": [
        "**Get TensorBoard running in the background**"
      ]
    },
    {
      "cell_type": "code",
      "metadata": {
        "id": "jTEsOw98bUY7"
      },
      "source": [
        "LOG_DIR = 'linear_regressor'\n",
        "get_ipython().system_raw(\n",
        "    'tensorboard --logdir {} --host 0.0.0.0 --port 6006 &'\n",
        "    .format(LOG_DIR)\n",
        ")"
      ],
      "execution_count": null,
      "outputs": []
    },
    {
      "cell_type": "markdown",
      "metadata": {
        "id": "lhztbwBnc_DL"
      },
      "source": [
        "**Launch ngrok background process**"
      ]
    },
    {
      "cell_type": "code",
      "metadata": {
        "id": "JCkaIrwqbfzP"
      },
      "source": [
        "get_ipython().system_raw('./ngrok http 6006 &')"
      ],
      "execution_count": null,
      "outputs": []
    },
    {
      "cell_type": "markdown",
      "metadata": {
        "id": "9BADzHi9dBh6"
      },
      "source": [
        "**We get the public URL where we can access the colab TensorBoard web page. This will output a URL you can click on**"
      ]
    },
    {
      "cell_type": "code",
      "metadata": {
        "id": "RC65XT9PbmyJ",
        "colab": {
          "base_uri": "https://localhost:8080/",
          "height": 34
        },
        "outputId": "1410c2cd-99a9-42d7-d2ec-30094c484f9e"
      },
      "source": [
        "! curl -s http://localhost:4040/api/tunnels | python3 -c \\\n",
        "    \"import sys, json; print(json.load(sys.stdin)['tunnels'][0]['public_url'])\""
      ],
      "execution_count": null,
      "outputs": [
        {
          "output_type": "stream",
          "text": [
            "http://418594a1.ngrok.io\n"
          ],
          "name": "stdout"
        }
      ]
    }
  ]
}