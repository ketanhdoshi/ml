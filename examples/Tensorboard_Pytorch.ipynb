{
  "nbformat": 4,
  "nbformat_minor": 0,
  "metadata": {
    "colab": {
      "name": "Tensorboard Pytorch.ipynb",
      "provenance": [],
      "collapsed_sections": [
        "xXWkWjrfXU8p",
        "ljk77iuxLIVn",
        "BAohnztHzP4U"
      ],
      "authorship_tag": "ABX9TyOQ5/nXk8AsumzdaX7bDukz",
      "include_colab_link": true
    },
    "kernelspec": {
      "name": "python3",
      "display_name": "Python 3"
    }
  },
  "cells": [
    {
      "cell_type": "markdown",
      "metadata": {
        "id": "view-in-github",
        "colab_type": "text"
      },
      "source": [
        "<a href=\"https://colab.research.google.com/github/ketanhdoshi/ml/blob/master/examples/Tensorboard_Pytorch.ipynb\" target=\"_parent\"><img src=\"https://colab.research.google.com/assets/colab-badge.svg\" alt=\"Open In Colab\"/></a>"
      ]
    },
    {
      "cell_type": "code",
      "metadata": {
        "id": "T3sFSzVhlOVu"
      },
      "source": [
        "# Set the LOGDIR correctly to use Tensorboard\n",
        "LOG_DIR = 'tbtry'"
      ],
      "execution_count": null,
      "outputs": []
    },
    {
      "cell_type": "markdown",
      "metadata": {
        "id": "xXWkWjrfXU8p"
      },
      "source": [
        "### Set up Tensorboard"
      ]
    },
    {
      "cell_type": "markdown",
      "metadata": {
        "id": "YzP27LL5cLAY"
      },
      "source": [
        "**To view Tensorboard output locally, use ngrok to tunnel traffic to localhost. First, download and unzip ngrok on the Colab server**"
      ]
    },
    {
      "cell_type": "code",
      "metadata": {
        "id": "QomVFMK8agNm"
      },
      "source": [
        "! wget https://bin.equinox.io/c/4VmDzA7iaHb/ngrok-stable-linux-amd64.zip\n",
        "! unzip ngrok-stable-linux-amd64.zip"
      ],
      "execution_count": null,
      "outputs": []
    },
    {
      "cell_type": "markdown",
      "metadata": {
        "id": "dx9TXX0acOZv"
      },
      "source": [
        "**Get TensorBoard running in the background**"
      ]
    },
    {
      "cell_type": "code",
      "metadata": {
        "id": "jTEsOw98bUY7"
      },
      "source": [
        "get_ipython().system_raw(\n",
        "    'tensorboard --logdir {} --host 0.0.0.0 --port 6006 &'\n",
        "    .format(LOG_DIR)\n",
        ")"
      ],
      "execution_count": null,
      "outputs": []
    },
    {
      "cell_type": "markdown",
      "metadata": {
        "id": "lhztbwBnc_DL"
      },
      "source": [
        "**Launch ngrok background process**"
      ]
    },
    {
      "cell_type": "code",
      "metadata": {
        "id": "JCkaIrwqbfzP"
      },
      "source": [
        "get_ipython().system_raw('./ngrok http 6006 &')"
      ],
      "execution_count": null,
      "outputs": []
    },
    {
      "cell_type": "markdown",
      "metadata": {
        "id": "9BADzHi9dBh6"
      },
      "source": [
        "**We get the public URL where we can access the colab TensorBoard web page. This will output a URL you can click on**"
      ]
    },
    {
      "cell_type": "code",
      "metadata": {
        "id": "RC65XT9PbmyJ",
        "colab": {
          "base_uri": "https://localhost:8080/",
          "height": 34
        },
        "outputId": "1975137b-40d3-4ae4-a8fc-8180f7ff0fae"
      },
      "source": [
        "! curl -s http://localhost:4040/api/tunnels | python3 -c \\\n",
        "    \"import sys, json; print(json.load(sys.stdin)['tunnels'][0]['public_url'])\""
      ],
      "execution_count": null,
      "outputs": [
        {
          "output_type": "stream",
          "text": [
            "https://58f1c1f8.ngrok.io\n"
          ],
          "name": "stdout"
        }
      ]
    },
    {
      "cell_type": "markdown",
      "metadata": {
        "id": "ljk77iuxLIVn"
      },
      "source": [
        "### Pytorch"
      ]
    },
    {
      "cell_type": "code",
      "metadata": {
        "id": "0NSm5OyXLQUv"
      },
      "source": [
        "import numpy as np\n",
        "from pathlib import *\n",
        "import torch\n",
        "print('Pytorch version:', torch.__version__)\n",
        "import torchvision\n",
        "from torch.utils.tensorboard import SummaryWriter\n",
        "from torchvision import datasets, transforms\n",
        "\n",
        "#----------------------------------------------------\n",
        "# Histogram\n",
        "#----------------------------------------------------\n",
        "def add_hist(writer):\n",
        "  for i in range(10):\n",
        "    x = np.random.random(1000)\n",
        "    writer.add_histogram('distribution centers', x + i, i)\n",
        "\n",
        "#----------------------------------------------------\n",
        "# Mesh\n",
        "#----------------------------------------------------\n",
        "def add_mesh(writer):\n",
        "  vertices_tensor = torch.as_tensor([[1, 1, 1],\n",
        "                                     [-1, -1, 1],\n",
        "                                     [1, -1, -1],\n",
        "                                     [-1, 1, -1],], \n",
        "                                    dtype=torch.float).unsqueeze(0)\n",
        "\n",
        "  colors_tensor = torch.as_tensor([[255, 0, 0],\n",
        "                                  [0, 255, 0],\n",
        "                                  [0, 0, 255],\n",
        "                                  [255, 0, 255],], \n",
        "                                  dtype=torch.int).unsqueeze(0)\n",
        "  faces_tensor = torch.as_tensor([[0, 2, 3],\n",
        "                                  [0, 3, 1],\n",
        "                                  [0, 1, 2],\n",
        "                                  [1, 3, 2],], \n",
        "                                 dtype=torch.int).unsqueeze(0)\n",
        "\n",
        "  writer.add_mesh('my_mesh', vertices=vertices_tensor, colors=colors_tensor, faces=faces_tensor)\n",
        "\n",
        "#----------------------------------------------------\n",
        "# Hyper Parameters\n",
        "#----------------------------------------------------\n",
        "def add_hyper(writer):\n",
        "  with writer as w:\n",
        "    for i in range(5):\n",
        "      w.add_hparams({'lr': 0.1*i, 'bsize': i},\n",
        "                    {'hparam/accuracy': 10*i, 'hparam/loss': 10*i})\n",
        "\n",
        "#----------------------------------------------------\n",
        "# Scalars\n",
        "#----------------------------------------------------\n",
        "def add_scalars(writer):\n",
        "  r = 5\n",
        "  for n_iter in range(100):\n",
        "    # Scalar values tagged in different hierarchies\n",
        "    writer.add_scalar('Loss/train', np.random.random(), n_iter)\n",
        "    writer.add_scalar('Loss/test', np.random.random(), n_iter)\n",
        "    writer.add_scalar('Accuracy/train', np.random.random(), n_iter)\n",
        "    writer.add_scalar('Accuracy/test', np.random.random(), n_iter)\n",
        "\n",
        "    # Scalar values plotting a Straight Line\n",
        "    writer.add_scalar('Plot/Line', n_iter * 2, n_iter)\n",
        "\n",
        "def add_temp(writer):\n",
        "  for n_iter in range(100):\n",
        "\n",
        "    # Multiple scalar values for sin, cos, tan curves\n",
        "    writer.add_scalars('Plot/run_14h', {'xsinx':n_iter*np.sin(n_iter/r),\n",
        "                                      'xcosx':n_iter*np.cos(n_iter/r),\n",
        "                                      'tanx': np.tan(n_iter/r)}, n_iter)\n",
        "\n",
        "#----------------------------------------------------\n",
        "# Image and Graph\n",
        "#----------------------------------------------------\n",
        "def add_image_graph(writer):\n",
        "  transform = transforms.Compose([transforms.ToTensor(), transforms.Normalize((0.5,), (0.5,))])\n",
        "  trainset = datasets.MNIST('mnist_train', train=True, download=True, transform=transform)\n",
        "  trainloader = torch.utils.data.DataLoader(trainset, batch_size=64, shuffle=True)\n",
        "  model = torchvision.models.resnet50(False)\n",
        "  # Have ResNet model take in grayscale rather than RGB\n",
        "  model.conv1 = torch.nn.Conv2d(1, 64, kernel_size=7, stride=2, padding=3, bias=False)\n",
        "  images, labels = next(iter(trainloader))\n",
        "\n",
        "  grid = torchvision.utils.make_grid(images)\n",
        "  writer.add_image('images', grid, 0)\n",
        "  writer.add_graph(model, images)\n",
        "\n",
        "def run_example(run_id):\n",
        "  run_path = Path.cwd() / LOG_DIR / run_id \n",
        "  # Writer will output to ./runs/ directory by default\n",
        "  writer = SummaryWriter(run_path)\n",
        "\n",
        "  add_image_graph(writer)\n",
        "  add_scalars(writer)\n",
        "  add_hist(writer)\n",
        "  #add_hyper(writer)\n",
        "  #add_mesh(writer)\n",
        "\n",
        "  writer.close()\n",
        "\n",
        "run_example('run-1')\n",
        "run_example('run-2')"
      ],
      "execution_count": null,
      "outputs": []
    },
    {
      "cell_type": "markdown",
      "metadata": {
        "id": "BAohnztHzP4U"
      },
      "source": [
        "### Temp"
      ]
    },
    {
      "cell_type": "code",
      "metadata": {
        "id": "7qivCJJNNzAA",
        "colab": {
          "base_uri": "https://localhost:8080/",
          "height": 34
        },
        "outputId": "5b236386-d893-49fb-bd6b-9c42e869f099"
      },
      "source": [
        "#!rm -R tbtry\n",
        "#!ls -lR tbtry"
      ],
      "execution_count": null,
      "outputs": [
        {
          "output_type": "stream",
          "text": [
            "ls: cannot access 'tbtry': No such file or directory\n"
          ],
          "name": "stdout"
        }
      ]
    }
  ]
}