{
  "nbformat": 4,
  "nbformat_minor": 0,
  "metadata": {
    "colab": {
      "name": "kd00_notebook_tutorial.ipynb",
      "version": "0.3.2",
      "provenance": []
    },
    "kernelspec": {
      "display_name": "Python 3",
      "language": "python",
      "name": "python3"
    }
  },
  "cells": [
    {
      "metadata": {
        "id": "StuErUaKlLTN",
        "colab_type": "text"
      },
      "cell_type": "markdown",
      "source": [
        "# Welcome to Jupyter Notebooks!"
      ]
    },
    {
      "metadata": {
        "id": "3myCeDbVlLTO",
        "colab_type": "text"
      },
      "cell_type": "markdown",
      "source": [
        "If you want to learn how to use this tool you've come to the right place. This article will teach you all you need to know to use Jupyter Notebooks effectively. You only need to go through Section 1 to learn the basics and you can go into Section 2 if you want to further increase your productivity."
      ]
    },
    {
      "metadata": {
        "id": "m9DHUyHalLTO",
        "colab_type": "text"
      },
      "cell_type": "markdown",
      "source": [
        "You might be reading this tutorial in a web page (maybe Github or the course's webpage). We strongly suggest to read this tutorial in a (yes, you guessed it) Jupyter Notebook. This way you will be able to actually *try* the different commands we will introduce here."
      ]
    },
    {
      "metadata": {
        "id": "ksyLyM8rlLTP",
        "colab_type": "text"
      },
      "cell_type": "markdown",
      "source": [
        "## Section 1: Need to Know"
      ]
    },
    {
      "metadata": {
        "id": "b-WErSuPlLTQ",
        "colab_type": "text"
      },
      "cell_type": "markdown",
      "source": [
        "### Introduction"
      ]
    },
    {
      "metadata": {
        "id": "we4vjFT7lLTR",
        "colab_type": "text"
      },
      "cell_type": "markdown",
      "source": [
        "Let's build up from the basics, what is a Jupyter Notebook? Well, you are reading one. It is a document made of cells. You can write like I am writing now (markdown cells) or you can perform calculations in Python (code cells) and run them like this:"
      ]
    },
    {
      "metadata": {
        "id": "2sZhxoxGlLTS",
        "colab_type": "code",
        "outputId": "30866b22-ce48-40cb-a78f-633c21543c1f",
        "colab": {
          "base_uri": "https://localhost:8080/",
          "height": 34
        }
      },
      "cell_type": "code",
      "source": [
        "1+1"
      ],
      "execution_count": 1,
      "outputs": [
        {
          "output_type": "execute_result",
          "data": {
            "text/plain": [
              "2"
            ]
          },
          "metadata": {
            "tags": []
          },
          "execution_count": 1
        }
      ]
    },
    {
      "metadata": {
        "id": "bhhhuokClLTZ",
        "colab_type": "text"
      },
      "cell_type": "markdown",
      "source": [
        "Cool huh? This combination of prose and code makes Jupyter Notebook ideal for experimentation: we can see the rationale for each experiment, the code and the results in one comprehensive document. In fast.ai, each lesson is documented in a notebook and you can later use that notebook to experiment yourself. \n",
        "\n",
        "Other renowned institutions in academy and industry use Jupyter Notebook: Google, Microsoft, IBM, Bloomberg, Berkeley and NASA among others. Even Nobel-winning economists [use Jupyter Notebooks](https://paulromer.net/jupyter-mathematica-and-the-future-of-the-research-paper/)  for their experiments and some suggest that Jupyter Notebooks will be the [new format for research papers](https://www.theatlantic.com/science/archive/2018/04/the-scientific-paper-is-obsolete/556676/)."
      ]
    },
    {
      "metadata": {
        "id": "H62IVogHlLTa",
        "colab_type": "text"
      },
      "cell_type": "markdown",
      "source": [
        "### Writing"
      ]
    },
    {
      "metadata": {
        "id": "CNtzGErBlLTa",
        "colab_type": "text"
      },
      "cell_type": "markdown",
      "source": [
        "A type of cell in which you can write like this is called _Markdown_. [_Markdown_](https://en.wikipedia.org/wiki/Markdown) is a very popular markup language. To specify that a cell is _Markdown_ you need to click in the drop-down menu in the toolbar and select _Markdown_."
      ]
    },
    {
      "metadata": {
        "id": "NbafoI7llLTb",
        "colab_type": "text"
      },
      "cell_type": "markdown",
      "source": [
        "Click on the the '+' button on the left and select _Markdown_ from the toolbar."
      ]
    },
    {
      "metadata": {
        "id": "PgEqKi6MlLTc",
        "colab_type": "text"
      },
      "cell_type": "markdown",
      "source": [
        "Now you can type your first _Markdown_ cell. Write 'My first markdown cell' and press run."
      ]
    },
    {
      "metadata": {
        "id": "GWshvSB2lLTd",
        "colab_type": "text"
      },
      "cell_type": "markdown",
      "source": [
        "![add](https://github.com/fastai/course-v3/blob/master/nbs/dl1/images/notebook_tutorial/add.png?raw=1)"
      ]
    },
    {
      "metadata": {
        "id": "8T0M3g5llLTe",
        "colab_type": "text"
      },
      "cell_type": "markdown",
      "source": [
        "You should see something like this:"
      ]
    },
    {
      "metadata": {
        "id": "776d5KmblLTf",
        "colab_type": "text"
      },
      "cell_type": "markdown",
      "source": [
        "My first markdown cell"
      ]
    },
    {
      "metadata": {
        "id": "yIi1RiL6lLTg",
        "colab_type": "text"
      },
      "cell_type": "markdown",
      "source": [
        "Now try making your first _Code_ cell: follow the same steps as before but don't change the cell type (when you add a cell its default type is _Code_). Type something like 3/2. You should see '1.5' as output."
      ]
    },
    {
      "metadata": {
        "id": "zuXjMKFOlLTh",
        "colab_type": "code",
        "outputId": "67211cdd-dca2-497e-a0d8-ded25f1b4503",
        "colab": {
          "base_uri": "https://localhost:8080/",
          "height": 34
        }
      },
      "cell_type": "code",
      "source": [
        "3/2"
      ],
      "execution_count": 2,
      "outputs": [
        {
          "output_type": "execute_result",
          "data": {
            "text/plain": [
              "1.5"
            ]
          },
          "metadata": {
            "tags": []
          },
          "execution_count": 2
        }
      ]
    },
    {
      "metadata": {
        "id": "dBt4vcSLlLTk",
        "colab_type": "text"
      },
      "cell_type": "markdown",
      "source": [
        "### Modes"
      ]
    },
    {
      "metadata": {
        "id": "1Qc9_flRlLTm",
        "colab_type": "text"
      },
      "cell_type": "markdown",
      "source": [
        "If you made a mistake in your *Markdown* cell and you have already ran it, you will notice that you cannot edit it just by clicking on it. This is because you are in **Command Mode**. Jupyter Notebooks have two distinct modes:\n",
        "\n",
        "1. **Edit Mode**: Allows you to edit a cell's content.\n",
        "\n",
        "2. **Command Mode**: Allows you to edit the notebook as a whole and use keyboard shortcuts but not edit a cell's content. \n",
        "\n",
        "You can toggle between these two by either pressing <kbd>ESC</kbd> and <kbd>Enter</kbd> or clicking outside a cell or inside it (you need to double click if its a Markdown cell). You can always know which mode you're on since the current cell has a green border if in **Edit Mode** and a blue border in **Command Mode**. Try it!"
      ]
    },
    {
      "metadata": {
        "id": "OS7pQemIlLTo",
        "colab_type": "text"
      },
      "cell_type": "markdown",
      "source": [
        "### Other Important Considerations"
      ]
    },
    {
      "metadata": {
        "id": "08UsuEwtlLTo",
        "colab_type": "text"
      },
      "cell_type": "markdown",
      "source": [
        "1. Your notebook is autosaved every 120 seconds. If you want to manually save it you can just press the save button on the upper left corner or press <kbd>s</kbd> in **Command Mode**."
      ]
    },
    {
      "metadata": {
        "id": "wy_QOZcrlLTp",
        "colab_type": "text"
      },
      "cell_type": "markdown",
      "source": [
        "![Save](https://github.com/fastai/course-v3/blob/master/nbs/dl1/images/notebook_tutorial/save.png?raw=1)"
      ]
    },
    {
      "metadata": {
        "id": "HlmOdcdLlLTq",
        "colab_type": "text"
      },
      "cell_type": "markdown",
      "source": [
        "2. To know if your kernel is computing or not you can check the dot in your upper right corner. If the dot is full, it means that the kernel is working. If not, it is idle. You can place the mouse on it and see the state of the kernel be displayed."
      ]
    },
    {
      "metadata": {
        "id": "8W3uUtQolLTr",
        "colab_type": "text"
      },
      "cell_type": "markdown",
      "source": [
        "![Busy](https://github.com/fastai/course-v3/blob/master/nbs/dl1/images/notebook_tutorial/busy.png?raw=1)"
      ]
    },
    {
      "metadata": {
        "id": "Qg8FruytlLTr",
        "colab_type": "text"
      },
      "cell_type": "markdown",
      "source": [
        "3. There are a couple of shortcuts you must know about which we use **all** the time (always in **Command Mode**). These are:\n",
        "\n",
        "<kbd>Shift</kbd>+<kbd>Enter</kbd>: Runs the code or markdown on a cell\n",
        "\n",
        "<kbd>Up Arrow</kbd>+<kbd>Down Arrow</kbd>: Toggle across cells\n",
        "\n",
        "<kbd>b</kbd>: Create new cell\n",
        "\n",
        "<kbd>0</kbd>+<kbd>0</kbd>: Reset Kernel\n",
        "\n",
        "You can find more shortcuts in the Shortcuts section below."
      ]
    },
    {
      "metadata": {
        "id": "F50zjFMmlLTs",
        "colab_type": "text"
      },
      "cell_type": "markdown",
      "source": [
        "4. You may need to use a terminal in a Jupyter Notebook environment (for example to git pull on a repository). That is very easy to do, just press 'New' in your Home directory and 'Terminal'. Don't know how to use the Terminal? We made a tutorial for that as well. You can find it [here](https://course.fast.ai/terminal_tutorial.html)."
      ]
    },
    {
      "metadata": {
        "id": "o1ASIPGOlLTt",
        "colab_type": "text"
      },
      "cell_type": "markdown",
      "source": [
        "![Terminal](https://github.com/fastai/course-v3/blob/master/nbs/dl1/images/notebook_tutorial/terminal.png?raw=1)"
      ]
    },
    {
      "metadata": {
        "id": "Ewr9WU0clLTu",
        "colab_type": "text"
      },
      "cell_type": "markdown",
      "source": [
        "That's it. This is all you need to know to use Jupyter Notebooks. That said, we have more tips and tricks below ↓↓↓"
      ]
    },
    {
      "metadata": {
        "id": "CMmm2UzNlLTw",
        "colab_type": "text"
      },
      "cell_type": "markdown",
      "source": [
        "## Section 2: Going deeper"
      ]
    },
    {
      "metadata": {
        "hide_input": false,
        "id": "EqALK6HvlLTx",
        "colab_type": "text"
      },
      "cell_type": "markdown",
      "source": [
        "### Markdown formatting"
      ]
    },
    {
      "metadata": {
        "id": "IYzZb76FlLTy",
        "colab_type": "text"
      },
      "cell_type": "markdown",
      "source": [
        "#### Italics, Bold, Strikethrough, Inline, Blockquotes and Links"
      ]
    },
    {
      "metadata": {
        "id": "SuQdPRx3lLTy",
        "colab_type": "text"
      },
      "cell_type": "markdown",
      "source": [
        "The five most important concepts to format your code appropriately when using markdown are:\n",
        "    \n",
        "1. *Italics*: Surround your text with '\\_' or '\\*'\n",
        "2. **Bold**: Surround your text with '\\__' or '\\**'\n",
        "3. `inline`: Surround your text with '\\`'\n",
        "4.  > blockquote: Place '\\>' before your text.\n",
        "5.  [Links](https://course.fast.ai/): Surround the text you want to link with '\\[\\]' and place the link adjacent to the text, surrounded with '()'\n"
      ]
    },
    {
      "metadata": {
        "id": "DL4YgcpelLTz",
        "colab_type": "text"
      },
      "cell_type": "markdown",
      "source": [
        "#### Headings"
      ]
    },
    {
      "metadata": {
        "id": "tQsiBBOzlLT0",
        "colab_type": "text"
      },
      "cell_type": "markdown",
      "source": [
        "Notice that including a hashtag before the text in a markdown cell makes the text a heading. The number of hashtags you include will determine the priority of the header ('#' is level one, '##' is level two, '###' is level three and '####' is level four). We will add three new cells with the '+' button on the left to see how every level of heading looks."
      ]
    },
    {
      "metadata": {
        "id": "O8HJURMSlLT1",
        "colab_type": "text"
      },
      "cell_type": "markdown",
      "source": [
        "Double click on some headings and find out what level they are!"
      ]
    },
    {
      "metadata": {
        "id": "mZbSirwQlLT2",
        "colab_type": "text"
      },
      "cell_type": "markdown",
      "source": [
        "#### Lists"
      ]
    },
    {
      "metadata": {
        "id": "9flfeyC1lLT2",
        "colab_type": "text"
      },
      "cell_type": "markdown",
      "source": [
        "There are three types of lists in markdown."
      ]
    },
    {
      "metadata": {
        "id": "8Ba5oNQUlLT3",
        "colab_type": "text"
      },
      "cell_type": "markdown",
      "source": [
        "Ordered list:\n",
        "\n",
        "1. Step 1\n",
        "    2. Step 1B\n",
        "3. Step 3"
      ]
    },
    {
      "metadata": {
        "id": "AwLTtj1PlLT4",
        "colab_type": "text"
      },
      "cell_type": "markdown",
      "source": [
        "Unordered list\n",
        "\n",
        "* learning rate\n",
        "* cycle length\n",
        "* weight decay"
      ]
    },
    {
      "metadata": {
        "id": "LRZm9arolLT5",
        "colab_type": "text"
      },
      "cell_type": "markdown",
      "source": [
        "Task list\n",
        "\n",
        "- [x] Learn Jupyter Notebooks\n",
        "    - [x] Writing\n",
        "    - [x] Modes\n",
        "    - [x] Other Considerations\n",
        "- [ ] Change the world"
      ]
    },
    {
      "metadata": {
        "id": "3xGtCIK0lLT6",
        "colab_type": "text"
      },
      "cell_type": "markdown",
      "source": [
        "Double click on each to see how they are built! "
      ]
    },
    {
      "metadata": {
        "id": "4QMu7okLlLT8",
        "colab_type": "text"
      },
      "cell_type": "markdown",
      "source": [
        "### Code Capabilities"
      ]
    },
    {
      "metadata": {
        "id": "MY2OwmtClLT-",
        "colab_type": "text"
      },
      "cell_type": "markdown",
      "source": [
        "**Code** cells are different than **Markdown** cells in that they have an output cell. This means that we can _keep_ the results of our code within the notebook and share them. Let's say we want to show a graph that explains the result of an experiment. We can just run the necessary cells and save the notebook. The output will be there when we open it again! Try it out by running the next four cells."
      ]
    },
    {
      "metadata": {
        "id": "jjnpxQr1lLT_",
        "colab_type": "code",
        "colab": {}
      },
      "cell_type": "code",
      "source": [
        "# Import necessary libraries\n",
        "from fastai.vision import * \n",
        "import matplotlib.pyplot as plt"
      ],
      "execution_count": 0,
      "outputs": []
    },
    {
      "metadata": {
        "id": "jzaBpKl0lLUE",
        "colab_type": "code",
        "colab": {}
      },
      "cell_type": "code",
      "source": [
        "from PIL import Image"
      ],
      "execution_count": 0,
      "outputs": []
    },
    {
      "metadata": {
        "id": "GMhyuXvqlLUH",
        "colab_type": "code",
        "outputId": "68361556-818d-4add-c6f1-837b7945a6b9",
        "colab": {
          "base_uri": "https://localhost:8080/",
          "height": 34
        }
      },
      "cell_type": "code",
      "source": [
        "a = 1\n",
        "b = a + 1\n",
        "c = b + a + 1\n",
        "d = c + b + a + 1\n",
        "a, b, c ,d"
      ],
      "execution_count": 5,
      "outputs": [
        {
          "output_type": "execute_result",
          "data": {
            "text/plain": [
              "(1, 2, 4, 8)"
            ]
          },
          "metadata": {
            "tags": []
          },
          "execution_count": 5
        }
      ]
    },
    {
      "metadata": {
        "id": "Yq4hLy48lLUL",
        "colab_type": "code",
        "outputId": "440e6091-f3ed-434c-92bf-2e3977ff9a0c",
        "colab": {
          "base_uri": "https://localhost:8080/",
          "height": 347
        }
      },
      "cell_type": "code",
      "source": [
        "plt.plot([a,b,c,d])\n",
        "plt.show()"
      ],
      "execution_count": 6,
      "outputs": [
        {
          "output_type": "display_data",
          "data": {
            "image/png": "[encoded data removed]",
            "text/plain": [
              "<Figure size 576x396 with 1 Axes>"
            ]
          },
          "metadata": {
            "tags": []
          }
        }
      ]
    },
    {
      "metadata": {
        "id": "BeKaxCTclLUO",
        "colab_type": "text"
      },
      "cell_type": "markdown",
      "source": [
        "We can also print images while experimenting. I am watching you."
      ]
    },
    {
      "metadata": {
        "id": "CcaRKu87lLUP",
        "colab_type": "code",
        "outputId": "1680ff79-43d7-4b34-9d4c-f69a91ac842f",
        "colab": {
          "base_uri": "https://localhost:8080/",
          "height": 282
        }
      },
      "cell_type": "code",
      "source": [
        "Image.open('images/notebook_tutorial/cat_example.jpg')"
      ],
      "execution_count": 7,
      "outputs": [
        {
          "output_type": "error",
          "ename": "FileNotFoundError",
          "evalue": "ignored",
          "traceback": [
            "\u001b[0;31m---------------------------------------------------------------------------\u001b[0m",
            "\u001b[0;31mFileNotFoundError\u001b[0m                         Traceback (most recent call last)",
            "\u001b[0;32m<ipython-input-7-a6d739aab8ba>\u001b[0m in \u001b[0;36m<module>\u001b[0;34m()\u001b[0m\n\u001b[0;32m----> 1\u001b[0;31m \u001b[0mImage\u001b[0m\u001b[0;34m.\u001b[0m\u001b[0mopen\u001b[0m\u001b[0;34m(\u001b[0m\u001b[0;34m'images/notebook_tutorial/cat_example.jpg'\u001b[0m\u001b[0;34m)\u001b[0m\u001b[0;34m\u001b[0m\u001b[0;34m\u001b[0m\u001b[0m\n\u001b[0m",
            "\u001b[0;32m/usr/local/lib/python3.6/dist-packages/PIL/Image.py\u001b[0m in \u001b[0;36mopen\u001b[0;34m(fp, mode)\u001b[0m\n\u001b[1;32m   2408\u001b[0m \u001b[0;34m\u001b[0m\u001b[0m\n\u001b[1;32m   2409\u001b[0m     \u001b[0;32mif\u001b[0m \u001b[0mfilename\u001b[0m\u001b[0;34m:\u001b[0m\u001b[0;34m\u001b[0m\u001b[0;34m\u001b[0m\u001b[0m\n\u001b[0;32m-> 2410\u001b[0;31m         \u001b[0mfp\u001b[0m \u001b[0;34m=\u001b[0m \u001b[0mbuiltins\u001b[0m\u001b[0;34m.\u001b[0m\u001b[0mopen\u001b[0m\u001b[0;34m(\u001b[0m\u001b[0mfilename\u001b[0m\u001b[0;34m,\u001b[0m \u001b[0;34m\"rb\"\u001b[0m\u001b[0;34m)\u001b[0m\u001b[0;34m\u001b[0m\u001b[0;34m\u001b[0m\u001b[0m\n\u001b[0m\u001b[1;32m   2411\u001b[0m         \u001b[0mexclusive_fp\u001b[0m \u001b[0;34m=\u001b[0m \u001b[0;32mTrue\u001b[0m\u001b[0;34m\u001b[0m\u001b[0;34m\u001b[0m\u001b[0m\n\u001b[1;32m   2412\u001b[0m \u001b[0;34m\u001b[0m\u001b[0m\n",
            "\u001b[0;31mFileNotFoundError\u001b[0m: [Errno 2] No such file or directory: 'images/notebook_tutorial/cat_example.jpg'"
          ]
        }
      ]
    },
    {
      "metadata": {
        "id": "77INAgNAlLUT",
        "colab_type": "text"
      },
      "cell_type": "markdown",
      "source": [
        "### Running the app locally"
      ]
    },
    {
      "metadata": {
        "id": "u86Jrr1ylLUU",
        "colab_type": "text"
      },
      "cell_type": "markdown",
      "source": [
        "You may be running Jupyter Notebook from an interactive coding environment like Gradient, Sagemaker or Salamander. You can also run a Jupyter Notebook server from your local computer. What's more, if you have installed Anaconda you don't even need to install Jupyter (if not, just `pip install jupyter`).\n",
        "\n",
        "You just need to run `jupyter notebook` in your terminal. Remember to run it from a folder that contains all the folders/files you will want to access. You will be able to open, view and edit files located within the directory in which you run this command but not files in parent directories.\n",
        "\n",
        "If a browser tab does not open automatically once you run the command, you should CTRL+CLICK the link starting with 'https://localhost:' and this will open a new tab in your default browser."
      ]
    },
    {
      "metadata": {
        "id": "okwWXKw4lLUV",
        "colab_type": "text"
      },
      "cell_type": "markdown",
      "source": [
        "### Creating a notebook"
      ]
    },
    {
      "metadata": {
        "id": "x_c8mjYJlLUW",
        "colab_type": "text"
      },
      "cell_type": "markdown",
      "source": [
        "Click on 'New' in the upper left corner and 'Python 3' in the drop-down list (we are going to use a [Python kernel](https://github.com/ipython/ipython) for all our experiments).\n",
        "\n",
        "![new_notebook](https://github.com/fastai/course-v3/blob/master/nbs/dl1/images/notebook_tutorial/new_notebook.png?raw=1)\n",
        "\n",
        "Note: You will sometimes hear people talking about the Notebook 'kernel'. The 'kernel' is just the Python engine that performs the computations for you. "
      ]
    },
    {
      "metadata": {
        "id": "cnV0C8uElLUX",
        "colab_type": "text"
      },
      "cell_type": "markdown",
      "source": [
        "### Shortcuts and tricks"
      ]
    },
    {
      "metadata": {
        "id": "t4nyrOvmlLUX",
        "colab_type": "text"
      },
      "cell_type": "markdown",
      "source": [
        "#### Command Mode Shortcuts"
      ]
    },
    {
      "metadata": {
        "id": "NF3RzAcGlLUY",
        "colab_type": "text"
      },
      "cell_type": "markdown",
      "source": [
        "There are a couple of useful keyboard shortcuts in `Command Mode` that you can leverage to make Jupyter Notebook faster to use. Remember that to switch back and forth between `Command Mode` and `Edit Mode` with <kbd>Esc</kbd> and <kbd>Enter</kbd>."
      ]
    },
    {
      "metadata": {
        "id": "s395_Rz9lLUZ",
        "colab_type": "text"
      },
      "cell_type": "markdown",
      "source": [
        "<kbd>m</kbd>: Convert cell to Markdown"
      ]
    },
    {
      "metadata": {
        "id": "1jthO8WolLUZ",
        "colab_type": "text"
      },
      "cell_type": "markdown",
      "source": [
        "<kbd>y</kbd>: Convert cell to Code"
      ]
    },
    {
      "metadata": {
        "id": "EpwmKSC5lLUa",
        "colab_type": "text"
      },
      "cell_type": "markdown",
      "source": [
        "<kbd>D</kbd>+<kbd>D</kbd>: Delete cell"
      ]
    },
    {
      "metadata": {
        "id": "uEP5ZtaFlLUb",
        "colab_type": "text"
      },
      "cell_type": "markdown",
      "source": [
        "<kbd>o</kbd>: Toggle between hide or show output"
      ]
    },
    {
      "metadata": {
        "id": "CQDPrbLPlLUd",
        "colab_type": "text"
      },
      "cell_type": "markdown",
      "source": [
        "<kbd>Shift</kbd>+<kbd>Arrow up/Arrow down</kbd>: Selects multiple cells. Once you have selected them you can operate on them like a batch (run, copy, paste etc)."
      ]
    },
    {
      "metadata": {
        "id": "ggrcmhJ7lLUd",
        "colab_type": "text"
      },
      "cell_type": "markdown",
      "source": [
        "<kbd>Shift</kbd>+<kbd>M</kbd>: Merge selected cells."
      ]
    },
    {
      "metadata": {
        "id": "EkutFbb5lLUf",
        "colab_type": "text"
      },
      "cell_type": "markdown",
      "source": [
        "<kbd>Shift</kbd>+<kbd>Tab</kbd>: [press once] Tells you which parameters to pass on a function\n",
        "<kbd>Shift</kbd>+<kbd>Tab</kbd>: [press three times] Gives additional information on the method"
      ]
    },
    {
      "metadata": {
        "id": "taMuZdfPlLUh",
        "colab_type": "text"
      },
      "cell_type": "markdown",
      "source": [
        "#### Cell Tricks"
      ]
    },
    {
      "metadata": {
        "id": "kJc4LlkYlLUj",
        "colab_type": "code",
        "colab": {}
      },
      "cell_type": "code",
      "source": [
        "from fastai import*\n",
        "from fastai.vision import *"
      ],
      "execution_count": 0,
      "outputs": []
    },
    {
      "metadata": {
        "id": "2wYIU-XvlLUo",
        "colab_type": "text"
      },
      "cell_type": "markdown",
      "source": [
        "There are also some tricks that you can code into a cell."
      ]
    },
    {
      "metadata": {
        "id": "8c1TncwflLUp",
        "colab_type": "text"
      },
      "cell_type": "markdown",
      "source": [
        "`?function-name`: Shows the definition and docstring for that function"
      ]
    },
    {
      "metadata": {
        "id": "stj4DBsulLUq",
        "colab_type": "code",
        "colab": {}
      },
      "cell_type": "code",
      "source": [
        "?ImageDataBunch"
      ],
      "execution_count": 0,
      "outputs": []
    },
    {
      "metadata": {
        "id": "nFUdgCW6lLUu",
        "colab_type": "text"
      },
      "cell_type": "markdown",
      "source": [
        "`??function-name`: Shows the source code for that function"
      ]
    },
    {
      "metadata": {
        "id": "lK1ql_2TlLUv",
        "colab_type": "code",
        "colab": {}
      },
      "cell_type": "code",
      "source": [
        "??ImageDataBunch"
      ],
      "execution_count": 0,
      "outputs": []
    },
    {
      "metadata": {
        "id": "-wlTo9-2lLUx",
        "colab_type": "text"
      },
      "cell_type": "markdown",
      "source": [
        "`doc(function-name)`: Shows the definition, docstring **and links to the documentation** of the function\n",
        "(only works with fastai library imported)"
      ]
    },
    {
      "metadata": {
        "id": "GdPWdMFylLUx",
        "colab_type": "code",
        "colab": {}
      },
      "cell_type": "code",
      "source": [
        "doc(ImageDataBunch)"
      ],
      "execution_count": 0,
      "outputs": []
    },
    {
      "metadata": {
        "id": "tmPyPw3hlLUz",
        "colab_type": "text"
      },
      "cell_type": "markdown",
      "source": [
        "#### Line Magics"
      ]
    },
    {
      "metadata": {
        "id": "lau7IKe6lLUz",
        "colab_type": "text"
      },
      "cell_type": "markdown",
      "source": [
        "Line magics are functions that you can run on cells and take as an argument the rest of the line from where they are called. You call them by placing a '%' sign before the command. The most useful ones are:"
      ]
    },
    {
      "metadata": {
        "id": "dFAZX2_HlLU0",
        "colab_type": "text"
      },
      "cell_type": "markdown",
      "source": [
        "`%matplotlib inline`: This command ensures that all matplotlib plots will be plotted in the output cell within the notebook and will be kept in the notebook when saved."
      ]
    },
    {
      "metadata": {
        "id": "gGrdXaaRlLU0",
        "colab_type": "text"
      },
      "cell_type": "markdown",
      "source": [
        "`%reload_ext autoreload`, `%autoreload 2`: Reload all modules before executing a new line. If a module is edited, it is not necessary to rerun the import commands, the modules will be reloaded automatically."
      ]
    },
    {
      "metadata": {
        "id": "CXTgNJedlLU1",
        "colab_type": "text"
      },
      "cell_type": "markdown",
      "source": [
        "These three commands are always called together at the beginning of every notebook."
      ]
    },
    {
      "metadata": {
        "id": "DDNfBWx0lLU2",
        "colab_type": "code",
        "colab": {}
      },
      "cell_type": "code",
      "source": [
        "%matplotlib inline\n",
        "%reload_ext autoreload\n",
        "%autoreload 2"
      ],
      "execution_count": 0,
      "outputs": []
    },
    {
      "metadata": {
        "id": "GQgqdq0MlLU6",
        "colab_type": "text"
      },
      "cell_type": "markdown",
      "source": [
        "`%timeit`: Runs a line a ten thousand times and displays the average time it took to run it."
      ]
    },
    {
      "metadata": {
        "id": "gV5of_nBlLU6",
        "colab_type": "code",
        "outputId": "06981607-2fc2-4669-d211-71dc346f909f",
        "colab": {
          "base_uri": "https://localhost:8080/",
          "height": 34
        }
      },
      "cell_type": "code",
      "source": [
        "%timeit [i+1 for i in range(1000)]"
      ],
      "execution_count": 13,
      "outputs": [
        {
          "output_type": "stream",
          "text": [
            "10000 loops, best of 3: 72.6 µs per loop\n"
          ],
          "name": "stdout"
        }
      ]
    },
    {
      "metadata": {
        "id": "ulnceO6PlLVC",
        "colab_type": "text"
      },
      "cell_type": "markdown",
      "source": [
        "`%debug`: Allows to inspect a function which is showing an error using the [Python debugger](https://docs.python.org/3/library/pdb.html)."
      ]
    },
    {
      "metadata": {
        "id": "DPDipkmklLVD",
        "colab_type": "code",
        "outputId": "9a22af99-8436-469c-e39d-11f0a7d457a3",
        "colab": {
          "base_uri": "https://localhost:8080/",
          "height": 197
        }
      },
      "cell_type": "code",
      "source": [
        "for i in range(1000):\n",
        "    a = i+1\n",
        "    b = 'string'\n",
        "    c = b+1"
      ],
      "execution_count": 14,
      "outputs": [
        {
          "output_type": "error",
          "ename": "TypeError",
          "evalue": "ignored",
          "traceback": [
            "\u001b[0;31m---------------------------------------------------------------------------\u001b[0m",
            "\u001b[0;31mTypeError\u001b[0m                                 Traceback (most recent call last)",
            "\u001b[0;32m<ipython-input-14-8d78ff778454>\u001b[0m in \u001b[0;36m<module>\u001b[0;34m()\u001b[0m\n\u001b[1;32m      2\u001b[0m     \u001b[0ma\u001b[0m \u001b[0;34m=\u001b[0m \u001b[0mi\u001b[0m\u001b[0;34m+\u001b[0m\u001b[0;36m1\u001b[0m\u001b[0;34m\u001b[0m\u001b[0;34m\u001b[0m\u001b[0m\n\u001b[1;32m      3\u001b[0m     \u001b[0mb\u001b[0m \u001b[0;34m=\u001b[0m \u001b[0;34m'string'\u001b[0m\u001b[0;34m\u001b[0m\u001b[0;34m\u001b[0m\u001b[0m\n\u001b[0;32m----> 4\u001b[0;31m     \u001b[0mc\u001b[0m \u001b[0;34m=\u001b[0m \u001b[0mb\u001b[0m\u001b[0;34m+\u001b[0m\u001b[0;36m1\u001b[0m\u001b[0;34m\u001b[0m\u001b[0;34m\u001b[0m\u001b[0m\n\u001b[0m",
            "\u001b[0;31mTypeError\u001b[0m: must be str, not int"
          ]
        }
      ]
    },
    {
      "metadata": {
        "id": "KDmN0b_0lLVH",
        "colab_type": "code",
        "outputId": "425ed1b4-e31c-4926-9fcc-55b3a274e3d3",
        "colab": {
          "base_uri": "https://localhost:8080/",
          "height": 71
        }
      },
      "cell_type": "code",
      "source": [
        "%debug"
      ],
      "execution_count": 0,
      "outputs": [
        {
          "output_type": "stream",
          "text": [
            "--KeyboardInterrupt--\n",
            "--KeyboardInterrupt--\n"
          ],
          "name": "stdout"
        }
      ]
    },
    {
      "metadata": {
        "id": "PysgYYZslLVM",
        "colab_type": "code",
        "colab": {}
      },
      "cell_type": "code",
      "source": [
        ""
      ],
      "execution_count": 0,
      "outputs": []
    }
  ]
}