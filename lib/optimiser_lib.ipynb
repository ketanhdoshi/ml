{
  "nbformat": 4,
  "nbformat_minor": 0,
  "metadata": {
    "colab": {
      "name": "optimiser_lib.ipynb",
      "provenance": [],
      "collapsed_sections": [
        "oDqvMEF25fhd",
        "DAMy-o62kH9h",
        "4sM-FIpqOO09",
        "SPDDfDomsdq6",
        "XT6IKJPRnJZX",
        "b0peMPuftiuQ",
        "qpxQd9HonFo1",
        "_RAqfTeQnOEN",
        "07hc5ZlgnUFi",
        "VcDy944jnf6-",
        "aZnU54hlR0kj"
      ],
      "include_colab_link": true
    },
    "kernelspec": {
      "name": "python3",
      "display_name": "Python 3"
    },
    "accelerator": "GPU"
  },
  "cells": [
    {
      "cell_type": "markdown",
      "metadata": {
        "id": "view-in-github",
        "colab_type": "text"
      },
      "source": [
        "<a href=\"https://colab.research.google.com/github/ketanhdoshi/ml/blob/master/lib/optimiser_lib.ipynb\" target=\"_parent\"><img src=\"https://colab.research.google.com/assets/colab-badge.svg\" alt=\"Open In Colab\"/></a>"
      ]
    },
    {
      "cell_type": "markdown",
      "metadata": {
        "id": "cTrvq0awIwon"
      },
      "source": [
        "## Optimisation Functions\n",
        "Notebooks - , "
      ]
    },
    {
      "cell_type": "markdown",
      "metadata": {
        "id": "233jN_MC1KLk"
      },
      "source": [
        "**Todos**\n",
        "* Cleanup HyperParam and GetOptimiser interface\n",
        "* Comments for HyperParam\n",
        "* Get rid of run_mnist from here \n",
        "\n",
        "**Done**\n",
        "1. DONE HyperParam takes lr_sched flag for one cycle, lr find etc\n",
        "2. DONE Implement LR Range Callback\n",
        "\n",
        "\n",
        "\n",
        "\n"
      ]
    },
    {
      "cell_type": "markdown",
      "metadata": {
        "id": "oDqvMEF25fhd"
      },
      "source": [
        "### Import Libraries"
      ]
    },
    {
      "cell_type": "code",
      "metadata": {
        "id": "EHLPROiP6Lpk"
      },
      "source": [
        "%load_ext autoreload\n",
        "%autoreload 2\n",
        "\n",
        "%matplotlib inline"
      ],
      "execution_count": null,
      "outputs": []
    },
    {
      "cell_type": "code",
      "metadata": {
        "id": "kI5e1uoLdVMQ"
      },
      "source": [
        "from IPython.core.interactiveshell import InteractiveShell\n",
        "InteractiveShell.ast_node_interactivity = \"all\""
      ],
      "execution_count": null,
      "outputs": []
    },
    {
      "cell_type": "code",
      "metadata": {
        "id": "YVF14yO71kuO"
      },
      "source": [
        "#export\n",
        "\n",
        "from functools import partial\n",
        "import math\n",
        "import numpy as np\n",
        "import matplotlib.pyplot as plt\n",
        "import torch\n",
        "from torch import optim"
      ],
      "execution_count": null,
      "outputs": []
    },
    {
      "cell_type": "code",
      "metadata": {
        "id": "OmkGsyG0TSRq"
      },
      "source": [
        "import IPython.core.debugger as db"
      ],
      "execution_count": null,
      "outputs": []
    },
    {
      "cell_type": "code",
      "metadata": {
        "id": "gU23hChRz_Gb",
        "colab": {
          "base_uri": "https://localhost:8080/",
          "height": 122
        },
        "outputId": "40c288d6-ac78-4988-d411-82fb024ccd2e"
      },
      "source": [
        "from google.colab import drive\n",
        "drive.mount('/content/gdrive')\n",
        "gn_path = 'gdrive/My Drive/Colab Notebooks'  #change dir to your project folder\n",
        "\n",
        "import sys\n",
        "sys.path.insert(1, gn_path + '/exp')"
      ],
      "execution_count": null,
      "outputs": [
        {
          "output_type": "stream",
          "text": [
            "Go to this URL in a browser: https://accounts.google.com/o/oauth2/auth?client_id=947318989803-6bn6qk8qdgf4n4g3pfee6491hc0brc4i.apps.googleusercontent.com&redirect_uri=urn%3aietf%3awg%3aoauth%3a2.0%3aoob&scope=email%20https%3a%2f%2fwww.googleapis.com%2fauth%2fdocs.test%20https%3a%2f%2fwww.googleapis.com%2fauth%2fdrive%20https%3a%2f%2fwww.googleapis.com%2fauth%2fdrive.photos.readonly%20https%3a%2f%2fwww.googleapis.com%2fauth%2fpeopleapi.readonly&response_type=code\n",
            "\n",
            "Enter your authorization code:\n",
            "··········\n",
            "Mounted at /content/gdrive\n"
          ],
          "name": "stdout"
        }
      ]
    },
    {
      "cell_type": "code",
      "metadata": {
        "id": "dLGXOK7rqkTn"
      },
      "source": [
        "#export\n",
        "from nb_util import accuracy, listify, compose\n",
        "from nb_training import Callback, CancelFitException, MetricsCB"
      ],
      "execution_count": null,
      "outputs": []
    },
    {
      "cell_type": "code",
      "metadata": {
        "id": "8PkwHiOKVowV"
      },
      "source": [
        "from nb_arch import run_cnn_mnist, CNNArch\n",
        "from nb_training import CudaCB"
      ],
      "execution_count": null,
      "outputs": []
    },
    {
      "cell_type": "markdown",
      "metadata": {
        "id": "DWlmzDr26SII"
      },
      "source": [
        "### HyperParameter Tracking"
      ]
    },
    {
      "cell_type": "markdown",
      "metadata": {
        "id": "DAMy-o62kH9h"
      },
      "source": [
        "#### Get Optimiser"
      ]
    },
    {
      "cell_type": "code",
      "metadata": {
        "id": "cg9EPt5qOg9Z"
      },
      "source": [
        "#export\n",
        "\n",
        "# ----------------------------\n",
        "# Splitter function used to split the params of a model into sequential parameter groups\n",
        "# based on a list of 'param_idxs'.\n",
        "# eg. [3] produces two parameter groups viz. first is arch_params[:3] and second is arch_params[3:]\n",
        "# eg. [3, 5] produces three parameter groups viz arch_params[:3], arch_params[3:5], arch_params[5:]\n",
        "# ----------------------------\n",
        "def split_sequence (arch, param_idxs):\n",
        "  # arch.parameters() is a generator. Materialise it into a list\n",
        "  params_all = list(arch.parameters())\n",
        "\n",
        "  # Split the full parameter list into a list of sub-lists based on the parameter\n",
        "  # indices. Each sub-list corresponds to a parameter group\n",
        "  params_split = [params_all[i:j] for i, j in zip([0]+param_idxs, param_idxs+[None])]\n",
        "\n",
        "  return (params_split)\n",
        "\n",
        "# ----------------------------\n",
        "# Create an Optimiser by preparing the arguments in the required format.\n",
        "#\n",
        "# 'arch' and 'opt_func' are always required. Either 'opt_groups' or 'lr' is required.\n",
        "# If 'opt_groups' is provided, 'lr' is ignored\n",
        "# If 'lr' is provided, 'opt_groups' is ignored\n",
        "# \n",
        "# See the comments for the Optimiser class further down for more details about the\n",
        "# format. We test this function below with some dummy arguments - see that for\n",
        "# an example of the argument format\n",
        "# ----------------------------\n",
        "def get_optimiser (arch, lr, opt_func, opt_groups):\n",
        "  if (opt_groups is not None):\n",
        "    # Unpack the elements of the tuple\n",
        "    split_func, hypers_group, hypers_common = opt_groups\n",
        "\n",
        "    # Get the split parameter groups using the split function\n",
        "    params_split = split_func(arch) if split_func is not None else arch.parameters()\n",
        "\n",
        "    # Create a list of dictionaries. Each dictionary has the format:\n",
        "    #   {'params': [parameters in parameter group], 'hypers_group_1': 'value', ...}\n",
        "    # So in each dictionary, we merge one key for the 'params' with all the keys for\n",
        "    # the hypers_group\n",
        "    param_groups = [{'params': ps, **hg} for ps, hg in zip(params_split, hypers_group)]\n",
        "\n",
        "    # Create the optimiser using the param groups and the \n",
        "    opt = opt_func(param_groups, **hypers_common)\n",
        "  else:\n",
        "    # This is the simple case where all parameters are in a single group and there\n",
        "    # is only hyperparameter for the learning rate\n",
        "    opt = opt_func(arch.parameters(), lr=lr)\n",
        "\n",
        "  return (opt)"
      ],
      "execution_count": null,
      "outputs": []
    },
    {
      "cell_type": "code",
      "metadata": {
        "id": "S7AXiNrRPNs_",
        "colab": {
          "base_uri": "https://localhost:8080/"
        },
        "outputId": "0914a20d-6451-4b2b-c170-f4190bd70e73"
      },
      "source": [
        "# Test the optimiser is able to process the arguments correctly\n",
        "def opt_func_test(pg, **hd): print(pg, hd)\n",
        "# arch_dummy provides a arch_dummy.parameters() function that returns a list of parameters\n",
        "def arch_dummy(): return (0)\n",
        "arch_dummy.parameters = lambda : ['a', 'b', 'c', 'd', 'e']\n",
        "arch_dummy.parameters()\n",
        "test_split_func = partial(split_sequence, param_idxs=[2])\n",
        "get_optimiser (arch_dummy, lr=9, opt_func=opt_func_test, opt_groups=(test_split_func, [{'x': 4}, {'y': 5}], {'lr': 3, 'mom':  10, 'wd': 2}))"
      ],
      "execution_count": null,
      "outputs": [
        {
          "output_type": "execute_result",
          "data": {
            "text/plain": [
              "['a', 'b', 'c', 'd', 'e']"
            ]
          },
          "metadata": {
            "tags": []
          },
          "execution_count": 9
        },
        {
          "output_type": "stream",
          "text": [
            "[{'params': ['a', 'b'], 'x': 4}, {'params': ['c', 'd', 'e'], 'y': 5}] {'lr': 3, 'mom': 10, 'wd': 2}\n"
          ],
          "name": "stdout"
        }
      ]
    },
    {
      "cell_type": "code",
      "metadata": {
        "id": "I2sCDP8KXDMx",
        "colab": {
          "base_uri": "https://localhost:8080/"
        },
        "outputId": "dcb8bf29-0d75-4b18-b9a3-6c9a8665b82c"
      },
      "source": [
        "# Test with no common hyper parameters\n",
        "get_optimiser (arch_dummy, lr=9, opt_func=opt_func_test, opt_groups=(test_split_func, [{'x': 4}, {'y': 5}], {}))"
      ],
      "execution_count": null,
      "outputs": [
        {
          "output_type": "stream",
          "text": [
            "[{'params': ['a', 'b'], 'x': 4}, {'params': ['c', 'd', 'e'], 'y': 5}] {}\n"
          ],
          "name": "stdout"
        }
      ]
    },
    {
      "cell_type": "markdown",
      "metadata": {
        "id": "4sM-FIpqOO09"
      },
      "source": [
        "#### Callbacks for Variable Learning Rate for each batch, and Recording of LR and Losses."
      ]
    },
    {
      "cell_type": "code",
      "metadata": {
        "id": "hraovg5qngci"
      },
      "source": [
        "#export\n",
        "\n",
        "#----------------------------------------------------\n",
        "# OVERVIEW of Variable Learning Rates\n",
        "#\n",
        "# These basic Scheduler functions define curves of different shapes between a start value and\n",
        "# an end value (on the Y axis). Hence, given a 'x position' that lies between 0 and 1, they\n",
        "# return a 'y value' on that curve. The Scheduler functions are simply mathematical \n",
        "# formulae. They have no notion of machine learning parameters.\n",
        "#\n",
        "#      For instance, a Linear Schedule defines a straight line between the start value \n",
        "#      and end value. Given any x-position it computes a y-value on that line.\n",
        "#\n",
        "#      Similarly, a Cosine Schedule defines a cos curve between the start and end values.\n",
        "#\n",
        "# A Combine Scheduler is a composite scheduler that combines two or more basic schedulers in\n",
        "# some proportion. For instance, it can combine scheduler A (30%) and B (70%). For the first\n",
        "# 30% of x-positions, it computes y-values using scheduler A. For the next 70% of x-positions\n",
        "# it computes y-values using scheduler B.\n",
        "#\n",
        "# The OptimParamCB callback then applies these scheduler functions to compute hyperparameter\n",
        "# values and vary them during training. It takes a hyperparameter (eg. learning rate) and a\n",
        "# scheduler function (eg. cosine). The 'x-axis-position' is the %-completion of the training epochs\n",
        "# based on the epoch/batch number during training. As training progresses from batch to batch, it \n",
        "# computes a 'y-value' for the variable learning rate along the cosine curve.\n",
        "#\n",
        "# The Recorder callback tracks this variable learning rate so that it can be plotted. It \n",
        "# stores the epoch/batch number as the x-position and the corresponding learning rate and \n",
        "# loss values.\n",
        "#\n",
        "# To use it, add a OptimParamCB callback during training, and provide it the hyperparameter \n",
        "# that you want to vary (usually learning rate, but could be momentum etc) along with the\n",
        "# appropriate scheduler. In addition, if you want to plot the learning rate (and loss) add a\n",
        "# Recorder callback as well.\n",
        "#---------------------------\n",
        "\n",
        "#----------------------------------------------------\n",
        "# Decorator used by the schedulers below. It wraps each of the scheduler functions\n",
        "# below to create and return partial functions with preset values of 'start' and 'end'\n",
        "#----------------------------------------------------\n",
        "def annealer(f):\n",
        "    def _inner(start, end): return partial(f, start, end)\n",
        "    return _inner\n",
        "\n",
        "#----------------------------------------------------\n",
        "# Creates a simple linear schedule going from start to end. \n",
        "# It returns a function that takes a pos argument (going from 0 to 1) \n",
        "# such that this function goes from start (at pos=0) to end (at pos=1) in \n",
        "# a linear fashion.\n",
        "#----------------------------------------------------\n",
        "@annealer\n",
        "def sched_lin(start, end, pos): return start + pos*(end-start)\n",
        "\n",
        "#----------------------------------------------------\n",
        "# Cosine schedule\n",
        "#----------------------------------------------------\n",
        "@annealer\n",
        "def sched_cos(start, end, pos):\n",
        "  if (pos == 0.0):\n",
        "    return start\n",
        "  cos_out = np.cos(np.pi * pos) + 1\n",
        "  return end + (start-end)/2 * cos_out\n",
        "\n",
        "#----------------------------------------------------\n",
        "# Constant schedule\n",
        "#----------------------------------------------------\n",
        "@annealer\n",
        "def sched_no(start, end, pos):  return start\n",
        "\n",
        "#----------------------------------------------------\n",
        "# Exponential schedule\n",
        "#----------------------------------------------------\n",
        "@annealer\n",
        "def sched_exp(start, end, pos): return start * (end/start) ** pos\n"
      ],
      "execution_count": null,
      "outputs": []
    },
    {
      "cell_type": "code",
      "metadata": {
        "id": "ieQdh966Sc91",
        "colab": {
          "base_uri": "https://localhost:8080/",
          "height": 282
        },
        "outputId": "3534d9cd-fea5-414a-f4ac-8fdf33d12af5"
      },
      "source": [
        "def plot_annealings():\n",
        "  #This monkey-patch is there to be able to plot tensors\n",
        "  torch.Tensor.ndim = property(lambda x: len(x.shape))\n",
        "\n",
        "  annealings = \"NO LINEAR COS EXP\".split()\n",
        "  a = torch.arange(0, 100)\n",
        "  p = torch.linspace(0.01,1,100)\n",
        "\n",
        "  fns = [sched_no, sched_lin, sched_cos, sched_exp]\n",
        "  for fn, t in zip(fns, annealings):\n",
        "      f = fn(2, 1e-2)\n",
        "      plt.plot(a, [f(o) for o in p], label=t)\n",
        "  plt.legend();\n",
        "\n",
        "plot_annealings()\n",
        "f = sched_lin(1,2)\n",
        "f(0.3)"
      ],
      "execution_count": null,
      "outputs": [
        {
          "output_type": "execute_result",
          "data": {
            "text/plain": [
              "1.3"
            ]
          },
          "metadata": {
            "tags": []
          },
          "execution_count": 12
        },
        {
          "output_type": "display_data",
          "data": {
            "image/png": "[encoded data removed]",
            "text/plain": [
              "<Figure size 432x288 with 1 Axes>"
            ]
          },
          "metadata": {
            "tags": [],
            "needs_background": "light"
          }
        }
      ]
    },
    {
      "cell_type": "code",
      "metadata": {
        "id": "OyMici5E05tx"
      },
      "source": [
        "#export\n",
        "\n",
        "#----------------------------------------------------\n",
        "# Combine different schedulers. Use 'scheds[i]' for 'pcts[i]' of the training.\n",
        "#----------------------------------------------------\n",
        "def combine_scheds(pcts, scheds):\n",
        "  # Get the edge percents of each bin from the given percent sizes of each bin. Also\n",
        "  # add a left-most edge of '0.0'\n",
        "  bin_edge_pcts = np.cumsum([0.] + pcts)\n",
        "  def _inner(i_iter, total_iter):\n",
        "    # Current iteration goes from 0 to total_iter - 1, so bin_idx below will never\n",
        "    # cross the rightmost 100% bin\n",
        "    assert(i_iter < total_iter)\n",
        "    # Get the iteration number of each bin edge based on the total number\n",
        "    # of iterations\n",
        "    bin_edge_iters = (bin_edge_pcts * total_iter).astype(int)\n",
        "\n",
        "    # Index of bin that the current iteration 'i_iter' corresponds to\n",
        "    bin_idx = np.digitize([i_iter], bin_edge_iters)[0] - 1\n",
        "\n",
        "    # Calculate the percent position of the current iteration within that bin\n",
        "    pos_in_bin = i_iter - bin_edge_iters[bin_idx]\n",
        "    bin_sz = bin_edge_iters[bin_idx + 1] - bin_edge_iters[bin_idx]\n",
        "    pct_pos_in_bin = pos_in_bin / bin_sz\n",
        "\n",
        "    sched_fn = scheds[bin_idx]\n",
        "    return (sched_fn(pct_pos_in_bin))\n",
        "  return _inner"
      ],
      "execution_count": null,
      "outputs": []
    },
    {
      "cell_type": "code",
      "metadata": {
        "id": "SrjWMpvFSKHJ",
        "colab": {
          "base_uri": "https://localhost:8080/",
          "height": 282
        },
        "outputId": "fff10427-6c6a-405f-bda0-acb1262cbde8"
      },
      "source": [
        "#----------------------------------------------------\n",
        "# Combine Scheduler example - Use 30% of the budget to go from 0.3 to 0.6 following \n",
        "# a cosine, then the last 70% of the budget to go from 0.6 to 0.2, still following a cosine.\n",
        "#----------------------------------------------------\n",
        "\n",
        "sched = combine_scheds([0.3, 0.7], [sched_cos(0.3, 0.6), sched_cos(0.6, 0.2)])\n",
        "a = torch.arange(0, 99)\n",
        "p = torch.linspace(0.01,0.99, 99)\n",
        "plt.plot(a, [sched(o) for o in p])"
      ],
      "execution_count": null,
      "outputs": [
        {
          "output_type": "execute_result",
          "data": {
            "text/plain": [
              "[<matplotlib.lines.Line2D at 0x7f4c138deb70>]"
            ]
          },
          "metadata": {
            "tags": []
          },
          "execution_count": 14
        },
        {
          "output_type": "display_data",
          "data": {
            "image/png": "[encoded data removed]",
            "text/plain": [
              "<Figure size 432x288 with 1 Axes>"
            ]
          },
          "metadata": {
            "tags": [],
            "needs_background": "light"
          }
        }
      ]
    },
    {
      "cell_type": "code",
      "metadata": {
        "id": "V4me3XDmb2KW"
      },
      "source": [
        "#export\n",
        "\n",
        "#----------------------------------------------------\n",
        "# Callback to store the 'lr' and loss after each batch\n",
        "# See the OVERVIEW of Variable Learning Rates explanation above for more background\n",
        "#----------------------------------------------------\n",
        "class Recorder(Callback):\n",
        "  def __init__(self):\n",
        "    self.lrs = []\n",
        "    self.losses = []\n",
        "\n",
        "  def end_tr_batch(self, ctx):\n",
        "    loss = ctx.loss.detach().cpu()\n",
        "    lrs = [pg['lr'] for pg in ctx.opt.param_groups]\n",
        "\n",
        "    self.losses.append(loss)\n",
        "    self.lrs.append(lrs)\n",
        "\n",
        "    dtr = ctx.dtr\n",
        "    if (dtr is not None):\n",
        "      dtr.update_batch({'lr': lrs})\n",
        "\n",
        "  def plot_lr  (self, pgid=-1): \n",
        "    plt.plot(self.lrs)\n",
        "\n",
        "  def plot_loss(self, skip_last=0): \n",
        "    plt.plot(self.losses[:len(self.losses)-skip_last])\n",
        "\n",
        "class WAIT_Recorder(Callback):\n",
        "  def __init__(self):\n",
        "    self.lrs = []\n",
        "    self.losses = []\n",
        "\n",
        "  def end_tr_batch(self, ctx):\n",
        "    for pg in ctx.opt.param_groups:\n",
        "      self.lrs.append(pg['lr'])\n",
        "      self.losses.append(ctx.loss.detach().cpu()) \n",
        "\n",
        "  def plot_lr  (self, pgid=-1): \n",
        "    plt.plot(self.lrs)\n",
        "\n",
        "  def plot_loss(self, skip_last=0): \n",
        "    plt.plot(self.losses[:len(self.losses)-skip_last])\n",
        "        \n",
        "  def plot(self, skip_last=0, pgid=-1):\n",
        "        losses = [o.item() for o in self.losses]\n",
        "        #lrs    = self.lrs[pgid]\n",
        "        lrs    = self.lrs\n",
        "        n = len(losses)-skip_last\n",
        "        plt.xscale('log')\n",
        "        plt.plot(lrs[:n], losses[:n])\n",
        "\n",
        "#----------------------------------------------------\n",
        "# Callback to vary optimiser hyperparameters for each epoch, based on a scheduling function\n",
        "# See the OVERVIEW of Variable Learning Rates explanation above for more background\n",
        "#----------------------------------------------------\n",
        "class OptimParamCB(Callback):\n",
        "  def __init__(self, param_name, param_func, total_iter=0):\n",
        "    self.param_name = param_name\n",
        "    # Convert to list if it isn't already a list\n",
        "    self.param_func = param_func if (isinstance(param_func, list)) else [param_func]\n",
        "    # We are explicitly given the number of iterations in case we have to \n",
        "    # train for less than the full number of epochs eg. for lr_find\n",
        "    self.total_iter = total_iter\n",
        "\n",
        "  def begin_tr_batch(self, ctx):\n",
        "    # There are three scenarios:\n",
        "    #   1. Single param group and single param func\n",
        "    #   2. Multiple param groups and single param func which is used for all groups\n",
        "    #   3. Multiple param groups and matching list of multiple param func, each \n",
        "    #        function is used for its matching group\n",
        "    assert (isinstance(self.param_func, list))\n",
        "    if (self.total_iter > 0):\n",
        "      # We have been explicitly told to train for less than the full number\n",
        "      # of epochs\n",
        "      total_iter = self.total_iter\n",
        "      assert(self.total_iter <= ctx.num_batches * ctx.num_epochs)\n",
        "    else:\n",
        "      total_iter = ctx.num_batches * ctx.num_epochs\n",
        "\n",
        "    # Current Iteration goes from 0 to total_iter - 1\n",
        "    assert(ctx.i_tr_iter < total_iter)\n",
        "\n",
        "    for pg_i, pg in enumerate(ctx.opt.param_groups):\n",
        "      # Pick the appropriate param func based on the three scenarios above\n",
        "      if (len(self.param_func) > 1):\n",
        "        # Scenario #3\n",
        "        assert(len(ctx.opt.param_groups) == len(self.param_func))\n",
        "        func = self.param_func[pg_i]\n",
        "      else:\n",
        "        # Scenario #1 or #2\n",
        "        func = self.param_func[0]\n",
        "\n",
        "      # Use the function to calculate the new hyperparameter value and update it.\n",
        "      # We provide the current iteration number and the total number of iterations\n",
        "      # so that the function can determine the new hyperparameter value based on\n",
        "      # the percent completion of training.\n",
        "      param_val = func(ctx.i_tr_iter, total_iter)\n",
        "      # !!!!!!!!!!! momentum and betas for AdamW\n",
        "      if ((self.param_name == 'momentum') and\n",
        "          ('betas' in pg.keys())):\n",
        "        pg['betas'] = (param_val, pg['betas'][1])\n",
        "      else:\n",
        "        pg[self.param_name] = param_val\n",
        "\n",
        "#----------------------------------------------------\n",
        "# Returns a list of schedules based on Cosine which can be combined to create a\n",
        "# One-cycle schedule. It goes up from 'start' to a 'high' point and then comes \n",
        "# down from 'high' to 'end'\n",
        "#----------------------------------------------------\n",
        "def cos_OneCycle(start, high, end):\n",
        "  return [sched_cos(start, high), sched_cos(high, end)]\n",
        "\n",
        "#----------------------------------------------------\n",
        "# Creates the Callbacks necessary for One-Cycle training. Returns a list of\n",
        "# OptimParamCB callbacks to vary the learning rate and momentum hyperparameters using\n",
        "# a cosine one-cycle schedule.\n",
        "#----------------------------------------------------\n",
        "def create_OneCycleCB(lrs, phases=[0.3, 0.7], mom_start=0.95, mom_mid=0.85, mom_end=0.95):\n",
        "  start_div, end_div = 25.0, 250000.0\n",
        "  sched_lr  = [combine_scheds(phases, cos_OneCycle(lr/start_div, lr, lr/end_div)) for lr in lrs]\n",
        "  sched_mom = combine_scheds(phases, cos_OneCycle(mom_start, mom_mid, mom_end))\n",
        "  return [OptimParamCB('lr', sched_lr), OptimParamCB('momentum', sched_mom)]"
      ],
      "execution_count": null,
      "outputs": []
    },
    {
      "cell_type": "markdown",
      "metadata": {
        "id": "qakwPvwNYi3p"
      },
      "source": [
        "**Test the Recorder and OptimParamCB callbacks**"
      ]
    },
    {
      "cell_type": "code",
      "metadata": {
        "id": "oklZGI8FTlHL"
      },
      "source": [
        "# TODO !!!!!!!!!!!! this is temporarily copied here from training_lib, just so that\n",
        "# we can continue to run the tests below. This problem happened because the Recorder\n",
        "# and OptimCB and variable rate scheduling were all in training_lib earlier. \n",
        "# Get rid of this and replace with run_cnn_mnist\n",
        "\n",
        "import torch.nn.functional as F\n",
        "from torch import nn \n",
        "from nb_data import MultiDimDataset, get_dls\n",
        "from nb_util import get_mnist_data\n",
        "from nb_training import Trainer\n",
        "\n",
        "def get_linear_model(inp_size, n_classes, lr=0.5, nh=50):\n",
        "    model = nn.Sequential(nn.Linear(inp_size,nh), nn.ReLU(), nn.Linear(nh, n_classes))\n",
        "    return model, optim.SGD(model.parameters(), lr=lr)\n",
        "  \n",
        "def run_mnist(cbs, num_epochs, repro=False, dtr=None):\n",
        "  x_train,y_train,x_valid,y_valid = get_mnist_data()\n",
        "  train_ds,valid_ds = MultiDimDataset(x_train, y_train), MultiDimDataset(x_valid, y_valid)\n",
        "  train_dl,valid_dl = get_dls(train_ds, valid_ds, bs=512)\n",
        "  n_classes = y_train.max().item()+1\n",
        "  loss_func = F.cross_entropy\n",
        "\n",
        "  if (repro):\n",
        "    torch.manual_seed(0)\n",
        "  model, opt = get_linear_model(train_dl.dataset.x.shape[1], n_classes=n_classes, lr=0.5, nh=50)\n",
        "  loop = Trainer(train_dl, valid_dl, model, opt, loss_func, cbs, dtr)\n",
        "  loop.fit(num_epochs)\n",
        "  return(loop)"
      ],
      "execution_count": null,
      "outputs": []
    },
    {
      "cell_type": "code",
      "metadata": {
        "id": "yU1SBd1hSoeF",
        "colab": {
          "base_uri": "https://localhost:8080/"
        },
        "outputId": "2aa9b2f1-392b-43a1-eeb7-4887f2cdf7a4"
      },
      "source": [
        "# Run based on the combined schedule defined earlier\n",
        "lr_cbs = [Recorder(), MetricsCB({\"acc\": accuracy}), OptimParamCB(\"lr\", sched)]\n",
        "loop = run_mnist(lr_cbs, 3, True)\n",
        "\n",
        "# Plot the loss\n",
        "loop.cbs[0].plot_loss()"
      ],
      "execution_count": null,
      "outputs": [
        {
          "output_type": "stream",
          "text": [
            "Downloading http://deeplearning.net/data/mnist/mnist.pkl.gz\n"
          ],
          "name": "stdout"
        },
        {
          "output_type": "display_data",
          "data": {
            "text/html": [
              ""
            ],
            "text/plain": [
              "<IPython.core.display.HTML object>"
            ]
          },
          "metadata": {
            "tags": []
          }
        },
        {
          "output_type": "stream",
          "text": [
            "['epoch', 'train_loss', 'train_acc', 'valid_loss', 'valid_acc', 'time']\n",
            "['0', '0.783583', '0.785805', '0.315888', '0.908137', '00:00']\n",
            "['1', '0.299100', '0.912224', '0.237863', '0.931475', '00:00']\n",
            "['2', '0.235036', '0.932449', '0.213034', '0.939535', '00:00']\n"
          ],
          "name": "stdout"
        },
        {
          "output_type": "display_data",
          "data": {
            "image/png": "[encoded data removed]",
            "text/plain": [
              "<Figure size 432x288 with 1 Axes>"
            ]
          },
          "metadata": {
            "tags": [],
            "needs_background": "light"
          }
        }
      ]
    },
    {
      "cell_type": "code",
      "metadata": {
        "id": "mK3WaGdqW8pN",
        "colab": {
          "base_uri": "https://localhost:8080/"
        },
        "outputId": "bca4c7fc-eb49-4fd1-90ea-016bfb6efbbf"
      },
      "source": [
        "# Plot the Learning Rate\n",
        "loop.cbs[0].plot_lr()"
      ],
      "execution_count": null,
      "outputs": [
        {
          "output_type": "display_data",
          "data": {
            "image/png": "[encoded data removed]",
            "text/plain": [
              "<Figure size 432x288 with 1 Axes>"
            ]
          },
          "metadata": {
            "tags": [],
            "needs_background": "light"
          }
        }
      ]
    },
    {
      "cell_type": "markdown",
      "metadata": {
        "id": "OTd-TkbWY2qi"
      },
      "source": [
        "**Test the One Cycle Training**"
      ]
    },
    {
      "cell_type": "code",
      "metadata": {
        "id": "8AGJtJtmXebi",
        "colab": {
          "base_uri": "https://localhost:8080/"
        },
        "outputId": "22569f1e-ffb6-46c1-fb38-9d73d30f8c82"
      },
      "source": [
        "onecycle_cbs = [Recorder(), MetricsCB({\"acc\": accuracy})] + create_OneCycleCB(lrs=[0.5])\n",
        "loop = run_mnist(onecycle_cbs, 2, True)\n",
        "\n",
        "# Plot the Learning Rate\n",
        "loop.cbs[0].plot_lr()"
      ],
      "execution_count": null,
      "outputs": [
        {
          "output_type": "stream",
          "text": [
            "['epoch', 'train_loss', 'train_acc', 'valid_loss', 'valid_acc', 'time']\n",
            "['0', '0.681738', '0.815787', '0.200953', '0.942668', '00:00']\n",
            "['1', '0.175514', '0.947574', '0.151158', '0.958275', '00:00']\n"
          ],
          "name": "stdout"
        },
        {
          "output_type": "display_data",
          "data": {
            "image/png": "[encoded data removed]",
            "text/plain": [
              "<Figure size 432x288 with 1 Axes>"
            ]
          },
          "metadata": {
            "tags": [],
            "needs_background": "light"
          }
        }
      ]
    },
    {
      "cell_type": "markdown",
      "metadata": {
        "id": "PGQyiUyEfta6"
      },
      "source": [
        "#### LR Range Find Callback"
      ]
    },
    {
      "cell_type": "code",
      "metadata": {
        "id": "TmzrYGCyfr-z"
      },
      "source": [
        "#export\n",
        "\n",
        "class LRRangeFind(Callback):\n",
        "  def __init__(self, num_iter):\n",
        "    self.num_iter = num_iter\n",
        "    self.best_loss = 0\n",
        "\n",
        "  def end_tr_batch(self, ctx):\n",
        "    # !!!!!!! Also should stop training if loss shoots up out of control\n",
        "\n",
        "    if ((ctx.i_tr_iter == 0) or (ctx.loss < self.best_loss)):\n",
        "      self.best_loss = ctx.loss.detach()\n",
        "\n",
        "    # +1 because i_tr_iter starts from 0\n",
        "    if ((ctx.i_tr_iter + 1 >= self.num_iter) or\n",
        "        (ctx.loss > self.best_loss * 4)):\n",
        "      raise CancelFitException()"
      ],
      "execution_count": null,
      "outputs": []
    },
    {
      "cell_type": "markdown",
      "metadata": {
        "id": "SPDDfDomsdq6"
      },
      "source": [
        "### Use different custom Optimisers - SGD, Weight Decay, Momentum, Adam, LAMB"
      ]
    },
    {
      "cell_type": "code",
      "metadata": {
        "id": "TfpRjJbVtGeU"
      },
      "source": [
        "#export\n",
        "\n",
        "# In PyTorch, the base optimizer in torch.optim contains a dictionary that stores the model parameters in \n",
        "# different parameter groups along with the hyperparameters for each group. Each parameter group can have \n",
        "# different hyper-parameters eg. different learning rates/momentum/weight decay. This is how we can do \n",
        "# discriminative learning rates).\n",
        "#\n",
        "# An optimiser contains a method step() that updates our parameters with the gradients and \n",
        "# a method zero_grad to detach and zero the gradients of all our parameters\n",
        "#\n",
        "# The Pytorch optimiser takes in arguments in two flavours.\n",
        "#   i) A list of parameters, followed by hyperparameters. This means a single parameter group\n",
        "#      consisting of all parameters.\n",
        "#   ii) A list of dictionaries, followed by hyperparameters. Each dictionary describes one\n",
        "#       parameter group. It has a key for 'params' and the value is a list of parameters. It\n",
        "#       can also have keys for hyperparameters which apply only to that parameter group\n",
        "#\n",
        "# An example of the 2nd flavour is:\n",
        "#  opt = opt_func([\n",
        "#     {'params': params[:3], 'lr': 0.5, 'weight_decay': 0.1},\n",
        "#     {'params': params[3:], 'momentum': 0.88}\n",
        "#  ], lr=0.6)\n",
        "#\n",
        "# In this example, the hyperparameter 'lr=0.6' applies to all the parameter groups, unless\n",
        "# a particular group overrides them. For example, the first group has overridden it with 'lr=0.5'\n",
        "\n",
        "#----------------------------------------------------\n",
        "# Create Pytorch-equivalent optimiser from scratch. We add one more argument which is a\n",
        "# list of stepper functions, which have to be passed in using partials. Each stepper function\n",
        "# loops over all the parameters to execute the step. This allows us to plug in different step \n",
        "# algorithms\n",
        "#\n",
        "# Hyperparameters are specified at three levels:\n",
        "#   1) Default hyperparameters - these are 'built-in' and defined within the stepper function\n",
        "#   2) Common hyperparameters - these are common to all parameter groups\n",
        "#   3) Group-specific hyperparameters - these are specific to one parameter group\n",
        "# #3 overrides #2, which overrides #1. The user can pass in #2 and #3. \n",
        "#\n",
        "# Params - a list of parameters, or a list of dictionaries for each parameter group\n",
        "# Steppers - a list of stepper functions\n",
        "# Hypers_all - a dictionary of hyperparameters which are common to all parameter groups\n",
        "#----------------------------------------------------\n",
        "class Optimizer():\n",
        "    def __init__(self, params, steppers, **hypers_common):\n",
        "        # Params is a generator, so materialise it\n",
        "        self.param_groups = list(params)\n",
        "\n",
        "        # Get default values for any hyperparameters defined by each stepper function\n",
        "        hypers_default = self._get_hypers_default(steppers)\n",
        "        \n",
        "        # Merge those values into the passed in hyperparameters. The passed in hyperparameters\n",
        "        # override the default ones. These are now the common hyperparameters that apply\n",
        "        # to all parameter groups\n",
        "        hypers_all = {**hypers_default, **hypers_common}\n",
        "\n",
        "        # Check which flavour of params we have been given:\n",
        "        #   a list of parameters representing a single parameter group, or \n",
        "        #   a list of dictionaries, representing multiple parameter groups\n",
        "        # Convert both into a common format viz. a list of dictionaries, with one\n",
        "        # dictionary per parameter group\n",
        "        if not isinstance(self.param_groups[0], dict):\n",
        "          # This is a single parameter group. Convert it to a list with a single \n",
        "          # dictionary for a single group with all hyperparameters \n",
        "          self.param_groups = [{'params': self.param_groups, **hypers_all}]\n",
        "        else:\n",
        "          # These are multiple parameter groups. Merge the common hyperparameters\n",
        "          # into every dictionary. The group-specific hyperparameters override the\n",
        "          # common ones\n",
        "          self.param_groups = [{**hypers_all, **pg} for pg in self.param_groups]\n",
        "\n",
        "        # List of stepper functions\n",
        "        self.steppers = listify(steppers)\n",
        "\n",
        "        self._print_opt()\n",
        "\n",
        "    # ----------------------------\n",
        "    # Get a dictionary of all default hyperparameters from all stepper functions\n",
        "    # ----------------------------\n",
        "    def _get_hypers_default(self, steppers):\n",
        "      hypers_default = dict()\n",
        "\n",
        "      # Go through all stepper functions and check if it has a '_defaults' attribute\n",
        "      for stepper in steppers:\n",
        "        defaults = getattr(stepper, '_defaults', {})\n",
        "        hypers_default.update(defaults)\n",
        "      return (hypers_default)\n",
        "\n",
        "    # ----------------------------\n",
        "    # For debugging. Print all the parameter groups with their hyperparameters\n",
        "    # ----------------------------\n",
        "    def _print_opt(self):\n",
        "      for pg in self.param_groups:\n",
        "        hyper = {k:v for k,v in pg.items() if k != 'params'}\n",
        "        print (len(pg['params']), hyper)\n",
        "    \n",
        "    # ----------------------------\n",
        "    # Zero out all parameters for all parameter groups\n",
        "    # This function is part of Pytorch's Optimiser 'interface'\n",
        "    # ----------------------------\n",
        "    def zero_grad(self):\n",
        "      for pg in self.param_groups:\n",
        "        for p in pg['params']:\n",
        "          if (p.grad is not None):\n",
        "            p.grad.detach_()\n",
        "            p.grad.zero_()\n",
        "\n",
        "    # ----------------------------\n",
        "    # Implement a gradient update step\n",
        "    # This function is part of Pytorch's Optimiser 'interface'\n",
        "    # ----------------------------\n",
        "    def step(self):\n",
        "      # Go through all parameter groups\n",
        "      for pg in self.param_groups:\n",
        "        # Get the hyperparameters for each group. 'pg' is a dictionary\n",
        "        hyper = {k:v for k,v in pg.items() if k != 'params'}\n",
        "\n",
        "        # Go through the list of parameters 'p' for this group.\n",
        "        for p in pg['params']:\n",
        "          if (p.grad is not None):\n",
        "            # Apply each stepper function to the parameter in a pipeline\n",
        "            compose(p, self.steppers, **hyper)"
      ],
      "execution_count": null,
      "outputs": []
    },
    {
      "cell_type": "markdown",
      "metadata": {
        "id": "XT6IKJPRnJZX"
      },
      "source": [
        "### SGD"
      ]
    },
    {
      "cell_type": "code",
      "metadata": {
        "id": "JeAEu3yxz7OW"
      },
      "source": [
        "#export\n",
        "\n",
        "#----------------------------------------------------\n",
        "# Vanilla Stochastic Gradient Descent optimiser. \n",
        "# This is equivalent to Pytorch's built-in optim.SGD optimiser\n",
        "#----------------------------------------------------\n",
        "def sgd_step(p, lr, **kwargs):\n",
        "  p.data = p.data - lr * p.grad.data\n",
        "\n",
        "  # Alternate syntax - this first multiplies 'lr' with the gradients and then adds it in place\n",
        "  #p.data.add_(-lr, p.grad.data)\n",
        "\n",
        "  return p\n",
        "sgd_step._defaults = dict(lr=0.2)"
      ],
      "execution_count": null,
      "outputs": []
    },
    {
      "cell_type": "code",
      "metadata": {
        "id": "YAaA9fJxltgm"
      },
      "source": [
        "# Use our Stochastic Gradient Descent Optimiser with a single parameter group. It should \n",
        "# produce identical results to Pytorch's built-in SGD optimiser below\n",
        "lr_cbs = [MetricsCB({\"acc\": accuracy})]\n",
        "opt_func = partial(Optimizer, steppers=[sgd_step])\n",
        "run_cnn_mnist(1, CNNArch(), opt_func=opt_func, cbs=lr_cbs, repro=True)\n",
        "\n",
        "# Use our Optimiser with multiple parameter groups. The parameter groups are defined as a tuple\n",
        "# of (splitter function, group specific hyperparameters, common hyperparameters)\n",
        "# Group hyperparameters eg. [{hyperparameters for first group}, {hyperparameters for second group}]\n",
        "# Common hyperparameters eg. {common hyperparameters}\n",
        "opt_group = (partial(split_sequence, param_idxs=[3]), [{'lr': 0.5, 'weight_decay': 0.1}, {'momentum': 0.88}], {'lr': 0.6})\n",
        "run_cnn_mnist(1, CNNArch(), opt_func=opt_func, opt_groups=opt_group, cbs=lr_cbs, repro=True)\n",
        "\n",
        "# Use Pytorch's built-in SGD Optimiser\n",
        "run_cnn_mnist(1, CNNArch(), cbs=lr_cbs, repro=True)"
      ],
      "execution_count": null,
      "outputs": []
    },
    {
      "cell_type": "markdown",
      "metadata": {
        "id": "b0peMPuftiuQ"
      },
      "source": [
        "### Test with Parameter Scheduler and Recorder"
      ]
    },
    {
      "cell_type": "code",
      "metadata": {
        "id": "Oea3dV_TYTP1"
      },
      "source": [
        "#----------------------------------------------------\n",
        "# Plot loss using Built-in Optimiser and a variable learning rate scheduler\n",
        "#----------------------------------------------------\n",
        "\n",
        "sched = combine_scheds([0.3, 0.7], [sched_cos(0.3, 0.6), sched_cos(0.6, 0.2)])\n",
        "lr_cbs = [CudaCB(device = torch.device('cuda',0)), Recorder(), MetricsCB({\"acc\": accuracy}), OptimParamCB(\"lr\", sched)]\n",
        "loop = run_cnn_mnist(1, CNNArch(), cbs=lr_cbs, repro=True)\n",
        "loop.cbs[1].plot_loss()"
      ],
      "execution_count": null,
      "outputs": []
    },
    {
      "cell_type": "code",
      "metadata": {
        "id": "KorjtI7vbKsz"
      },
      "source": [
        "#----------------------------------------------------\n",
        "# Plot loss using our Optimiser and make sure it is similar to the built-in\n",
        "#----------------------------------------------------\n",
        "opt_func = partial(Optimizer, steppers=[sgd_step])\n",
        "lr_cbs = [CudaCB(device = torch.device('cuda',0)), Recorder(), MetricsCB({\"acc\": accuracy}), OptimParamCB(\"lr\", sched)]\n",
        "loop = run_cnn_mnist(1, CNNArch(), opt_func=opt_func, cbs=lr_cbs, repro=True)\n",
        "loop.cbs[1].plot_loss()"
      ],
      "execution_count": null,
      "outputs": []
    },
    {
      "cell_type": "code",
      "metadata": {
        "id": "-EpBfns4ZKmL"
      },
      "source": [
        "#----------------------------------------------------\n",
        "# Plot learning rate\n",
        "#----------------------------------------------------\n",
        "loop.cbs[1].plot_lr()"
      ],
      "execution_count": null,
      "outputs": []
    },
    {
      "cell_type": "markdown",
      "metadata": {
        "id": "qpxQd9HonFo1"
      },
      "source": [
        "### Weight Decay and L2 Regularisation"
      ]
    },
    {
      "cell_type": "code",
      "metadata": {
        "id": "NZ5mn7PtFEp_"
      },
      "source": [
        "#export\n",
        "\n",
        "#----------------------------------------------------\n",
        "# Weight Decay optimiser\n",
        "# new_weight = weight - lr * weight.grad - lr * wd * weight\n",
        "# New Weight = Weight - Regular SGD - Weight Decay\n",
        "#----------------------------------------------------\n",
        "def weight_decay_step(p, lr, weight_decay, **kwargs):\n",
        "    p.data = p.data * (1 - lr*weight_decay)\n",
        "    \n",
        "    #p.data.mul_(1 - lr*weight_decay)\n",
        "    return p\n",
        "weight_decay_step._defaults = dict(weight_decay=0.)\n",
        "\n",
        "#----------------------------------------------------\n",
        "# L2 Regularisation optimiser (very similar to Weight Decay)\n",
        "# weight.grad += wd * weight\n",
        "#----------------------------------------------------\n",
        "def l2_reg_step(p, lr, weight_decay, **kwargs):\n",
        "  p.grad.data = p.grad.data + weight_decay * p.data\n",
        "  #p.grad.data.add_(weight_decay, p.data)\n",
        "  return p\n",
        "l2_reg_step._defaults = dict(weight_decay=0.)\n",
        "\n",
        "# Define an optimisation function using SGD and Weight Decay\n",
        "sgd_opt_func = partial(Optimizer, steppers=[weight_decay_step, sgd_step])"
      ],
      "execution_count": null,
      "outputs": []
    },
    {
      "cell_type": "code",
      "metadata": {
        "id": "Uxc0SjtsnBKY"
      },
      "source": [
        "# Test an Optimiser with Weight Decay + SGD steppers\n",
        "opt_func = sgd_opt_func\n",
        "# No parameter groups, but provide common hyperparameters\n",
        "opt_group = (None, [{}], {'lr': 0.4, 'weight_decay': 1e-4})\n",
        "run_cnn_mnist(1, CNNArch(), opt_func=opt_func, opt_groups=opt_group, cbs=lr_cbs, repro=True)"
      ],
      "execution_count": null,
      "outputs": []
    },
    {
      "cell_type": "markdown",
      "metadata": {
        "id": "_RAqfTeQnOEN"
      },
      "source": [
        "### Momentum Optimiser"
      ]
    },
    {
      "cell_type": "code",
      "metadata": {
        "id": "Iex0e2ukd2Ay"
      },
      "source": [
        "#export\n",
        "\n",
        "#----------------------------------------------------\n",
        "# Momentum optimiser\n",
        "#\n",
        "# Calculate momentum state (ie. Moving Average of Momentum) for the gradient of each parameter and save\n",
        "# that state with the parameter tensor\n",
        "#----------------------------------------------------\n",
        "def momentum_step(p, lr, momentum, **kwargs):\n",
        "  # Initialise the moving average to 0. Save the moving average as an attribute of the\n",
        "  # parameter tensor\n",
        "  if (getattr(p, 'mov_avg', None)) is None:\n",
        "    p.mov_avg = torch.zeros_like(p.grad.data)\n",
        "  \n",
        "  # Calculate moving average of the gradient using momentum 'beta'\n",
        "  p.mov_avg = p.mov_avg * momentum + p.grad.data\n",
        "  #print(p.data.shape, p.data.mean(), p.mov_avg.mean())\n",
        "\n",
        "  # Update the parameter using the moving average of the gradient, rather than the gradient itself\n",
        "  p.data = p.data - lr * p.mov_avg\n",
        "  return p\n",
        "momentum_step._defaults = dict(momentum=0.9)"
      ],
      "execution_count": null,
      "outputs": []
    },
    {
      "cell_type": "code",
      "metadata": {
        "id": "-pNeqAv-nRUp"
      },
      "source": [
        "\n",
        "opt_func = partial(Optimizer, steppers=[momentum_step, weight_decay_step], weight_decay=0.01)\n",
        "run_cnn_mnist(1, CNNArch(), lr=0.3, opt_func=opt_func, cbs=lr_cbs, repro=True)\n",
        "\n",
        "#opt_func = partial(Optimizer, steppers=[momentum_step, weight_decay_step], weight_decay=1e-4)\n",
        "#run_cnn_mnist(1, CNNArch(), opt_func=opt_func, cbs=lr_cbs, repro=True)"
      ],
      "execution_count": null,
      "outputs": []
    },
    {
      "cell_type": "markdown",
      "metadata": {
        "id": "07hc5ZlgnUFi"
      },
      "source": [
        "### Adam optimiser"
      ]
    },
    {
      "cell_type": "code",
      "metadata": {
        "id": "R8BBvTPMr52H"
      },
      "source": [
        "#export\n",
        "\n",
        "#----------------------------------------------------\n",
        "# Adam optimiser\n",
        "#\n",
        "# Calculate Momentum (ie. Exponential Moving Average of Gradient) and RMSProp (ie. Exponential Moving Average of Gradient Squared).\n",
        "# Use de-biasing to adjust the calculated moving averages\n",
        "# Save that state with the parameter tensor and then update the parameters\n",
        "#----------------------------------------------------\n",
        "def adam_step(p, lr, momentum, sqr_momentum, eps, **kwargs):\n",
        "  # Initialise all the exponential moving averages to 0\n",
        "  if (getattr(p, 'exp_avg', None)) is None:\n",
        "    p.exp_avg = torch.zeros_like(p.grad.data)\n",
        "    p.exp_avg_sqr = torch.zeros_like(p.grad.data)\n",
        "    p.step_count = 0\n",
        "  \n",
        "  # Calculate the exponential moving averages using two different 'beta' hyperparameters\n",
        "  # Rename internal variables from momentum to beta for the calculations\n",
        "  avg_beta, avg_sqr_beta = momentum, sqr_momentum\n",
        "  p.exp_avg = p.exp_avg * avg_beta + ((1 - avg_beta) * p.grad.data)\n",
        "  p.exp_avg_sqr = p.exp_avg_sqr * avg_sqr_beta + ((1 - avg_sqr_beta) * p.grad.data * p.grad.data)\n",
        "\n",
        "  # Adjust both exponential moving averages using de-biasing\n",
        "  p.step_count += 1\n",
        "  debias_avg = 1 - avg_beta**p.step_count\n",
        "  debias_avg_sqr = 1 - avg_sqr_beta**p.step_count\n",
        "\n",
        "  # Update the parameters by combining both the debiased moving averages as per the Adam formula\n",
        "  p.data = p.data - lr * (p.exp_avg / debias_avg) / ((p.exp_avg_sqr/debias_avg_sqr).sqrt() + eps)\n",
        "\n",
        "  return p\n",
        "adam_step._defaults = dict(momentum=0.9, sqr_momentum=0.99, eps=1e-5)\n",
        "\n",
        "# Define an optimisation function using Adam\n",
        "adam_opt_func = partial(Optimizer, steppers=[adam_step, weight_decay_step])"
      ],
      "execution_count": null,
      "outputs": []
    },
    {
      "cell_type": "code",
      "metadata": {
        "id": "mD8E-PN1nXJB"
      },
      "source": [
        "# Test Adam with Weight Decay with no parameter groups\n",
        "opt_func = partial(Optimizer, steppers=[adam_step, weight_decay_step], weight_decay=0.01)\n",
        "run_cnn_mnist(1, CNNArch(), lr=0.001, opt_func=opt_func, cbs=lr_cbs, repro=True)"
      ],
      "execution_count": null,
      "outputs": []
    },
    {
      "cell_type": "markdown",
      "metadata": {
        "id": "VcDy944jnf6-"
      },
      "source": [
        "### Lamb optimiser"
      ]
    },
    {
      "cell_type": "code",
      "metadata": {
        "id": "pWz5Wq0GOchR"
      },
      "source": [
        "#export\n",
        "\n",
        "#----------------------------------------------------\n",
        "# Lamb optimiser\n",
        "# Is an enhancement of Adam as the base algorithm\n",
        "#----------------------------------------------------\n",
        "def lamb_step(p, lr, momentum, sqr_momentum, eps, weight_decay, **kwargs):\n",
        "  # Initialise all the exponential moving averages to 0\n",
        "  if (getattr(p, 'exp_avg', None)) is None:\n",
        "    p.exp_avg = torch.zeros_like(p.grad.data)\n",
        "    p.exp_avg_sqr = torch.zeros_like(p.grad.data)\n",
        "    p.step_count = 0\n",
        "  \n",
        "  # Calculate the exponential moving averages using two different 'beta' hyperparameters\n",
        "  # Rename internal variables from momentum to beta for the calculations\n",
        "  avg_beta, avg_sqr_beta = momentum, sqr_momentum\n",
        "  p.exp_avg = p.exp_avg * avg_beta + ((1 - avg_beta) * p.grad.data)\n",
        "  p.exp_avg_sqr = p.exp_avg_sqr * avg_sqr_beta + ((1 - avg_sqr_beta) * p.grad.data * p.grad.data)\n",
        "\n",
        "  # Adjust both exponential moving averages using de-biasing\n",
        "  p.step_count += 1\n",
        "  debias_avg = 1 - avg_beta**p.step_count\n",
        "  debias_avg_sqr = 1 - avg_sqr_beta**p.step_count\n",
        "\n",
        "  # Calculate the ratios as per the Lamb formula\n",
        "  r1 = p.data.pow(2).mean().sqrt()\n",
        "  step = ((p.exp_avg / debias_avg) / ((p.exp_avg_sqr/debias_avg_sqr).sqrt() + eps)) + weight_decay * p.data\n",
        "  r2 = step.pow(2).mean().sqrt()\n",
        "\n",
        "  # Update the parameters by adjusting the learning rate as per the ratio\n",
        "  p.data = p.data - (lr * min(r1/r2, 10)) * step\n",
        "\n",
        "  return p\n",
        "lamb_step._defaults = dict(momentum=0.9, sqr_momentum=0.99, eps=1e-6, weight_decay=0.01)"
      ],
      "execution_count": null,
      "outputs": []
    },
    {
      "cell_type": "code",
      "metadata": {
        "id": "esqILyFznkge"
      },
      "source": [
        "# Test Lamb with no parameter groups\n",
        "opt_func = partial(Optimizer, steppers=[lamb_step])\n",
        "run_cnn_mnist(1, CNNArch(), lr=0.003, opt_func=opt_func, cbs=lr_cbs, repro=True)"
      ],
      "execution_count": null,
      "outputs": []
    },
    {
      "cell_type": "markdown",
      "metadata": {
        "id": "aZnU54hlR0kj"
      },
      "source": [
        "### Hyper Parameter Interface"
      ]
    },
    {
      "cell_type": "code",
      "metadata": {
        "id": "PbBlaLOA6Wkt"
      },
      "source": [
        "#export\n",
        "\n",
        "# -------------------\n",
        "# This should also include all the Variable LR logic from training_lib such as\n",
        "# the schedulers, Recorder, OptimCB and OneCycle convenience \n",
        "# It also includes the get_optimiser from optimiser_lib\n",
        "# This will go into optimser_lib\n",
        "# HyperParams have three arguments:\n",
        "#   1. Which module-layer groups (the parameter groups can be easily derived from that)\n",
        "#   2. Which hyperparameters to be used and what their (initial) values are\n",
        "#   3. How will those hyperparameters be varied\n",
        "#\n",
        "# Most commonly,\n",
        "#   2. We mostly use LR\n",
        "#   3. We vary LR and (maybe Momentum) using One Cycle\n",
        "#\n",
        "# HyperParams are largely managed by the Optimiser and OptimCB.\n",
        "# #1 and #2 are managed by the Optimiser class and #3 by the OptimCB.\n",
        "#     NB: The Schedulers and Recorders are simply supporting functions for the OptimCB\n",
        "# -------------------\n",
        "class HyperParams():\n",
        "  # !!!! NB: Cleaner API would be below, where 'hp' is other hyper params like weight decay\n",
        "  # !!!!  set(cls, module_groups, split_lr, hp=None, lr_sched=None, opt_func=adam_opt_func)\n",
        "\n",
        "  @classmethod\n",
        "  def set(cls, model, module_groups, split_lr, split=False, lr_sched=None, opt_func=adam_opt_func, **kwargs):\n",
        "    # split_lr is a list:\n",
        "    #   1. a single-element list [0.01] - same LR for all groups. \n",
        "    #        If 'Split' is False, there is only one group. \n",
        "    #        If 'Split' is True, there are multiple groups.\n",
        "    #   2. a multi-element list [0.01, 0.03, 0.05] - discriminative LR for different groups. \n",
        "    #        'Split' cannot be False\n",
        "    assert(isinstance(split_lr, list))\n",
        "    assert(len(split_lr) > 0)\n",
        "    assert(not ((split == False) and (len(split_lr) > 1)))\n",
        "\n",
        "    hyper_cbs = cls.variable_lr(split_lr, lr_sched, **kwargs)\n",
        "    opt = cls.discriminative_lr(model, module_groups, opt_func, split_lr, split)\n",
        "\n",
        "    return (opt, hyper_cbs)\n",
        "\n",
        "  # ----------------------------\n",
        "  # Initialise the Optimiser with parameter groups and hyperparameters for\n",
        "  # each group\n",
        "  # ----------------------------\n",
        "  @staticmethod\n",
        "  def discriminative_lr(model, module_groups, opt_func, split_lr, split):\n",
        "\n",
        "    lr = split_lr[0]\n",
        "    if (split):\n",
        "      # List of list of parameters by group\n",
        "      splitter_func = lambda m, mgs: [list(o.parameters()) for o in mgs]\n",
        "      splitter_func = partial (splitter_func, mgs=module_groups)\n",
        "\n",
        "      if (len(split_lr) == 1):\n",
        "        hypers_group = [{}] * len(module_groups)\n",
        "        opt_groups=(splitter_func, hypers_group, {'lr': lr})\n",
        "\n",
        "      elif (len(split_lr) > 1):\n",
        "        hypers_group = [{'lr': lr_g} for lr_g in split_lr]\n",
        "        opt_groups=(splitter_func, hypers_group, {})\n",
        "\n",
        "    else:\n",
        "      opt_groups = None\n",
        "\n",
        "    opt = get_optimiser(model, lr, opt_func, opt_groups)\n",
        "    return opt\n",
        "\n",
        "  # ----------------------------\n",
        "  # Create the callbacks required for Variable LRs\n",
        "  #\n",
        "  # NB: Right now it only supports this using One Cycle scheduling. So this function\n",
        "  # doesn't need to be called if 'one_cycle' is False. However we will extend it by\n",
        "  # adding other variable scheduling methods, so the caller simply calls it and gets\n",
        "  # back the list of callbacks without checking flags on the caller's side.\n",
        "  # !!!!!!!!!!! new implementation - correct default values of arguments\n",
        "  # ----------------------------\n",
        "  @staticmethod\n",
        "  def variable_lr(split_lr, lr_sched, **kwargs):\n",
        "    if (lr_sched == 'one_cycle'):\n",
        "      one_cycle_callbs = create_OneCycleCB(split_lr, phases=[0.3, 0.7], mom_start=0.95, mom_mid=0.85, mom_end=0.95)\n",
        "      return one_cycle_callbs\n",
        "    \n",
        "    elif (lr_sched == 'lrf'):\n",
        "      start_lr, end_lr, num_iter = kwargs['start_lr'], kwargs['end_lr'], kwargs['num_iter']\n",
        "      sched_lr = [combine_scheds([1.0], [sched_exp(start_lr, end_lr)])]\n",
        "      exp_callbs = [OptimParamCB('lr', sched_lr, total_iter=num_iter)]\n",
        "      return exp_callbs\n",
        "\n",
        "    else:\n",
        "      return []\n"
      ],
      "execution_count": null,
      "outputs": []
    },
    {
      "cell_type": "markdown",
      "metadata": {
        "id": "f67GwyU4Xe0L"
      },
      "source": [
        "### Export"
      ]
    },
    {
      "cell_type": "code",
      "metadata": {
        "id": "wPRG233iuTeu"
      },
      "source": [
        "!wget https://raw.githubusercontent.com/ketanhdoshi/ml/master/lib/nb_export.py"
      ],
      "execution_count": null,
      "outputs": []
    },
    {
      "cell_type": "code",
      "metadata": {
        "id": "VYy95Q_juc1i",
        "colab": {
          "base_uri": "https://localhost:8080/",
          "height": 34
        },
        "outputId": "7496298e-1eb3-4a56-aa52-79de2f2353d7"
      },
      "source": [
        "from nb_export import notebook2scriptSingle\n",
        "notebook2scriptSingle(gn_path + '/lib/optimiser_lib.ipynb', gn_path + '/exp')"
      ],
      "execution_count": null,
      "outputs": [
        {
          "output_type": "stream",
          "text": [
            "Converted gdrive/My Drive/Colab Notebooks/lib/optimiser_lib.ipynb to gdrive/My Drive/Colab Notebooks/exp/nb_optimiser.py\n"
          ],
          "name": "stdout"
        }
      ]
    }
  ]
}