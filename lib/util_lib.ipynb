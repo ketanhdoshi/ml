{
  "nbformat": 4,
  "nbformat_minor": 0,
  "metadata": {
    "colab": {
      "name": "util_lib.ipynb",
      "provenance": [],
      "collapsed_sections": [
        "u8UNSFTSWsmg",
        "9nkjVkRzWazh",
        "8TMmHP7hv5KT",
        "Lfrw2_85NgIr",
        "WyUrs2R5wFjy",
        "KeUA9XkD7aSi",
        "fx_T-xOuKXcp",
        "s8u2VWYnkoAu",
        "C3TgHCaJAOhb"
      ],
      "include_colab_link": true
    },
    "kernelspec": {
      "name": "python3",
      "display_name": "Python 3"
    },
    "accelerator": "GPU"
  },
  "cells": [
    {
      "cell_type": "markdown",
      "metadata": {
        "id": "view-in-github",
        "colab_type": "text"
      },
      "source": [
        "<a href=\"https://colab.research.google.com/github/ketanhdoshi/ml/blob/master/lib/util_lib.ipynb\" target=\"_parent\"><img src=\"https://colab.research.google.com/assets/colab-badge.svg\" alt=\"Open In Colab\"/></a>"
      ]
    },
    {
      "cell_type": "markdown",
      "metadata": {
        "id": "BDdnCokeWXC0"
      },
      "source": [
        "## Utility Functions"
      ]
    },
    {
      "cell_type": "markdown",
      "metadata": {
        "id": "u8UNSFTSWsmg"
      },
      "source": [
        "### Imports"
      ]
    },
    {
      "cell_type": "code",
      "metadata": {
        "id": "VIU2MWywWrbA"
      },
      "source": [
        "#export\n",
        "\n",
        "from fastai import datasets\n",
        "import pickle, gzip\n",
        "import matplotlib as mpl\n",
        "import matplotlib.pyplot as plt\n",
        "from typing import *\n",
        "from concurrent.futures import ProcessPoolExecutor\n",
        "import torch\n",
        "from torch import tensor\n",
        "import torch.nn.functional as F"
      ],
      "execution_count": null,
      "outputs": []
    },
    {
      "cell_type": "markdown",
      "metadata": {
        "id": "9nkjVkRzWazh"
      },
      "source": [
        "### MNIST Data"
      ]
    },
    {
      "cell_type": "code",
      "metadata": {
        "id": "dPF9BI0xWN8s"
      },
      "source": [
        "#export\n",
        "\n",
        "MNIST_URL='http://deeplearning.net/data/mnist/mnist.pkl'\n",
        "\n",
        "#----------------------------------------------------\n",
        "# Download Mnist dataset, unpickle it and convert from numpy arrays to tensors\n",
        "#----------------------------------------------------\n",
        "def get_mnist_data():\n",
        "  # Download the data\n",
        "  path = datasets.download_data(MNIST_URL, ext='.gz')\n",
        "    \n",
        "  # Unpickle the dataset\n",
        "  with gzip.open(path, 'rb') as f:\n",
        "    ((x_train, y_train), (x_valid, y_valid), _) = pickle.load(f, encoding='latin-1')\n",
        "    \n",
        "  # Convert from numpy arrays to tensors\n",
        "  return map(tensor, (x_train,y_train,x_valid,y_valid))"
      ],
      "execution_count": null,
      "outputs": []
    },
    {
      "cell_type": "code",
      "metadata": {
        "id": "r934zcDtWwt5",
        "colab": {
          "base_uri": "https://localhost:8080/"
        },
        "outputId": "b4897acd-e366-415b-8540-8bccc437a695"
      },
      "source": [
        "x_train,y_train,x_valid,y_valid = get_mnist_data()\n",
        "print (type(x_train), type(y_train), x_train.shape, y_train.shape, type(x_valid), type(y_valid), x_valid.shape, y_valid.shape)\n",
        "\n",
        "# Get the first image from the training set, reshape it to (28,28) and display it\n",
        "mpl.rcParams['image.cmap'] = 'gray'\n",
        "img = x_train[0]\n",
        "plt.imshow(img.view((28,28)))"
      ],
      "execution_count": null,
      "outputs": [
        {
          "output_type": "stream",
          "text": [
            "Downloading http://deeplearning.net/data/mnist/mnist.pkl.gz\n"
          ],
          "name": "stdout"
        },
        {
          "output_type": "display_data",
          "data": {
            "text/html": [
              ""
            ],
            "text/plain": [
              "<IPython.core.display.HTML object>"
            ]
          },
          "metadata": {
            "tags": []
          }
        },
        {
          "output_type": "stream",
          "text": [
            "<class 'torch.Tensor'> <class 'torch.Tensor'> torch.Size([50000, 784]) torch.Size([50000]) <class 'torch.Tensor'> <class 'torch.Tensor'> torch.Size([10000, 784]) torch.Size([10000])\n"
          ],
          "name": "stdout"
        },
        {
          "output_type": "execute_result",
          "data": {
            "text/plain": [
              "<matplotlib.image.AxesImage at 0x7f0a9b12dc88>"
            ]
          },
          "metadata": {
            "tags": []
          },
          "execution_count": 3
        },
        {
          "output_type": "display_data",
          "data": {
            "image/png": "[encoded data removed]",
            "text/plain": [
              "<Figure size 432x288 with 1 Axes>"
            ]
          },
          "metadata": {
            "tags": [],
            "needs_background": "light"
          }
        }
      ]
    },
    {
      "cell_type": "markdown",
      "metadata": {
        "id": "-XbzS0KVILuO"
      },
      "source": [
        "### Pickle save and load"
      ]
    },
    {
      "cell_type": "code",
      "metadata": {
        "id": "4xyPA7ZPs0Cb"
      },
      "source": [
        "#export\n",
        "\n",
        "def save_pickle(obj, pickle_dir, pickle_file):\n",
        "  pickle_dir.mkdir(exist_ok=True)\n",
        "  with open(pickle_dir/pickle_file, 'wb') as file_pi:\n",
        "    pickle.dump(obj, file_pi)\n",
        "\n",
        "def load_pickle(pickle_path):\n",
        "  with open(pickle_path, 'rb') as file_pi:\n",
        "    obj = pickle.load(file_pi)\n",
        "  return obj"
      ],
      "execution_count": null,
      "outputs": []
    },
    {
      "cell_type": "markdown",
      "metadata": {
        "id": "8TMmHP7hv5KT"
      },
      "source": [
        "### Tensor comparisons"
      ]
    },
    {
      "cell_type": "code",
      "metadata": {
        "id": "9nRJVv0RENX3"
      },
      "source": [
        "#export\n",
        "\n",
        "def test(a,b,cmp,cname=None):\n",
        "    if cname is None: cname=cmp.__name__\n",
        "    assert cmp(a,b),f\"{cname}:\\n{a}\\n{b}\"\n",
        "    \n",
        "#----------------------------------------------------\n",
        "# Check if two tensors are almost equal, within some tolerance\n",
        "#----------------------------------------------------\n",
        "def near(a,b): return torch.allclose(a, b, rtol=1e-3, atol=1e-5)\n",
        "def test_near(a,b): test(a,b,near)\n",
        "\n",
        "#----------------------------------------------------\n",
        "# Check if a value is close to zero, within some tolerance\n",
        "#----------------------------------------------------\n",
        "def test_near_zero(a,tol=1e-3): assert a.abs()<tol, f\"Near zero: {a}\""
      ],
      "execution_count": null,
      "outputs": []
    },
    {
      "cell_type": "markdown",
      "metadata": {
        "id": "Lfrw2_85NgIr"
      },
      "source": [
        "### Metrics Functions"
      ]
    },
    {
      "cell_type": "code",
      "metadata": {
        "id": "Ca1FxbtFE7Rw"
      },
      "source": [
        "#export\n",
        "\n",
        "def accuracy(out, yb): return (torch.argmax(out, dim=1)==yb).float().mean()\n",
        "\n",
        "def dice(pred, targs):\n",
        "  pred = (pred>0).float()\n",
        "  return 2. * (pred*targs).sum() / (pred+targs).sum()\n",
        "\n",
        "def accuracy_thresh(y_pred, y_true, thresh:float=0.5, sigmoid:bool=True):\n",
        "  if sigmoid: y_pred = y_pred.sigmoid()\n",
        "  return ((y_pred>thresh).byte()==y_true.byte()).float().mean()\n",
        "\n",
        "#----------------------------------------------------\n",
        "# Mean Square Error\n",
        "#----------------------------------------------------\n",
        "def mse(pred, targs):\n",
        "  error = F.mse_loss (pred, targs)\n",
        "  return error\n",
        "\n",
        "#----------------------------------------------------\n",
        "# Root Mean Square Error\n",
        "#----------------------------------------------------\n",
        "def rmse(pred, targs):\n",
        "  error = torch.sqrt(F.mse_loss (pred, targs))\n",
        "  return error\n",
        "\n",
        "#----------------------------------------------------\n",
        "# Root Mean Square Percentage Error\n",
        "#----------------------------------------------------\n",
        "def rmspe(pred, targs):\n",
        "  #error = rmse(torch.log(pred), torch.log(targs))\n",
        "\n",
        "  pred, targs = torch.exp(pred), torch.exp(targs)\n",
        "  pct_var = (targs - pred)/targs\n",
        "  perror = torch.sqrt((pct_var**2).mean())\n",
        "\n",
        "  #test_near_zero (perror - error)\n",
        "  return perror"
      ],
      "execution_count": null,
      "outputs": []
    },
    {
      "cell_type": "markdown",
      "metadata": {
        "id": "WyUrs2R5wFjy"
      },
      "source": [
        "### Number operations"
      ]
    },
    {
      "cell_type": "code",
      "metadata": {
        "id": "I1_7AVJ5wIa6"
      },
      "source": [
        "#export\n",
        "\n",
        "#----------------------------------------------------\n",
        "# Normalise data by subtracting the mean, and dividing by the standard deviation\n",
        "#----------------------------------------------------\n",
        "def normalize(x, m, s): return (x-m)/s\n",
        "\n",
        "#----------------------------------------------------\n",
        "# Convenience function to normalise the training and validation data using\n",
        "# the mean and std of the training data (never the validation data)\n",
        "#----------------------------------------------------\n",
        "def normalize_tr_val(x_train, x_valid):\n",
        "    m,s = x_train.mean(),x_train.std()\n",
        "    return normalize(x_train, m, s), normalize(x_valid, m, s)"
      ],
      "execution_count": null,
      "outputs": []
    },
    {
      "cell_type": "code",
      "metadata": {
        "id": "_xzea2k-yBF0"
      },
      "source": [
        "x_train,y_train,x_valid,y_valid = get_mnist_data()\n",
        "\n",
        "# Normalise the training data\n",
        "# After normalisation the training data will have mean=0, and std=1\n",
        "x_train = normalize(x_train, x_train.mean(), x_train.std())\n",
        "test_near_zero(x_train.mean())\n",
        "test_near_zero(1-x_train.std())"
      ],
      "execution_count": null,
      "outputs": []
    },
    {
      "cell_type": "markdown",
      "metadata": {
        "id": "KeUA9XkD7aSi"
      },
      "source": [
        "### Define a Utility ListContainer class to hold lists of objects"
      ]
    },
    {
      "cell_type": "code",
      "metadata": {
        "id": "y90TkrtP7hlv",
        "colab": {
          "base_uri": "https://localhost:8080/"
        },
        "outputId": "0fc47460-3226-453f-e88a-7a0eaf8a8300"
      },
      "source": [
        "#export\n",
        "\n",
        "#----------------------------------------------------\n",
        "# Convenience function to make a list\n",
        "#----------------------------------------------------\n",
        "def listify(o):\n",
        "    if o is None: return []\n",
        "    if isinstance(o, list): return o\n",
        "    if isinstance(o, str): return [o]\n",
        "    if isinstance(o, Iterable): return list(o)\n",
        "    return [o]\n",
        "\n",
        "#----------------------------------------------------\n",
        "# Utility class to hold lists of objects which allows indexing and slicing using:\n",
        "#     a single index\n",
        "#     a slice (like 1:5)\n",
        "#     a list of indices\n",
        "#     a mask of indices ([True,False,False,True,...])\n",
        "#  The __iter__ method is there to be able to do things like for x in ....\n",
        "#----------------------------------------------------\n",
        "class ListContainer():\n",
        "    def __init__(self, items): self.items = listify(items)\n",
        "    def __getitem__(self, idx):\n",
        "        if isinstance(idx, (int,slice)): return self.items[idx]\n",
        "        if isinstance(idx[0],bool):\n",
        "            assert len(idx)==len(self) # bool mask\n",
        "            return [o for m,o in zip(idx,self.items) if m]\n",
        "        return [self.items[i] for i in idx]\n",
        "    def __len__(self): return len(self.items)\n",
        "    def __iter__(self): return iter(self.items)\n",
        "    def __setitem__(self, i, o): self.items[i] = o\n",
        "    def __delitem__(self, i): del(self.items[i])\n",
        "    def __repr__(self):\n",
        "        res = f'{self.__class__.__name__} ({len(self)} items)\\n{self.items[:10]}'\n",
        "        if len(self)>10: res = res[:-1]+ '...]'\n",
        "        return res\n",
        "      \n",
        "t = ListContainer(range(10))\n",
        "t, t[[1,2]], t[[False]*8 + [True,False]]"
      ],
      "execution_count": null,
      "outputs": [
        {
          "output_type": "execute_result",
          "data": {
            "text/plain": [
              "(ListContainer (10 items)\n",
              " [0, 1, 2, 3, 4, 5, 6, 7, 8, 9], [1, 2], [8])"
            ]
          },
          "metadata": {
            "tags": []
          },
          "execution_count": 8
        }
      ]
    },
    {
      "cell_type": "markdown",
      "metadata": {
        "id": "fx_T-xOuKXcp"
      },
      "source": [
        "### Reproducible Random Numbers"
      ]
    },
    {
      "cell_type": "code",
      "metadata": {
        "id": "aMqVBiAHKdx0"
      },
      "source": [
        "#export\n",
        "\n",
        "#----------------------------------------------------\n",
        "# Used during troubleshooting to set the Random Number Generator to a known\n",
        "# state. Setting the random seed explicitly ensures that all model weights are \n",
        "# initialised to the same value each time\n",
        "#\n",
        "# To use it:\n",
        "#     Call DebugRand.set_seed() before operation\n",
        "#     Perform operation that requires random numbers \n",
        "#     Optionally, call DebugRand.show_state() after operation\n",
        "#----------------------------------------------------\n",
        "class DebugRand():\n",
        "  _pre=None\n",
        "\n",
        "  # By default, this function does nothing. Set this to true to enable the\n",
        "  # functionality\n",
        "  repro=False\n",
        "\n",
        "  @classmethod\n",
        "  def set_seed(cls, seed):\n",
        "    if (not cls.repro): return\n",
        "\n",
        "    # Save away the 'pre' RNG state before setting the seed, so that we can print \n",
        "    # it out later\n",
        "    cls._pre = cls._get_pre()\n",
        "    random.seed(seed)\n",
        "    np.random.seed(seed)\n",
        "    torch.manual_seed(seed)\n",
        "    torch.backends.cudnn.deterministic = True\n",
        "    torch.backends.cudnn.benchmark = False\n",
        "\n",
        "  @classmethod\n",
        "  def show_state(cls, *args):\n",
        "    if (not cls.repro): return\n",
        "\n",
        "    # Get the current RNG state 'post' the operation\n",
        "    cur = cls._get_pre()\n",
        "    print ('RNG State', cls._pre, cur, *args)\n",
        "    # Save the current state\n",
        "    cls._pre = cur\n",
        "\n",
        "  @staticmethod\n",
        "  def _get_pre(): \n",
        "    return torch.get_rng_state().float().mean()"
      ],
      "execution_count": null,
      "outputs": []
    },
    {
      "cell_type": "markdown",
      "metadata": {
        "id": "s8u2VWYnkoAu"
      },
      "source": [
        "### Compose Function"
      ]
    },
    {
      "cell_type": "code",
      "metadata": {
        "id": "NHe9fQsjDGyS"
      },
      "source": [
        "#export\n",
        "\n",
        "def compose(x, funcs, *args, order_key='_order', **kwargs):\n",
        "    key = lambda o: getattr(o, order_key, 0)\n",
        "    for f in sorted(listify(funcs), key=key): x = f(x, **kwargs)\n",
        "    return x"
      ],
      "execution_count": null,
      "outputs": []
    },
    {
      "cell_type": "markdown",
      "metadata": {
        "id": "C3TgHCaJAOhb"
      },
      "source": [
        "### Parallel Function"
      ]
    },
    {
      "cell_type": "code",
      "metadata": {
        "id": "gz0xUaZTAQgS"
      },
      "source": [
        "#export\n",
        "\n",
        "def parallel(func, arr, max_workers=4):\n",
        "    if max_workers<2: results = list(map(func, enumerate(arr)))\n",
        "    else:\n",
        "        with ProcessPoolExecutor(max_workers=max_workers) as ex:\n",
        "            return list(ex.map(func, enumerate(arr)))\n",
        "    if any([o is not None for o in results]): return results"
      ],
      "execution_count": null,
      "outputs": []
    },
    {
      "cell_type": "markdown",
      "metadata": {
        "id": "f67GwyU4Xe0L"
      },
      "source": [
        "### Export"
      ]
    },
    {
      "cell_type": "code",
      "metadata": {
        "id": "fW4wQjV2_Urn"
      },
      "source": [
        "from google.colab import drive\n",
        "drive.mount('/content/gdrive')\n",
        "gn_path = 'gdrive/My Drive/Colab Notebooks'  #change dir to your project folder"
      ],
      "execution_count": null,
      "outputs": []
    },
    {
      "cell_type": "code",
      "metadata": {
        "id": "wPRG233iuTeu"
      },
      "source": [
        "!wget https://raw.githubusercontent.com/ketanhdoshi/ml/master/lib/nb_export.py"
      ],
      "execution_count": null,
      "outputs": []
    },
    {
      "cell_type": "code",
      "metadata": {
        "id": "VYy95Q_juc1i",
        "colab": {
          "base_uri": "https://localhost:8080/",
          "height": 34
        },
        "outputId": "eab7fb6a-9f5f-4aec-ab98-c3b009de3995"
      },
      "source": [
        "from nb_export import notebook2scriptSingle\n",
        "notebook2scriptSingle(gn_path + '/lib/util_lib.ipynb', gn_path + '/exp')"
      ],
      "execution_count": null,
      "outputs": [
        {
          "output_type": "stream",
          "text": [
            "Converted gdrive/My Drive/Colab Notebooks/lib/util_lib.ipynb to gdrive/My Drive/Colab Notebooks/exp/nb_util.py\n"
          ],
          "name": "stdout"
        }
      ]
    }
  ]
}