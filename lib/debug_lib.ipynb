{
  "nbformat": 4,
  "nbformat_minor": 0,
  "metadata": {
    "colab": {
      "name": "debug_lib.ipynb",
      "provenance": [],
      "collapsed_sections": [
        "kxhHyhYIY7cZ",
        "CWAgtLVnJDjb",
        "CeZNXKDmJLhu",
        "L_xgyoAqAvgh",
        "f67GwyU4Xe0L"
      ],
      "authorship_tag": "ABX9TyPig+kuJy7QKcSEZceDtdk0",
      "include_colab_link": true
    },
    "kernelspec": {
      "name": "python3",
      "display_name": "Python 3"
    }
  },
  "cells": [
    {
      "cell_type": "markdown",
      "metadata": {
        "id": "view-in-github",
        "colab_type": "text"
      },
      "source": [
        "<a href=\"https://colab.research.google.com/github/ketanhdoshi/ml/blob/master/lib/debug_lib.ipynb\" target=\"_parent\"><img src=\"https://colab.research.google.com/assets/colab-badge.svg\" alt=\"Open In Colab\"/></a>"
      ]
    },
    {
      "cell_type": "code",
      "metadata": {
        "id": "fW4wQjV2_Urn",
        "colab": {
          "base_uri": "https://localhost:8080/",
          "height": 122
        },
        "outputId": "2c90983d-989d-446d-8147-0389f4351d9d"
      },
      "source": [
        "from google.colab import drive\n",
        "drive.mount('/content/gdrive')\n",
        "gn_path = 'gdrive/My Drive/Colab Notebooks'  #change dir to your project folder\n",
        "\n",
        "import sys\n",
        "sys.path.insert(1, gn_path + '/exp')"
      ],
      "execution_count": null,
      "outputs": [
        {
          "output_type": "stream",
          "text": [
            "Go to this URL in a browser: https://accounts.google.com/o/oauth2/auth?client_id=947318989803-6bn6qk8qdgf4n4g3pfee6491hc0brc4i.apps.googleusercontent.com&redirect_uri=urn%3aietf%3awg%3aoauth%3a2.0%3aoob&response_type=code&scope=email%20https%3a%2f%2fwww.googleapis.com%2fauth%2fdocs.test%20https%3a%2f%2fwww.googleapis.com%2fauth%2fdrive%20https%3a%2f%2fwww.googleapis.com%2fauth%2fdrive.photos.readonly%20https%3a%2f%2fwww.googleapis.com%2fauth%2fpeopleapi.readonly\n",
            "\n",
            "Enter your authorization code:\n",
            "··········\n",
            "Mounted at /content/gdrive\n"
          ],
          "name": "stdout"
        }
      ]
    },
    {
      "cell_type": "code",
      "metadata": {
        "id": "qzi16Mb6qpD1"
      },
      "source": [
        "from nb_training import Callback"
      ],
      "execution_count": null,
      "outputs": []
    },
    {
      "cell_type": "markdown",
      "metadata": {
        "id": "kxhHyhYIY7cZ"
      },
      "source": [
        "### Performance Profiling"
      ]
    },
    {
      "cell_type": "code",
      "metadata": {
        "id": "BVrf4ypLBUzg"
      },
      "source": [
        "! pip install line_profiler\n",
        "%load_ext line_profiler"
      ],
      "execution_count": null,
      "outputs": []
    },
    {
      "cell_type": "code",
      "metadata": {
        "id": "WF1X5hixFB0n"
      },
      "source": [
        "%lprun -f previous_applications previous_applications(full_pa_path)"
      ],
      "execution_count": null,
      "outputs": []
    },
    {
      "cell_type": "code",
      "metadata": {
        "id": "jdVeyEpWYG4v"
      },
      "source": [
        "%lprun -f _my_roll_cat -f _my_roll_cont my_pa(full_pa_path)"
      ],
      "execution_count": null,
      "outputs": []
    },
    {
      "cell_type": "code",
      "metadata": {
        "id": "JzKCZeVVZeM7"
      },
      "source": [
        "%lprun -f TabularItemList._roll_cat -f TabularItemList._roll_cont foo_il.time_rollup(df_name='previous_application', index=['SK_ID_CURR'], group_cols=['NAME_CONTRACT_STATUS'], cat_cols=pa_agg_cat, agg_cont = pa_agg_cont)"
      ],
      "execution_count": null,
      "outputs": []
    },
    {
      "cell_type": "markdown",
      "metadata": {
        "id": "CWAgtLVnJDjb"
      },
      "source": [
        "### Memory Profiling"
      ]
    },
    {
      "cell_type": "code",
      "metadata": {
        "id": "aRvjR3pn5dTU"
      },
      "source": [
        "import resource\n",
        "usage = resource.getrusage(resource.RUSAGE_SELF).ru_maxrss"
      ],
      "execution_count": null,
      "outputs": []
    },
    {
      "cell_type": "code",
      "metadata": {
        "id": "hEAmIT0l6nBa"
      },
      "source": [
        "import linecache\n",
        "import os\n",
        "import tracemalloc\n",
        "\n",
        "def display_top(snapshot, key_type='lineno', limit=3):\n",
        "    snapshot = snapshot.filter_traces((\n",
        "        tracemalloc.Filter(False, \"<frozen importlib._bootstrap>\"),\n",
        "        tracemalloc.Filter(False, \"<unknown>\"),\n",
        "    ))\n",
        "    top_stats = snapshot.statistics(key_type)\n",
        "\n",
        "    print(\"Top %s lines\" % limit)\n",
        "    for index, stat in enumerate(top_stats[:limit], 1):\n",
        "        frame = stat.traceback[0]\n",
        "        # replace \"/path/to/module/file.py\" with \"module/file.py\"\n",
        "        filename = os.sep.join(frame.filename.split(os.sep)[-2:])\n",
        "        print(\"#%s: %s:%s: %.1f KiB\"\n",
        "              % (index, filename, frame.lineno, stat.size / 1024))\n",
        "        line = linecache.getline(frame.filename, frame.lineno).strip()\n",
        "        if line:\n",
        "            print('    %s' % line)\n",
        "\n",
        "    other = top_stats[limit:]\n",
        "    if other:\n",
        "        size = sum(stat.size for stat in other)\n",
        "        print(\"%s other: %.1f KiB\" % (len(other), size / 1024))\n",
        "    total = sum(stat.size for stat in top_stats)\n",
        "    print(\"Total allocated size: %.1f KiB\" % (total / 1024))"
      ],
      "execution_count": null,
      "outputs": []
    },
    {
      "cell_type": "code",
      "metadata": {
        "id": "axSY09S9yauf"
      },
      "source": [
        "tracemalloc.start()\n",
        "\n",
        "hcdb = TabularDataBundle(main_file_path, related_csv_paths=related_csv_paths)\n",
        "train_il = hcdb._do_load(**hcdb.load_params)\n",
        "\n",
        "snapshot = tracemalloc.take_snapshot()\n",
        "display_top(snapshot)\n",
        "\n",
        "current, peak = tracemalloc.get_traced_memory()\n",
        "print(f\"Current memory usage is {current / 10**6}MB; Peak was {peak / 10**6}MB\")\n",
        "tracemalloc.stop()"
      ],
      "execution_count": null,
      "outputs": []
    },
    {
      "cell_type": "code",
      "metadata": {
        "id": "RdBDUnnkts6f"
      },
      "source": [
        "!pip install objgraph\n",
        "import objgraph\n",
        "objgraph.show_most_common_types()"
      ],
      "execution_count": null,
      "outputs": []
    },
    {
      "cell_type": "code",
      "metadata": {
        "id": "houlUxu504Ky"
      },
      "source": [
        "x = []\n",
        "y = [x, [x], dict(x=x)]\n",
        "objgraph.show_refs([hcdb])"
      ],
      "execution_count": null,
      "outputs": []
    },
    {
      "cell_type": "code",
      "metadata": {
        "id": "m8SjeFocNqEs"
      },
      "source": [
        "def get_size(obj, seen=None):\n",
        "    \"\"\"Recursively finds size of objects\"\"\"\n",
        "    size = sys.getsizeof(obj)\n",
        "    if seen is None:\n",
        "        seen = set()\n",
        "    obj_id = id(obj)\n",
        "    if obj_id in seen:\n",
        "        return 0\n",
        "    # Important mark as seen *before* entering recursion to gracefully handle\n",
        "    # self-referential objects\n",
        "    seen.add(obj_id)\n",
        "    if isinstance(obj, dict):\n",
        "        size += sum([get_size(v, seen) for v in obj.values()])\n",
        "        size += sum([get_size(k, seen) for k in obj.keys()])\n",
        "    elif hasattr(obj, '__dict__'):\n",
        "        size += get_size(obj.__dict__, seen)\n",
        "    elif hasattr(obj, '__iter__') and not isinstance(obj, (str, bytes, bytearray)):\n",
        "        size += sum([get_size(i, seen) for i in obj])\n",
        "    return size"
      ],
      "execution_count": null,
      "outputs": []
    },
    {
      "cell_type": "code",
      "metadata": {
        "id": "v0w_2q9eNsNH"
      },
      "source": [
        "get_size(thc_app.db.train_ds.x.items) / 1024 **2"
      ],
      "execution_count": null,
      "outputs": []
    },
    {
      "cell_type": "code",
      "metadata": {
        "id": "_AGgiwGfN1Kx"
      },
      "source": [
        "sys.getsizeof(thc_app.db.train_ds.x.items) / 1024 **2"
      ],
      "execution_count": null,
      "outputs": []
    },
    {
      "cell_type": "code",
      "metadata": {
        "id": "dgk3JYF8JxMC"
      },
      "source": [
        "import objgraph\n",
        "objgraph.show_refs([thc_app])"
      ],
      "execution_count": null,
      "outputs": []
    },
    {
      "cell_type": "code",
      "metadata": {
        "id": "I0QWDE45KIW-"
      },
      "source": [
        "objgraph.show_backrefs([thc_app])"
      ],
      "execution_count": null,
      "outputs": []
    },
    {
      "cell_type": "code",
      "metadata": {
        "id": "mFkuY0XIKjIG"
      },
      "source": [
        "objgraph.show_growth(limit=10)\n",
        "thc_app = AppTabular()\n",
        "thc_app.load_data(TabularHomeCreditDataBundle, main_file_path, None, related_csv_paths)\n",
        "objgraph.show_growth()"
      ],
      "execution_count": null,
      "outputs": []
    },
    {
      "cell_type": "code",
      "metadata": {
        "id": "9rp-1Tuq5IsZ"
      },
      "source": [
        "tracemalloc.start()\n",
        "\n",
        "thc_app = AppTabular()\n",
        "#thc_app.load_data(TabularHomeCreditDataBundle, main_file_path, test_file_path, related_csv_paths)\n",
        "thc_app.load_data(TabularHomeCreditDataBundle, main_file_path, None, related_csv_paths)\n",
        "\n",
        "snapshot = tracemalloc.take_snapshot()\n",
        "display_top(snapshot)\n",
        "\n",
        "current, peak = tracemalloc.get_traced_memory()\n",
        "print(f\"Current memory usage is {current / 10**6}MB; Peak was {peak / 10**6}MB\")\n",
        "tracemalloc.stop()"
      ],
      "execution_count": null,
      "outputs": []
    },
    {
      "cell_type": "code",
      "metadata": {
        "id": "qeublU4PNpZw"
      },
      "source": [
        "from guppy import hpy\n",
        "def dump_heap(h, i):\n",
        "   “””\n",
        "   @param h: The heap (from hp = hpy(), h = hp.heap())\n",
        "   @param i: Identifier str\n",
        "   “””\n",
        "  \n",
        "   print “Dumping stats at: {0}”.format(i)\n",
        "   print ‘Memory usage: {0} (MB)’.format(resource.getrusage(resource.RUSAGE_SELF).ru_maxrss/1024)\n",
        "   print “Most common types:”\n",
        "   objgraph.show_most_common_types()\n",
        "  \n",
        "   print “heap is:”\n",
        "   print “{0}”.format(h)\n",
        "  \n",
        "   by_refs = h.byrcs\n",
        "   print “by references: {0}”.format(by_refs)\n",
        "  \n",
        "   print “More stats for top element..”\n",
        "   print “By clodo (class or dict owner): {0}”.format(by_refs[0].byclodo)\n",
        "   print “By size: {0}”.format(by_refs[0].bysize)\n",
        "   print “By id: {0}”.format(by_refs[0].byid)"
      ],
      "execution_count": null,
      "outputs": []
    },
    {
      "cell_type": "markdown",
      "metadata": {
        "id": "CeZNXKDmJLhu"
      },
      "source": [
        "### Stack Trace"
      ]
    },
    {
      "cell_type": "code",
      "metadata": {
        "id": "BkTMBfTcNmmY"
      },
      "source": [
        "\n",
        "import inspect\n",
        "from inspect import currentframe, getframeinfo\n",
        "from pandas.core.common import SettingWithCopyError\n",
        "def istack():\n",
        "    try:\n",
        "      pd.options.mode.chained_assignment = 'raise'\n",
        "    except SettingWithCopyError:\n",
        "      print('handling..')\n",
        "      fns = inspect.trace()\n",
        "      for fn in fns:\n",
        "        _, filename, lineno, function, code_context, index = fn\n",
        "        print (f'File: {filename}, Line: {lineno}, Fn: {function}, Ctx: {code_context}, Idx: {index}')\n",
        "\n",
        "      frameinfo = getframeinfo(currentframe())\n",
        "      print(frameinfo.function, frameinfo.lineno, frameinfo.code_context)"
      ],
      "execution_count": null,
      "outputs": []
    },
    {
      "cell_type": "markdown",
      "metadata": {
        "id": "L_xgyoAqAvgh"
      },
      "source": [
        "### Model Computation Graph\n",
        "\n",
        "Pytorchviz [library](https://github.com/szagoruyko/pytorchviz) and examples. Additional [notes](https://stackoverflow.com/questions/52468956/how-do-i-visualize-a-net-in-pytorch) and how to save image to a file.\n",
        "\n",
        "Another Option is [HiddenLayer](https://github.com/waleedka/hiddenlayer) library"
      ]
    },
    {
      "cell_type": "code",
      "metadata": {
        "id": "348BdeTy2ibu"
      },
      "source": [
        "#export\n",
        "\n",
        "#----------------------------------------------------\n",
        "# Use Pytorchviz and make_dot library to generate model's back propagation\n",
        "# graph starting from the loss node\n",
        "#----------------------------------------------------\n",
        "def show_graph(model, loss, file_path=None):\n",
        "  !pip install torchviz\n",
        "  from torchviz import make_dot\n",
        "\n",
        "  graph = make_dot(loss, params=dict(model.named_parameters()))\n",
        "  if (file_path is not None):\n",
        "    graph.render(file_path, format=\"png\")\n",
        "  return (graph)\n",
        "\n",
        "#----------------------------------------------------\n",
        "# Debug Graph Callback to generate dynamic computation graph\n",
        "#----------------------------------------------------\n",
        "class DebugGraphCB(Callback):\n",
        "  def end_tr(self, ctx):\n",
        "    ctx.graph = show_graph(ctx.model, ctx.loss)"
      ],
      "execution_count": null,
      "outputs": []
    },
    {
      "cell_type": "markdown",
      "metadata": {
        "id": "f67GwyU4Xe0L"
      },
      "source": [
        "### Export"
      ]
    },
    {
      "cell_type": "code",
      "metadata": {
        "id": "wPRG233iuTeu",
        "colab": {
          "base_uri": "https://localhost:8080/",
          "height": 204
        },
        "outputId": "b77605e2-3973-4b8f-9d27-fe6dda2d4255"
      },
      "source": [
        "!wget https://raw.githubusercontent.com/ketanhdoshi/ml/master/lib/nb_export.py"
      ],
      "execution_count": null,
      "outputs": [
        {
          "output_type": "stream",
          "text": [
            "--2020-05-16 06:19:16--  https://raw.githubusercontent.com/ketanhdoshi/ml/master/lib/nb_export.py\n",
            "Resolving raw.githubusercontent.com (raw.githubusercontent.com)... 151.101.0.133, 151.101.64.133, 151.101.128.133, ...\n",
            "Connecting to raw.githubusercontent.com (raw.githubusercontent.com)|151.101.0.133|:443... connected.\n",
            "HTTP request sent, awaiting response... 200 OK\n",
            "Length: 1477 (1.4K) [text/plain]\n",
            "Saving to: ‘nb_export.py’\n",
            "\n",
            "\rnb_export.py          0%[                    ]       0  --.-KB/s               \rnb_export.py        100%[===================>]   1.44K  --.-KB/s    in 0s      \n",
            "\n",
            "2020-05-16 06:19:17 (268 MB/s) - ‘nb_export.py’ saved [1477/1477]\n",
            "\n"
          ],
          "name": "stdout"
        }
      ]
    },
    {
      "cell_type": "code",
      "metadata": {
        "id": "VYy95Q_juc1i",
        "colab": {
          "base_uri": "https://localhost:8080/",
          "height": 34
        },
        "outputId": "9b15d889-8930-4849-a20c-b44207231999"
      },
      "source": [
        "from nb_export import notebook2scriptSingle\n",
        "notebook2scriptSingle(gn_path + '/lib/debug_lib.ipynb', gn_path + '/exp')"
      ],
      "execution_count": null,
      "outputs": [
        {
          "output_type": "stream",
          "text": [
            "Converted gdrive/My Drive/Colab Notebooks/lib/debug_lib.ipynb to gdrive/My Drive/Colab Notebooks/exp/nb_debug.py\n"
          ],
          "name": "stdout"
        }
      ]
    }
  ]
}