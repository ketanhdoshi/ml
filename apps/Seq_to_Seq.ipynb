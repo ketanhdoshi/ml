{
  "nbformat": 4,
  "nbformat_minor": 0,
  "metadata": {
    "colab": {
      "name": "Seq-to-Seq.ipynb",
      "version": "0.3.2",
      "provenance": [],
      "collapsed_sections": []
    },
    "kernelspec": {
      "name": "python3",
      "display_name": "Python 3"
    },
    "accelerator": "GPU"
  },
  "cells": [
    {
      "cell_type": "markdown",
      "metadata": {
        "id": "CfXIKU5v167A",
        "colab_type": "text"
      },
      "source": [
        "### Character-level Sequence-to-Sequence for Machine Translation - [Keras tutorial](https://blog.keras.io/a-ten-minute-introduction-to-sequence-to-sequence-learning-in-keras.html)\n",
        "\n",
        "implement a basic character-level sequence-to-sequence model to translate short English sentences into short French sentences, character-by-character. Note that it is fairly unusual to do character-level, rather than word-level machine translation."
      ]
    },
    {
      "cell_type": "code",
      "metadata": {
        "id": "ioXSmJB12Ccz",
        "colab_type": "code",
        "outputId": "ba987438-9b2d-4d17-e6f9-919b1d90aa02",
        "colab": {
          "base_uri": "https://localhost:8080/",
          "height": 646
        }
      },
      "source": [
        "# Use a dataset of pairs of English sentences and their French translation\n",
        "\n",
        "!wget http://www.manythings.org/anki/fra-eng.zip\n",
        "!unzip fra-eng.zip -d fra-eng\n",
        "!more fra-eng/fra.txt"
      ],
      "execution_count": 1,
      "outputs": [
        {
          "output_type": "stream",
          "text": [
            "--2019-07-19 04:02:11--  http://www.manythings.org/anki/fra-eng.zip\n",
            "Resolving www.manythings.org (www.manythings.org)... 104.24.109.196, 104.24.108.196, 2606:4700:30::6818:6dc4, ...\n",
            "Connecting to www.manythings.org (www.manythings.org)|104.24.109.196|:80... connected.\n",
            "HTTP request sent, awaiting response... 200 OK\n",
            "Length: 3467257 (3.3M) [application/zip]\n",
            "Saving to: ‘fra-eng.zip’\n",
            "\n",
            "fra-eng.zip         100%[===================>]   3.31M  2.15MB/s    in 1.5s    \n",
            "\n",
            "2019-07-19 04:02:13 (2.15 MB/s) - ‘fra-eng.zip’ saved [3467257/3467257]\n",
            "\n",
            "Archive:  fra-eng.zip\n",
            "  inflating: fra-eng/_about.txt      \n",
            "  inflating: fra-eng/fra.txt         \n",
            "Go.\tVa !\n",
            "Hi.\tSalut !\n",
            "Hi.\tSalut.\n",
            "Run!\tCours !\n",
            "Run!\tCourez !\n",
            "Who?\tQui ?\n",
            "Wow!\tÇa alors !\n",
            "Fire!\tAu feu !\n",
            "Help!\tÀ l'aide !\n",
            "Jump.\tSaute.\n",
            "Stop!\tÇa suffit !\n",
            "Stop!\tStop !\n",
            "Stop!\tArrête-toi !\n",
            "Wait!\tAttends !\n",
            "Wait!\tAttendez !\n",
            "Go on.\tPoursuis.\n",
            "Go on.\tContinuez.\n",
            "Go on.\tPoursuivez.\n",
            "Hello!\tBonjour !\n",
            "Hello!\tSalut !\n",
            "I see.\tJe comprends.\n",
            "I try.\tJ'essaye.\n",
            "I won!\tJ'ai gagné !\n",
            "\u001b[K"
          ],
          "name": "stdout"
        }
      ]
    },
    {
      "cell_type": "markdown",
      "metadata": {
        "id": "HgmwigA45aCS",
        "colab_type": "text"
      },
      "source": [
        "A few samples from the dataset\n",
        "\n",
        "Stop!\tArrête-toi !\n",
        "\n",
        "Wait!\tAttends !\n",
        "\n",
        "Wait!\tAttendez !\n",
        "\n",
        "Go on.\tPoursuis.\n",
        "\n",
        "Go on.\tContinuez.\n",
        "\n",
        "Go on.\tPoursuivez."
      ]
    },
    {
      "cell_type": "code",
      "metadata": {
        "id": "p3n1IIBX30HC",
        "colab_type": "code",
        "colab": {}
      },
      "source": [
        "from __future__ import print_function\n",
        "\n",
        "from keras.models import Model\n",
        "from keras.layers import Input, LSTM, Dense\n",
        "import numpy as np\n",
        "\n",
        "batch_size = 64  # Batch size for training.\n",
        "epochs = 100  # Number of epochs to train for.\n",
        "latent_dim = 256  # Latent dimensionality of the encoding space.\n",
        "num_samples = 10000  # Number of samples to train on.\n",
        "# Path to the data txt file on disk.\n",
        "data_path = 'fra-eng/fra.txt'"
      ],
      "execution_count": 0,
      "outputs": []
    },
    {
      "cell_type": "code",
      "metadata": {
        "id": "xtb8b7W_9GlV",
        "colab_type": "code",
        "outputId": "82ac805b-b89b-48c6-9543-c7109be5b7b0",
        "colab": {
          "base_uri": "https://localhost:8080/",
          "height": 85
        }
      },
      "source": [
        "def word2char (line):\n",
        "   char = [c for c in line]\n",
        "   return char \n",
        "\n",
        "def max_sentence_length (char_sentences):\n",
        "  max_sentence_length = 0\n",
        "  for char_sentence in char_sentences:\n",
        "    max_sentence_length = max (max_sentence_length, len (char_sentence))\n",
        "  return (max_sentence_length)    \n",
        "\n",
        "eng_char_sentences = []\n",
        "fr_char_sentences = []\n",
        "fr_char_sentences_shift = []\n",
        "with open(data_path, \"r\") as fp:\n",
        "  # Read the file line by line\n",
        "  line = fp.readline()\n",
        "  samples = 0\n",
        "  while line and (samples < num_samples):\n",
        "    # Split the line as <eng_sentence>TAB<fr_sentence>\n",
        "    eng_sentence,fr_sentence = line.split('\\t')\n",
        "    fr_sentence_shift = fr_sentence\n",
        "    fr_sentence = '\\t' + fr_sentence\n",
        "    \n",
        "    # Convert the sentence from a string to an array of characters\n",
        "    eng_char_sentence = word2char (eng_sentence)\n",
        "    fr_char_sentence = word2char (fr_sentence)\n",
        "    fr_char_sentence_shift = word2char (fr_sentence_shift)\n",
        "    \n",
        "    # Add to the array of sentences, each sentence in turn being an array of characters\n",
        "    eng_char_sentences.append (eng_char_sentence)\n",
        "    fr_char_sentences.append (fr_char_sentence)\n",
        "    fr_char_sentences_shift.append (fr_char_sentence_shift)\n",
        "    samples = samples + 1\n",
        "    line = fp.readline()\n",
        "\n",
        "# Get the length of the longest sentence\n",
        "max_eng_sentence_length = max_sentence_length (eng_char_sentences)\n",
        "max_fr_sentence_length = max_sentence_length (fr_char_sentences)\n",
        "\n",
        "print (len (eng_char_sentences), len (fr_char_sentences))\n",
        "print (eng_char_sentences[10], fr_char_sentences[10], fr_char_sentences_shift[10])\n",
        "print (eng_char_sentences[75], fr_char_sentences[75], fr_char_sentences_shift[75])\n",
        "print (max_eng_sentence_length, max_fr_sentence_length)"
      ],
      "execution_count": 0,
      "outputs": [
        {
          "output_type": "stream",
          "text": [
            "10000 10000\n",
            "['S', 't', 'o', 'p', '!'] ['\\t', 'Ç', 'a', ' ', 's', 'u', 'f', 'f', 'i', 't', '\\u202f', '!', '\\n'] ['Ç', 'a', ' ', 's', 'u', 'f', 'f', 'i', 't', '\\u202f', '!', '\\n']\n",
            "['A', 'w', 'e', 's', 'o', 'm', 'e', '!'] ['\\t', 'F', 'a', 'n', 't', 'a', 's', 't', 'i', 'q', 'u', 'e', '\\u202f', '!', '\\n'] ['F', 'a', 'n', 't', 'a', 's', 't', 'i', 'q', 'u', 'e', '\\u202f', '!', '\\n']\n",
            "16 59\n"
          ],
          "name": "stdout"
        }
      ]
    },
    {
      "cell_type": "code",
      "metadata": {
        "id": "3w_hjlg6Hd35",
        "colab_type": "code",
        "outputId": "7c9b71bc-2914-4741-a609-674cc8477c5a",
        "colab": {
          "base_uri": "https://localhost:8080/",
          "height": 34
        }
      },
      "source": [
        "def vocab (char_sentences):\n",
        "  merged_chars = [char for char_sentence in char_sentences for char in char_sentence]\n",
        "  vocab_chars = sorted (set (merged_chars))\n",
        "  vocab_size = len (vocab_chars)\n",
        "  return (vocab_chars, vocab_size)\n",
        "\n",
        "# Get the set of characters in the vocab\n",
        "eng_vocab_chars, eng_vocab_size = vocab (eng_char_sentences)\n",
        "fr_vocab_chars, fr_vocab_size = vocab (fr_char_sentences)\n",
        "\n",
        "eng_vocab_size, fr_vocab_size"
      ],
      "execution_count": 0,
      "outputs": [
        {
          "output_type": "execute_result",
          "data": {
            "text/plain": [
              "(70, 93)"
            ]
          },
          "metadata": {
            "tags": []
          },
          "execution_count": 4
        }
      ]
    },
    {
      "cell_type": "code",
      "metadata": {
        "id": "zCBUQme8JWd3",
        "colab_type": "code",
        "outputId": "2b436128-e44e-4e75-873b-0ef53f5b5cd2",
        "colab": {
          "base_uri": "https://localhost:8080/",
          "height": 51
        }
      },
      "source": [
        "# Dictionary to map from char to char_index in the vocab\n",
        "eng_vocab_dict = {c:i for i, c in enumerate (eng_vocab_chars)}\n",
        "fr_vocab_dict = {c:i for i, c in enumerate (fr_vocab_chars)}\n",
        "\n",
        "# Char -> index\n",
        "def char2idx (vocab_dict, c):\n",
        "  return (vocab_dict [c])\n",
        "\n",
        "# Index -> char\n",
        "def idx2char (vocab_chars, i):\n",
        "  return (vocab_chars[i])\n",
        "  \n",
        "print (char2idx (eng_vocab_dict, 'G'))\n",
        "print (idx2char (eng_vocab_chars, 7))"
      ],
      "execution_count": 0,
      "outputs": [
        {
          "output_type": "stream",
          "text": [
            "26\n",
            "-\n"
          ],
          "name": "stdout"
        }
      ]
    },
    {
      "cell_type": "code",
      "metadata": {
        "id": "s_2LwRv6LntS",
        "colab_type": "code",
        "colab": {}
      },
      "source": [
        "encoder_input_data = np.zeros((num_samples, max_eng_sentence_length, eng_vocab_size), dtype='float32')\n",
        "decoder_input_data = np.zeros((num_samples, max_fr_sentence_length, fr_vocab_size), dtype='float32')\n",
        "decoder_target_data = np.zeros((num_samples, max_fr_sentence_length, fr_vocab_size), dtype='float32')\n",
        "\n",
        "def char_indices (data, char_sentences, vocab_dict):\n",
        "  for i, char_sentence in enumerate (char_sentences):\n",
        "    for j, char in enumerate (char_sentence):\n",
        "      idx = char2idx (vocab_dict, char)\n",
        "      #print (char_sentence, i, j, idx)\n",
        "      data [i, j, idx] = 1.0\n",
        "\n",
        "char_indices (encoder_input_data, eng_char_sentences, eng_vocab_dict)\n",
        "char_indices (decoder_input_data, fr_char_sentences, fr_vocab_dict)\n",
        "char_indices (decoder_target_data, fr_char_sentences_shift, fr_vocab_dict)"
      ],
      "execution_count": 0,
      "outputs": []
    },
    {
      "cell_type": "code",
      "metadata": {
        "id": "7bb1RbgEb1As",
        "colab_type": "code",
        "colab": {}
      },
      "source": [
        "num_encoder_tokens = eng_vocab_size\n",
        "num_decoder_tokens = fr_vocab_size\n",
        "\n",
        "# Define an input sequence and process it.\n",
        "encoder_inputs = Input(shape=(None, num_encoder_tokens))\n",
        "encoder = LSTM(latent_dim, return_state=True)\n",
        "encoder_outputs, state_h, state_c = encoder(encoder_inputs)\n",
        "# We discard `encoder_outputs` and only keep the states.\n",
        "encoder_states = [state_h, state_c]\n",
        "\n",
        "# Set up the decoder, using `encoder_states` as initial state.\n",
        "decoder_inputs = Input(shape=(None, num_decoder_tokens))\n",
        "# We set up our decoder to return full output sequences,\n",
        "# and to return internal states as well. We don't use the\n",
        "# return states in the training model, but we will use them in inference.\n",
        "decoder_lstm = LSTM(latent_dim, return_sequences=True, return_state=True)\n",
        "decoder_outputs, _, _ = decoder_lstm(decoder_inputs,\n",
        "                                     initial_state=encoder_states)\n",
        "decoder_dense = Dense(num_decoder_tokens, activation='softmax')\n",
        "decoder_outputs = decoder_dense(decoder_outputs)\n",
        "\n",
        "# Define the model that will turn\n",
        "# `encoder_input_data` & `decoder_input_data` into `decoder_target_data`\n",
        "model = Model([encoder_inputs, decoder_inputs], decoder_outputs)\n",
        "\n",
        "# Run training\n",
        "model.compile(optimizer='rmsprop', loss='categorical_crossentropy')\n",
        "model.fit([encoder_input_data, decoder_input_data], decoder_target_data,\n",
        "          batch_size=batch_size,\n",
        "          epochs=epochs,\n",
        "          validation_split=0.2)"
      ],
      "execution_count": 0,
      "outputs": []
    },
    {
      "cell_type": "code",
      "metadata": {
        "id": "dr4XkIgypbDZ",
        "colab_type": "code",
        "outputId": "cf2a2e45-e545-4c6c-c90a-1bebcb2b1aed",
        "colab": {
          "base_uri": "https://localhost:8080/",
          "height": 1000
        }
      },
      "source": [
        "max_encoder_seq_length = max_eng_sentence_length\n",
        "max_decoder_seq_length = max_fr_sentence_length\n",
        "input_token_index = eng_vocab_dict\n",
        "target_token_index = fr_vocab_dict\n",
        "input_texts = eng_char_sentences\n",
        "\n",
        "# Next: inference mode (sampling).\n",
        "# 1) encode input and retrieve initial decoder state\n",
        "# 2) run one step of decoder with this initial state and a \"start of sequence\" token as target.\n",
        "# Output will be the next target token\n",
        "# 3) Repeat with the current target token and current states\n",
        "\n",
        "# Define sampling models\n",
        "encoder_model = Model(encoder_inputs, encoder_states)\n",
        "\n",
        "decoder_state_input_h = Input(shape=(latent_dim,))\n",
        "decoder_state_input_c = Input(shape=(latent_dim,))\n",
        "decoder_states_inputs = [decoder_state_input_h, decoder_state_input_c]\n",
        "decoder_outputs, state_h, state_c = decoder_lstm(\n",
        "    decoder_inputs, initial_state=decoder_states_inputs)\n",
        "decoder_states = [state_h, state_c]\n",
        "decoder_outputs = decoder_dense(decoder_outputs)\n",
        "decoder_model = Model(\n",
        "    [decoder_inputs] + decoder_states_inputs,\n",
        "    [decoder_outputs] + decoder_states)\n",
        "\n",
        "# Reverse-lookup token index to decode sequences back to\n",
        "# something readable.\n",
        "reverse_input_char_index = dict(\n",
        "    (i, char) for char, i in input_token_index.items())\n",
        "reverse_target_char_index = dict(\n",
        "    (i, char) for char, i in target_token_index.items())\n",
        "\n",
        "\n",
        "def decode_sequence(input_seq):\n",
        "    # Encode the input as state vectors.\n",
        "    states_value = encoder_model.predict(input_seq)\n",
        "\n",
        "    # Generate empty target sequence of length 1.\n",
        "    target_seq = np.zeros((1, 1, num_decoder_tokens))\n",
        "    # Populate the first character of target sequence with the start character.\n",
        "    target_seq[0, 0, target_token_index['\\t']] = 1.\n",
        "\n",
        "    # Sampling loop for a batch of sequences\n",
        "    # (to simplify, here we assume a batch of size 1).\n",
        "    stop_condition = False\n",
        "    decoded_sentence = ''\n",
        "    while not stop_condition:\n",
        "        output_tokens, h, c = decoder_model.predict(\n",
        "            [target_seq] + states_value)\n",
        "        \n",
        "        #print ('Target seq = ', target_seq.shape)\n",
        "\n",
        "        # Sample a token\n",
        "        sampled_token_index = np.argmax(output_tokens[0, -1, :])\n",
        "        sampled_char = reverse_target_char_index[sampled_token_index]\n",
        "        decoded_sentence += sampled_char\n",
        "\n",
        "        # Exit condition: either hit max length\n",
        "        # or find stop character.\n",
        "        if (sampled_char == '\\n' or\n",
        "           len(decoded_sentence) > max_decoder_seq_length):\n",
        "            stop_condition = True\n",
        "\n",
        "        # KD - the original logic was to always use a target sequence\n",
        "        # of length 1, which we update with the last sampled token. We\n",
        "        # also feed the states_value back as the initial_state for the\n",
        "        # next iteration\n",
        "        #\n",
        "        # The alternate logic which I tried was to keep extending the target\n",
        "        # sequence in each iteration, so that the last sampled token is appended\n",
        "        # to the previous target sequence. If we do that we don't change the\n",
        "        # initial_state value at all, and continue to use the earlier value\n",
        "        #\n",
        "        # Both alternates are giving the same results. But I should experiment\n",
        "        # some more, try out other unseen input sequences and see how both\n",
        "        # alternates perform\n",
        "        kdAlternate = True\n",
        "        if (kdAlternate):\n",
        "          b = np.zeros((1, target_seq.shape[1] + 1, num_decoder_tokens))\n",
        "          b[:,:-1] = target_seq\n",
        "          b[0, -1, sampled_token_index] = 1.\n",
        "          target_seq = b\n",
        "        else:\n",
        "          # Update the target sequence (of length 1).\n",
        "          target_seq = np.zeros((1, 1, num_decoder_tokens))\n",
        "          target_seq[0, 0, sampled_token_index] = 1.\n",
        "\n",
        "          # Update states\n",
        "          states_value = [h, c]\n",
        "\n",
        "    return decoded_sentence\n",
        "\n",
        "\n",
        "for seq_index in range(20):\n",
        "    # Take one sequence (part of the training set)\n",
        "    # for trying out decoding.\n",
        "    input_seq = encoder_input_data[seq_index: seq_index + 1]\n",
        "    decoded_sentence = decode_sequence(input_seq)\n",
        "    print('-')\n",
        "    print('Input sentence:', input_texts[seq_index])\n",
        "    print('Decoded sentence:', decoded_sentence)"
      ],
      "execution_count": 0,
      "outputs": [
        {
          "output_type": "stream",
          "text": [
            "-\n",
            "Input sentence: ['G', 'o', '.']\n",
            "Decoded sentence: Va !\n",
            "\n",
            "-\n",
            "Input sentence: ['H', 'i', '.']\n",
            "Decoded sentence: Salut !\n",
            "\n",
            "-\n",
            "Input sentence: ['H', 'i', '.']\n",
            "Decoded sentence: Salut !\n",
            "\n",
            "-\n",
            "Input sentence: ['R', 'u', 'n', '!']\n",
            "Decoded sentence: Cours !\n",
            "\n",
            "-\n",
            "Input sentence: ['R', 'u', 'n', '!']\n",
            "Decoded sentence: Cours !\n",
            "\n",
            "-\n",
            "Input sentence: ['W', 'h', 'o', '?']\n",
            "Decoded sentence: Qui ?\n",
            "\n",
            "-\n",
            "Input sentence: ['W', 'o', 'w', '!']\n",
            "Decoded sentence: Ça alors !\n",
            "\n",
            "-\n",
            "Input sentence: ['F', 'i', 'r', 'e', '!']\n",
            "Decoded sentence: Au feu !\n",
            "\n",
            "-\n",
            "Input sentence: ['H', 'e', 'l', 'p', '!']\n",
            "Decoded sentence: À l'aide !\n",
            "\n",
            "-\n",
            "Input sentence: ['J', 'u', 'm', 'p', '.']\n",
            "Decoded sentence: Saute.\n",
            "\n",
            "-\n",
            "Input sentence: ['S', 't', 'o', 'p', '!']\n",
            "Decoded sentence: Arrête-toi !\n",
            "\n",
            "-\n",
            "Input sentence: ['S', 't', 'o', 'p', '!']\n",
            "Decoded sentence: Arrête-toi !\n",
            "\n",
            "-\n",
            "Input sentence: ['S', 't', 'o', 'p', '!']\n",
            "Decoded sentence: Arrête-toi !\n",
            "\n",
            "-\n",
            "Input sentence: ['W', 'a', 'i', 't', '!']\n",
            "Decoded sentence: Attendez !\n",
            "\n",
            "-\n",
            "Input sentence: ['W', 'a', 'i', 't', '!']\n",
            "Decoded sentence: Attendez !\n",
            "\n",
            "-\n",
            "Input sentence: ['G', 'o', ' ', 'o', 'n', '.']\n",
            "Decoded sentence: Poursuis.\n",
            "\n",
            "-\n",
            "Input sentence: ['G', 'o', ' ', 'o', 'n', '.']\n",
            "Decoded sentence: Poursuis.\n",
            "\n",
            "-\n",
            "Input sentence: ['G', 'o', ' ', 'o', 'n', '.']\n",
            "Decoded sentence: Poursuis.\n",
            "\n",
            "-\n",
            "Input sentence: ['H', 'e', 'l', 'l', 'o', '!']\n",
            "Decoded sentence: Bonjour !\n",
            "\n",
            "-\n",
            "Input sentence: ['H', 'e', 'l', 'l', 'o', '!']\n",
            "Decoded sentence: Bonjour !\n",
            "\n"
          ],
          "name": "stdout"
        }
      ]
    },
    {
      "cell_type": "code",
      "metadata": {
        "id": "i2nm6iQm2Enq",
        "colab_type": "code",
        "outputId": "f15ae776-7ba7-4c03-ecdf-f7f7084dd7d7",
        "colab": {
          "base_uri": "https://localhost:8080/",
          "height": 153
        }
      },
      "source": [
        "# TEMP - just for trial experimentation, can be removed\n",
        "N = 6\n",
        "a = np.random.rand(1, 1, N)\n",
        "b = np.zeros((1, a.shape[1] + 1, N))\n",
        "b[:,:-1] = a\n",
        "a, b, a.shape, b.shape"
      ],
      "execution_count": 0,
      "outputs": [
        {
          "output_type": "execute_result",
          "data": {
            "text/plain": [
              "(array([[[0.19266532, 0.60973315, 0.18075967, 0.07692063, 0.48325006,\n",
              "          0.5832694 ]]]),\n",
              " array([[[0.19266532, 0.60973315, 0.18075967, 0.07692063, 0.48325006,\n",
              "          0.5832694 ],\n",
              "         [0.        , 0.        , 0.        , 0.        , 0.        ,\n",
              "          0.        ]]]),\n",
              " (1, 1, 6),\n",
              " (1, 2, 6))"
            ]
          },
          "metadata": {
            "tags": []
          },
          "execution_count": 30
        }
      ]
    },
    {
      "cell_type": "code",
      "metadata": {
        "id": "QDRVwRTHtFvt",
        "colab_type": "code",
        "outputId": "093e0ab6-4076-4199-e80b-19bb428e63f7",
        "colab": {
          "base_uri": "https://localhost:8080/",
          "height": 136
        }
      },
      "source": [
        "# Trying to understand shapes - move this into an earlier cell\n",
        "print (encoder_inputs, '\\n', encoder_outputs, '\\n', state_h, '\\n', state_c)\n",
        "print (decoder_inputs, '\\n', decoder_outputs, '\\n', decoder_states_inputs)"
      ],
      "execution_count": 0,
      "outputs": [
        {
          "output_type": "stream",
          "text": [
            "Tensor(\"input_3:0\", shape=(?, ?, 70), dtype=float32) \n",
            " Tensor(\"lstm_3/TensorArrayReadV3:0\", shape=(?, 256), dtype=float32) \n",
            " Tensor(\"lstm_4_4/while/Exit_2:0\", shape=(?, 256), dtype=float32) \n",
            " Tensor(\"lstm_4_4/while/Exit_3:0\", shape=(?, 256), dtype=float32)\n",
            "Tensor(\"input_4:0\", shape=(?, ?, 93), dtype=float32) \n",
            " Tensor(\"dense_2_4/truediv:0\", shape=(?, ?, 93), dtype=float32) \n",
            " [<tf.Tensor 'input_11:0' shape=(?, 256) dtype=float32>, <tf.Tensor 'input_12:0' shape=(?, 256) dtype=float32>]\n"
          ],
          "name": "stdout"
        }
      ]
    }
  ]
}